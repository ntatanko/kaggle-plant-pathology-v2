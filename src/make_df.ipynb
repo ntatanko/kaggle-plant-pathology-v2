{
 "cells": [
  {
   "cell_type": "code",
   "execution_count": 1,
   "metadata": {},
   "outputs": [],
   "source": [
    "import pandas as pd"
   ]
  },
  {
   "cell_type": "code",
   "execution_count": 86,
   "metadata": {},
   "outputs": [],
   "source": [
    "# labeled images from test_20\n",
    "test_20_labeled = pd.read_csv('../_data/df_csv/test20_labeled.csv', index_col=[0])\n",
    "\n",
    "# original labels\n",
    "orig_labels = pd.read_csv('../_data/df_csv/train_0.csv')\n",
    "\n",
    "# duplicates 21\n",
    "duplicates = pd.read_csv('../_data/df_csv/list_to_drop.csv')\n",
    "\n",
    "# labels without duplicates 21\n",
    "labels = pd.read_csv('../_data/df_csv/train_labels.csv')\n",
    "\n",
    "# labels 20\n",
    "labels_2020 = pd.read_csv('../_data/df_csv/train_20.csv')\n",
    "\n",
    "# bounding boxes model from colab 999 images\n",
    "df_crop1 = pd.read_csv('../_data/df_csv/df_boxes.csv' , index_col=[0]) #2021\n",
    "df_crop2 = pd.read_csv('../_data/df_csv/df_boxes_20.csv', index_col=[0]) #2020\n",
    "df_crop = pd.read_csv('../_data/df_csv/df_boxes_colab.csv', index_col=[0]) #20+21\n",
    "\n",
    "# labels 21+20 without comlex20\n",
    "labels_21_20 = pd.read_csv('../_data/df_csv/labels_21_20.csv', index_col=[0])\n",
    "\n",
    "# labels 21+20 without comlex20 plus labeled images from test_20 with complex\n",
    "labels_21_20_plus_test20 = pd.read_csv('../_data/df_csv/labels_21_20_plus_test20.csv', index_col=[0])\n",
    "\n",
    "# labeled images from test_20 without complex\n",
    "test_20_labeled_without_complex = pd.read_csv('../_data/df_csv/test_20_labeled_without_complex.csv', index_col=[0])\n",
    "\n",
    "# labels 21+20 without comlex20 plus labeled images from test_20 without complex\n",
    "labels_21_20_plus_test20_without_complex = pd.read_csv('../_data/df_csv/labels_21_20_plus_test20_without_complex.csv', index_col=[0])\n"
   ]
  },
  {
   "cell_type": "code",
   "execution_count": 87,
   "metadata": {},
   "outputs": [
    {
     "data": {
      "text/html": [
       "<div>\n",
       "<style scoped>\n",
       "    .dataframe tbody tr th:only-of-type {\n",
       "        vertical-align: middle;\n",
       "    }\n",
       "\n",
       "    .dataframe tbody tr th {\n",
       "        vertical-align: top;\n",
       "    }\n",
       "\n",
       "    .dataframe thead th {\n",
       "        text-align: right;\n",
       "    }\n",
       "</style>\n",
       "<table border=\"1\" class=\"dataframe\">\n",
       "  <thead>\n",
       "    <tr style=\"text-align: right;\">\n",
       "      <th></th>\n",
       "      <th>x_min</th>\n",
       "      <th>y_min</th>\n",
       "      <th>x_max</th>\n",
       "      <th>y_max</th>\n",
       "    </tr>\n",
       "  </thead>\n",
       "  <tbody>\n",
       "    <tr>\n",
       "      <th>bfc6d90f402f4c34.jpg</th>\n",
       "      <td>0.168664</td>\n",
       "      <td>0.147781</td>\n",
       "      <td>0.769752</td>\n",
       "      <td>0.896313</td>\n",
       "    </tr>\n",
       "    <tr>\n",
       "      <th>9eb93fe282326266.jpg</th>\n",
       "      <td>0.188170</td>\n",
       "      <td>0.403469</td>\n",
       "      <td>0.792868</td>\n",
       "      <td>0.818566</td>\n",
       "    </tr>\n",
       "    <tr>\n",
       "      <th>f4cb3a8f41b413e4.jpg</th>\n",
       "      <td>0.066045</td>\n",
       "      <td>0.078917</td>\n",
       "      <td>0.813638</td>\n",
       "      <td>0.931608</td>\n",
       "    </tr>\n",
       "    <tr>\n",
       "      <th>98322eab16bef2c1.jpg</th>\n",
       "      <td>0.213681</td>\n",
       "      <td>0.308594</td>\n",
       "      <td>0.765903</td>\n",
       "      <td>0.938598</td>\n",
       "    </tr>\n",
       "    <tr>\n",
       "      <th>dad5d6250cae80b7.jpg</th>\n",
       "      <td>0.009096</td>\n",
       "      <td>0.232706</td>\n",
       "      <td>0.856984</td>\n",
       "      <td>0.925184</td>\n",
       "    </tr>\n",
       "    <tr>\n",
       "      <th>...</th>\n",
       "      <td>...</td>\n",
       "      <td>...</td>\n",
       "      <td>...</td>\n",
       "      <td>...</td>\n",
       "    </tr>\n",
       "    <tr>\n",
       "      <th>Test_1140.jpg</th>\n",
       "      <td>0.082660</td>\n",
       "      <td>0.224326</td>\n",
       "      <td>0.790734</td>\n",
       "      <td>0.938389</td>\n",
       "    </tr>\n",
       "    <tr>\n",
       "      <th>Test_606.jpg</th>\n",
       "      <td>0.333407</td>\n",
       "      <td>0.360054</td>\n",
       "      <td>0.687298</td>\n",
       "      <td>0.749096</td>\n",
       "    </tr>\n",
       "    <tr>\n",
       "      <th>Train_701.jpg</th>\n",
       "      <td>0.128120</td>\n",
       "      <td>0.017819</td>\n",
       "      <td>0.961691</td>\n",
       "      <td>0.984454</td>\n",
       "    </tr>\n",
       "    <tr>\n",
       "      <th>Train_395.jpg</th>\n",
       "      <td>0.092582</td>\n",
       "      <td>0.128696</td>\n",
       "      <td>0.959880</td>\n",
       "      <td>0.958929</td>\n",
       "    </tr>\n",
       "    <tr>\n",
       "      <th>Test_1097.jpg</th>\n",
       "      <td>0.044111</td>\n",
       "      <td>0.107032</td>\n",
       "      <td>0.856519</td>\n",
       "      <td>0.853704</td>\n",
       "    </tr>\n",
       "  </tbody>\n",
       "</table>\n",
       "<p>22274 rows × 4 columns</p>\n",
       "</div>"
      ],
      "text/plain": [
       "                         x_min     y_min     x_max     y_max\n",
       "bfc6d90f402f4c34.jpg  0.168664  0.147781  0.769752  0.896313\n",
       "9eb93fe282326266.jpg  0.188170  0.403469  0.792868  0.818566\n",
       "f4cb3a8f41b413e4.jpg  0.066045  0.078917  0.813638  0.931608\n",
       "98322eab16bef2c1.jpg  0.213681  0.308594  0.765903  0.938598\n",
       "dad5d6250cae80b7.jpg  0.009096  0.232706  0.856984  0.925184\n",
       "...                        ...       ...       ...       ...\n",
       "Test_1140.jpg         0.082660  0.224326  0.790734  0.938389\n",
       "Test_606.jpg          0.333407  0.360054  0.687298  0.749096\n",
       "Train_701.jpg         0.128120  0.017819  0.961691  0.984454\n",
       "Train_395.jpg         0.092582  0.128696  0.959880  0.958929\n",
       "Test_1097.jpg         0.044111  0.107032  0.856519  0.853704\n",
       "\n",
       "[22274 rows x 4 columns]"
      ]
     },
     "execution_count": 87,
     "metadata": {},
     "output_type": "execute_result"
    }
   ],
   "source": [
    "df_crop"
   ]
  },
  {
   "cell_type": "code",
   "execution_count": 4,
   "metadata": {},
   "outputs": [],
   "source": [
    "import os\n",
    "import json\n",
    "import numpy as np\n",
    "import pandas as pd\n",
    "from IPython.core.interactiveshell import InteractiveShell\n",
    "\n",
    "InteractiveShell.ast_node_interactivity = \"all\"\n",
    "import warnings\n",
    "\n",
    "warnings.filterwarnings(\"ignore\")\n",
    "\n",
    "import matplotlib.pyplot as plt\n",
    "\n",
    "%matplotlib inline\n",
    "\n",
    "import sklearn\n",
    "import tensorflow as tf\n",
    "import tensorflow_addons as tfa\n",
    "from PIL import Image\n",
    "\n",
    "from sklearn.model_selection import (\n",
    "    StratifiedKFold,\n",
    "    StratifiedShuffleSplit,\n",
    "    train_test_split,\n",
    ")\n",
    "from tensorflow import keras\n",
    "from tensorflow.keras.applications.efficientnet import EfficientNetB4, EfficientNetB7, EfficientNetB0\n",
    "from tensorflow.keras.layers import (\n",
    "    AveragePooling2D,\n",
    "    AvgPool2D,\n",
    "    Conv2D,\n",
    "    Dense,\n",
    "    Flatten,\n",
    "    GlobalAveragePooling2D,\n",
    "    MaxPooling2D,\n",
    ")\n",
    "from tensorflow.keras.models import Sequential\n",
    "from tensorflow.keras.optimizers import Adam\n",
    "from tensorflow.keras.preprocessing.image import ImageDataGenerator\n",
    "from tqdm import notebook, tqdm"
   ]
  },
  {
   "cell_type": "code",
   "execution_count": 60,
   "metadata": {},
   "outputs": [],
   "source": [
    "PATH = \"/app/_data/\"\n",
    "PATH_JSON1 = '/app/_data/json/1071_big.json'\n",
    "PATH_JSON2 = '/app/_data/json/part_2_bb.json'\n",
    "BATCH_SIZE = 64\n",
    "SEED = 37\n",
    "IMAGE_SIZE = 224\n",
    "NUM_CLASSES = 6\n",
    "TRAIN_IMG_PATH = \"/app/_data/train_images/\"\n",
    "TEST_IMG_PATH = \"/app/_data/test_images/\"\n",
    "feature_columns = ['complex', 'frog_eye_leaf_spot', 'healthy', 'powdery_mildew', 'rust', 'scab']"
   ]
  },
  {
   "cell_type": "code",
   "execution_count": 6,
   "metadata": {},
   "outputs": [],
   "source": [
    "# labels = labels.join(labels[\"labels\"].str.get_dummies(sep=\" \"))\n",
    "# feature_columns = labels.columns[2:].tolist()\n",
    "# labels_2020[\"image_id\"] = labels_2020[\"image_id\"] + \".jpg\"\n",
    "# labels_2020.columns = [\"image\", \"healthy\", \"complex\", \"rust\", \"scab\"]\n",
    "# labels_2020 = labels_2020.query(\"complex !=1\").reset_index(drop=True)\n",
    "# labels_2020 = labels_2020[[\"image\", \"healthy\", \"rust\", \"scab\"]]\n",
    "# feature_columns_20 = [\"healthy\", \"rust\", \"scab\"]\n",
    "# for i in labels_2020.index:\n",
    "#     labels_2020.loc[i, \"labels_20\"] = \"\".join(\n",
    "#         list(\n",
    "#             map(\n",
    "#                 lambda x, y: x * y,\n",
    "#                 labels_2020.loc[i, feature_columns_20].values,\n",
    "#                 feature_columns_20,\n",
    "#             )\n",
    "#         )\n",
    "#     )\n",
    "# labels_21_20 = pd.concat([labels, labels_2020], axis=0, join=\"outer\", ignore_index=True)\n",
    "# labels_21_20[feature_columns] = labels_21_20[feature_columns].fillna(0).astype(\"int\")\n",
    "# labels_21_20[\"labels\"] = labels_21_20[\"labels\"].fillna(labels_21_20[\"labels_20\"])\n",
    "# labels_21_20 = labels_21_20.drop(\"labels_20\", axis=1)\n",
    "# # labels_21_20.to_csv('../_data/df_csv/labels_21_20.csv')\n",
    "# labels_21_20.tail(2)"
   ]
  },
  {
   "cell_type": "code",
   "execution_count": 7,
   "metadata": {},
   "outputs": [],
   "source": [
    "# labels_21_20_plus_test20 =  pd.concat([labels_21_20, test_20_labeled], axis=0, join=\"outer\", ignore_index=True)"
   ]
  },
  {
   "cell_type": "code",
   "execution_count": 8,
   "metadata": {},
   "outputs": [],
   "source": [
    "# labels_21_20_plus_test20.to_csv('../_data/df_csv/labels_21_20_plus_test20.csv')\n"
   ]
  },
  {
   "cell_type": "code",
   "execution_count": 37,
   "metadata": {},
   "outputs": [],
   "source": [
    "def count_unique_labels(df):\n",
    "    col = feature_columns\n",
    "    dct = {}\n",
    "    for i in col:\n",
    "        cnt = df[df[i]==1].shape[0]\n",
    "        dct[i]=cnt\n",
    "    return dct"
   ]
  },
  {
   "cell_type": "code",
   "execution_count": 38,
   "metadata": {},
   "outputs": [],
   "source": [
    "d = count_unique_labels(labels_21_20_plus_test20_without_complex)"
   ]
  },
  {
   "cell_type": "code",
   "execution_count": 41,
   "metadata": {},
   "outputs": [
    {
     "data": {
      "text/plain": [
       "{'complex': 2120,\n",
       " 'frog_eye_leaf_spot': 4428,\n",
       " 'healthy': 5172,\n",
       " 'powdery_mildew': 1275,\n",
       " 'rust': 2774,\n",
       " 'scab': 7038}"
      ]
     },
     "execution_count": 41,
     "metadata": {},
     "output_type": "execute_result"
    }
   ],
   "source": [
    "d"
   ]
  },
  {
   "cell_type": "code",
   "execution_count": 67,
   "metadata": {},
   "outputs": [],
   "source": [
    "def get_imgs_upsample(df, num_samples, num_frac):\n",
    "    \"\"\"\n",
    "    df - dataframe\n",
    "    num_samples - до скольки увеличивать топ6 labels\n",
    "    num_frac - во сколько раз увеличивать топ6-12 labels\n",
    "    \"\"\"\n",
    "    val_count = df['labels'].value_counts()\n",
    "    top_6 = val_count.index[:6].tolist()\n",
    "    top_6_12 = val_count.index[6:12]\n",
    "    data_top_6 = pd.DataFrame()\n",
    "    data_top_6_12 = pd.DataFrame()\n",
    "    for i in top_6:\n",
    "        cnt = val_count[i]\n",
    "        if cnt<=num_samples:\n",
    "            sample = df[df['labels']==i].sample(n=num_samples-cnt, replace=True, random_state=SEED)\n",
    "            data_top_6 = pd.concat([data_top_6, sample], axis=0, ignore_index=True)\n",
    "    for i in top_6_12:\n",
    "        cnt = val_count[i]\n",
    "        if 500<cnt<=1000:\n",
    "            sample = df[df['labels']==i].sample(n=num_samples-cnt, replace=True, random_state=SEED)\n",
    "            data_top_6_12 = pd.concat([data_top_6_12, sample], axis=0, ignore_index=True)\n",
    "        else:\n",
    "            sample = df[df['labels']==i].sample(n=cnt*num_frac, replace=True, random_state=SEED)\n",
    "            data_top_6_12 = pd.concat([data_top_6_12, sample], axis=0, ignore_index=True)\n",
    "    final_df = pd.concat([data_top_6, data_top_6_12], axis=0, ignore_index=True)\n",
    "    return final_df"
   ]
  },
  {
   "cell_type": "code",
   "execution_count": 73,
   "metadata": {},
   "outputs": [],
   "source": [
    "def get_imgs_upsample(df, num_samples, num_frac):\n",
    "    \"\"\"\n",
    "    df - dataframe\n",
    "    num_samples - до скольки увеличивать топ6 labels\n",
    "    num_frac - во сколько раз увеличивать топ6-12 labels\n",
    "    \"\"\"\n",
    "    val_count = df['labels'].value_counts()\n",
    "    top_12 = val_count.index[:12].tolist()\n",
    "    data = pd.DataFrame()\n",
    "    for i in top_12:\n",
    "        cnt = val_count[i]\n",
    "        if 666<cnt<=num_samples:\n",
    "            sample = df[df['labels']==i].sample(n=num_samples-cnt, replace=True, random_state=SEED)\n",
    "            data = pd.concat([data, sample], axis=0, ignore_index=True)\n",
    "        if cnt<=666:\n",
    "            sample = df[df['labels']==i].sample(n=cnt*num_frac, replace=True, random_state=SEED)\n",
    "            data = pd.concat([data, sample], axis=0, ignore_index=True)\n",
    "    final_df = data\n",
    "    return final_df"
   ]
  },
  {
   "cell_type": "code",
   "execution_count": 74,
   "metadata": {},
   "outputs": [],
   "source": [
    "ups_df = get_imgs_upsample(df = labels, num_samples=2000, num_frac=3)"
   ]
  },
  {
   "cell_type": "code",
   "execution_count": 75,
   "metadata": {},
   "outputs": [
    {
     "data": {
      "text/plain": [
       "scab                               4809\n",
       "healthy                            4604\n",
       "frog_eye_leaf_spot                 3175\n",
       "powdery_mildew                     2000\n",
       "rust                               2000\n",
       "complex                            2000\n",
       "scab frog_eye_leaf_spot            2000\n",
       "scab frog_eye_leaf_spot complex     800\n",
       "frog_eye_leaf_spot complex          660\n",
       "rust frog_eye_leaf_spot             472\n",
       "rust complex                        364\n",
       "powdery_mildew complex              348\n",
       "Name: labels, dtype: int64"
      ]
     },
     "execution_count": 75,
     "metadata": {},
     "output_type": "execute_result"
    },
    {
     "data": {
      "text/plain": [
       "scab                               4809\n",
       "healthy                            4604\n",
       "frog_eye_leaf_spot                 3175\n",
       "rust                               1812\n",
       "complex                            1577\n",
       "powdery_mildew                     1180\n",
       "scab frog_eye_leaf_spot             682\n",
       "scab frog_eye_leaf_spot complex     200\n",
       "frog_eye_leaf_spot complex          165\n",
       "rust frog_eye_leaf_spot             118\n",
       "rust complex                         91\n",
       "powdery_mildew complex               87\n",
       "Name: labels, dtype: int64"
      ]
     },
     "execution_count": 75,
     "metadata": {},
     "output_type": "execute_result"
    }
   ],
   "source": [
    "labels_ups = pd.concat([labels, ups_df], axis=0, ignore_index=True)\n",
    "labels_ups['labels'].value_counts()\n",
    "labels['labels'].value_counts()"
   ]
  },
  {
   "cell_type": "code",
   "execution_count": null,
   "metadata": {},
   "outputs": [],
   "source": []
  }
 ],
 "metadata": {
  "kernelspec": {
   "display_name": "Python 3",
   "language": "python",
   "name": "python3"
  },
  "language_info": {
   "codemirror_mode": {
    "name": "ipython",
    "version": 3
   },
   "file_extension": ".py",
   "mimetype": "text/x-python",
   "name": "python",
   "nbconvert_exporter": "python",
   "pygments_lexer": "ipython3",
   "version": "3.8.5"
  }
 },
 "nbformat": 4,
 "nbformat_minor": 4
}
