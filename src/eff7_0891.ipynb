{
 "cells": [
  {
   "cell_type": "code",
   "execution_count": null,
   "metadata": {},
   "outputs": [],
   "source": []
  },
  {
   "cell_type": "code",
   "execution_count": null,
   "metadata": {},
   "outputs": [],
   "source": []
  },
  {
   "cell_type": "code",
   "execution_count": 16,
   "metadata": {},
   "outputs": [
    {
     "name": "stdout",
     "output_type": "stream",
     "text": [
      "Warning: Your Kaggle API key is readable by other users on this system! To fix this, you can run 'chmod 600 /app/kaggle.json'\n"
     ]
    }
   ],
   "source": [
    "# import kaggle"
   ]
  },
  {
   "cell_type": "code",
   "execution_count": 17,
   "metadata": {},
   "outputs": [
    {
     "name": "stdout",
     "output_type": "stream",
     "text": [
      "Warning: Your Kaggle API key is readable by other users on this system! To fix this, you can run 'chmod 600 /app/kaggle.json'\n",
      "Data package template written to: /app/_data/models/eff4_kf/0865fulltrain/dataset-metadata.json\n"
     ]
    }
   ],
   "source": [
    "# ! kaggle datasets init -p /app/_data/models/eff4_kf/0865fulltrain/"
   ]
  },
  {
   "cell_type": "code",
   "execution_count": 18,
   "metadata": {},
   "outputs": [
    {
     "name": "stdout",
     "output_type": "stream",
     "text": [
      "Warning: Your Kaggle API key is readable by other users on this system! To fix this, you can run 'chmod 600 /app/kaggle.json'\n",
      "Starting upload for file eff4_ns_0865_kf_v2_5.h5\n",
      "100%|█████████████████████████████████████████| 203M/203M [04:50<00:00, 732kB/s]\n",
      "Upload successful: eff4_ns_0865_kf_v2_5.h5 (203MB)\n",
      "Starting upload for file eff4_ns_0865_kf_v2_3.h5\n",
      "100%|█████████████████████████████████████████| 203M/203M [04:51<00:00, 732kB/s]\n",
      "Upload successful: eff4_ns_0865_kf_v2_3.h5 (203MB)\n",
      "Starting upload for file eff4_ns_0865_kf_v2_2.h5\n",
      "100%|█████████████████████████████████████████| 203M/203M [04:50<00:00, 733kB/s]\n",
      "Upload successful: eff4_ns_0865_kf_v2_2.h5 (203MB)\n",
      "Starting upload for file eff4_ns_0865_kf_v2_4.h5\n",
      "100%|█████████████████████████████████████████| 203M/203M [04:50<00:00, 732kB/s]\n",
      "Upload successful: eff4_ns_0865_kf_v2_4.h5 (203MB)\n",
      "Skipping folder: .ipynb_checkpoints; use '--dir-mode' to upload folders\n",
      "Starting upload for file eff4_ns_0865_kf_v2_1.h5\n",
      "100%|█████████████████████████████████████████| 203M/203M [04:50<00:00, 732kB/s]\n",
      "Upload successful: eff4_ns_0865_kf_v2_1.h5 (203MB)\n",
      "Your private Dataset is being created. Please check progress at https://www.kaggle.com/nataliayurasova/0865fulltrain\n"
     ]
    }
   ],
   "source": [
    "# ! kaggle datasets create -p /app/_data/models/eff4_kf/0865fulltrain/"
   ]
  },
  {
   "cell_type": "markdown",
   "metadata": {},
   "source": [
    "0.891\n",
    "MODEL_BB_PATH= '../input/model-bb-1/bond_box_999_200.h5'\n",
    "MODEL_PATH = '../input/0865fulltrain/'\n",
    "IMAGE_SIZE = (380, 380)\n",
    "DF_PART = '../input/df-kf-plant/df_kf.csv'\n",
    "PATH = \"/kaggle/input/plant-pathology-2021-fgvc8/\"\n",
    "TRAIN_IMG_PATH = PATH+'train_images/'\n",
    "TEST_IMG_PATH = PATH+'test_images/'\n",
    "BATCH_SIZE = 32\n",
    "NUM_CLASSES=6\n",
    "SEED = 1488\n",
    "- replace ''-'scab'\n",
    "https://www.kaggle.com/nataliayurasova/plant-pathology0891/edit\n"
   ]
  },
  {
   "cell_type": "code",
   "execution_count": 1,
   "metadata": {},
   "outputs": [
    {
     "name": "stdout",
     "output_type": "stream",
     "text": [
      "Requirement already satisfied: albumentations in /usr/local/lib/python3.8/dist-packages (0.5.2)\n",
      "Requirement already satisfied: numpy>=1.11.1 in /usr/local/lib/python3.8/dist-packages (from albumentations) (1.17.3)\n",
      "Requirement already satisfied: scikit-image>=0.16.1 in /usr/local/lib/python3.8/dist-packages (from albumentations) (0.18.1)\n",
      "Requirement already satisfied: opencv-python-headless>=4.1.1 in /usr/local/lib/python3.8/dist-packages (from albumentations) (4.5.1.48)\n",
      "Requirement already satisfied: scipy in /usr/local/lib/python3.8/dist-packages (from albumentations) (1.4.1)\n",
      "Requirement already satisfied: PyYAML in /usr/local/lib/python3.8/dist-packages (from albumentations) (5.3.1)\n",
      "Requirement already satisfied: imgaug>=0.4.0 in /usr/local/lib/python3.8/dist-packages (from albumentations) (0.4.0)\n",
      "Requirement already satisfied: Shapely in /usr/local/lib/python3.8/dist-packages (from imgaug>=0.4.0->albumentations) (1.7.1)\n",
      "Requirement already satisfied: six in /usr/local/lib/python3.8/dist-packages (from imgaug>=0.4.0->albumentations) (1.15.0)\n",
      "Requirement already satisfied: imageio in /usr/local/lib/python3.8/dist-packages (from imgaug>=0.4.0->albumentations) (2.9.0)\n",
      "Requirement already satisfied: Pillow in /usr/local/lib/python3.8/dist-packages (from imgaug>=0.4.0->albumentations) (8.1.2)\n",
      "Requirement already satisfied: matplotlib in /usr/local/lib/python3.8/dist-packages (from imgaug>=0.4.0->albumentations) (3.3.4)\n",
      "Requirement already satisfied: opencv-python in /usr/local/lib/python3.8/dist-packages (from imgaug>=0.4.0->albumentations) (4.5.1.48)\n",
      "Requirement already satisfied: tifffile>=2019.7.26 in /usr/local/lib/python3.8/dist-packages (from scikit-image>=0.16.1->albumentations) (2021.4.8)\n",
      "Requirement already satisfied: PyWavelets>=1.1.1 in /usr/local/lib/python3.8/dist-packages (from scikit-image>=0.16.1->albumentations) (1.1.1)\n",
      "Requirement already satisfied: networkx>=2.0 in /usr/local/lib/python3.8/dist-packages (from scikit-image>=0.16.1->albumentations) (2.5.1)\n",
      "Requirement already satisfied: pyparsing!=2.0.4,!=2.1.2,!=2.1.6,>=2.0.3 in /usr/local/lib/python3.8/dist-packages (from matplotlib->imgaug>=0.4.0->albumentations) (2.4.7)\n",
      "Requirement already satisfied: cycler>=0.10 in /usr/local/lib/python3.8/dist-packages (from matplotlib->imgaug>=0.4.0->albumentations) (0.10.0)\n",
      "Requirement already satisfied: kiwisolver>=1.0.1 in /usr/local/lib/python3.8/dist-packages (from matplotlib->imgaug>=0.4.0->albumentations) (1.3.1)\n",
      "Requirement already satisfied: python-dateutil>=2.1 in /usr/local/lib/python3.8/dist-packages (from matplotlib->imgaug>=0.4.0->albumentations) (2.8.1)\n",
      "Requirement already satisfied: decorator<5,>=4.3 in /usr/local/lib/python3.8/dist-packages (from networkx>=2.0->scikit-image>=0.16.1->albumentations) (4.4.2)\n",
      "\u001b[33mWARNING: You are using pip version 21.0.1; however, version 21.1 is available.\n",
      "You should consider upgrading via the '/usr/bin/python -m pip install --upgrade pip' command.\u001b[0m\n"
     ]
    }
   ],
   "source": [
    "! pip install albumentations\n",
    "import albumentations"
   ]
  },
  {
   "cell_type": "code",
   "execution_count": 2,
   "metadata": {},
   "outputs": [],
   "source": [
    "import os\n",
    "\n",
    "import numpy as np\n",
    "import pandas as pd\n",
    "from IPython.core.interactiveshell import InteractiveShell\n",
    "\n",
    "InteractiveShell.ast_node_interactivity = \"all\"\n",
    "import warnings\n",
    "\n",
    "warnings.filterwarnings(\"ignore\")\n",
    "\n",
    "import matplotlib.pyplot as plt\n",
    "import sklearn\n",
    "import tensorflow as tf\n",
    "import tensorflow_addons as tfa\n",
    "from PIL import Image\n",
    "from sklearn.model_selection import (\n",
    "    StratifiedKFold,\n",
    "    StratifiedShuffleSplit,\n",
    "    train_test_split,\n",
    ")\n",
    "from tensorflow import keras\n",
    "from tensorflow.keras.applications.efficientnet import EfficientNetB4, EfficientNetB7\n",
    "from tensorflow.keras.layers import (\n",
    "    AveragePooling2D,\n",
    "    AvgPool2D,\n",
    "    Conv2D,\n",
    "    Dense,\n",
    "    Flatten,\n",
    "    GlobalAveragePooling2D,\n",
    "    MaxPooling2D,\n",
    ")\n",
    "from tensorflow.keras.models import Sequential\n",
    "from tensorflow.keras.optimizers import Adam\n",
    "from tensorflow.keras.preprocessing.image import ImageDataGenerator\n",
    "from tqdm import notebook, tqdm\n",
    "\n",
    "%matplotlib inline"
   ]
  },
  {
   "cell_type": "code",
   "execution_count": 3,
   "metadata": {},
   "outputs": [],
   "source": [
    "PATH = \"/app/_data/\"\n",
    "BATCH_SIZE = 8\n",
    "SEED = 42\n",
    "IMAGE_SIZE = 600\n",
    "NUM_CLASSES = 6\n",
    "TRAIN_IMG_PATH = \"/app/_data/600_npy/\"\n",
    "TEST_IMG_PATH = \"/app/_data/test_images/\"\n",
    "feature_columns = [\n",
    "    \"complex\",\n",
    "    \"frog_eye_leaf_spot\",\n",
    "    \"healthy\",\n",
    "    \"powdery_mildew\",\n",
    "    \"rust\",\n",
    "    \"scab\",\n",
    "]\n",
    "wrong = ['ead085dfac287263.jpg', '95276ccd226ad933.jpg',\"da8770e819d2696d.jpg\", 'cd3a1d64e6806eb5.jpg', 'ccec54723ff91860.jpg']"
   ]
  },
  {
   "cell_type": "code",
   "execution_count": 4,
   "metadata": {},
   "outputs": [
    {
     "data": {
      "text/plain": [
       "'f8228796cfdae848.npy'"
      ]
     },
     "execution_count": 4,
     "metadata": {},
     "output_type": "execute_result"
    }
   ],
   "source": [
    "os.listdir(TRAIN_IMG_PATH)[0]"
   ]
  },
  {
   "cell_type": "code",
   "execution_count": 5,
   "metadata": {},
   "outputs": [
    {
     "data": {
      "text/plain": [
       "(600, 600, 3)"
      ]
     },
     "execution_count": 5,
     "metadata": {},
     "output_type": "execute_result"
    }
   ],
   "source": [
    "a = np.load(TRAIN_IMG_PATH+os.listdir(TRAIN_IMG_PATH)[0])\n",
    "a.shape"
   ]
  },
  {
   "cell_type": "code",
   "execution_count": 6,
   "metadata": {},
   "outputs": [],
   "source": [
    "df_labels = pd.read_csv(\"../_data/df_csv/labels_21_20.csv\", index_col=[0])\n",
    "df_labels = df_labels.query('image not in @wrong').reset_index(drop=True)\n",
    "df_labels[\"image\"] = df_labels[\"image\"].str.replace(\".jpg\", \".npy\")"
   ]
  },
  {
   "cell_type": "code",
   "execution_count": 7,
   "metadata": {},
   "outputs": [],
   "source": [
    "df_labels = df_labels.sample(frac=1, random_state=SEED)"
   ]
  },
  {
   "cell_type": "code",
   "execution_count": 8,
   "metadata": {},
   "outputs": [
    {
     "data": {
      "text/plain": [
       "(20225, 8)"
      ]
     },
     "execution_count": 8,
     "metadata": {},
     "output_type": "execute_result"
    }
   ],
   "source": [
    "df_labels.shape"
   ]
  },
  {
   "cell_type": "code",
   "execution_count": 9,
   "metadata": {},
   "outputs": [],
   "source": [
    "# df = labels_21_20.copy()\n",
    "# sss = StratifiedShuffleSplit(n_splits=1, test_size=0.07, random_state=SEED)\n",
    "\n",
    "# for train_index, valid_index in sss.split(df[\"image\"], df[\"labels\"]):\n",
    "#     train, valid = df.loc[train_index], df.loc[valid_index]"
   ]
  },
  {
   "cell_type": "code",
   "execution_count": 10,
   "metadata": {},
   "outputs": [],
   "source": [
    "# for 380*380\n",
    "transform = albumentations.Compose(\n",
    "    [\n",
    "        albumentations.CLAHE(p=0.1, clip_limit=(1, 2), tile_grid_size=(8, 8)),\n",
    "        albumentations.OneOf(\n",
    "            [\n",
    "                albumentations.MotionBlur((3, 3)),\n",
    "                albumentations.MedianBlur(blur_limit=3),\n",
    "                albumentations.GaussianBlur(blur_limit=(3, 3), sigma_limit=0),\n",
    "                albumentations.Blur(blur_limit=(3, 3)),\n",
    "            ],\n",
    "            p=0.2,\n",
    "        ),\n",
    "        albumentations.OneOf(\n",
    "            [\n",
    "                albumentations.GaussNoise(var_limit=[10, 50], mean=1),\n",
    "                albumentations.ISONoise(intensity=(0.1, 1), color_shift=(0.01, 0.05)),\n",
    "                albumentations.ImageCompression(\n",
    "                    quality_lower=70, quality_upper=100, compression_type=1\n",
    "                ),\n",
    "                albumentations.MultiplicativeNoise(\n",
    "                    multiplier=(0.95, 1.05), per_channel=True, elementwise=True\n",
    "                ),\n",
    "                albumentations.Downscale(\n",
    "                    scale_min=0.6, scale_max=0.99, interpolation=4\n",
    "                ),\n",
    "            ],\n",
    "            p=0.5,\n",
    "        ),\n",
    "        albumentations.OneOf(\n",
    "            [\n",
    "                albumentations.HueSaturationValue(\n",
    "                    hue_shift_limit=(-7, 7),\n",
    "                    sat_shift_limit=(-10, 10),\n",
    "                    val_shift_limit=(-10, 10),\n",
    "                ),\n",
    "                albumentations.RandomBrightnessContrast(\n",
    "                    brightness_limit=0.15,\n",
    "                    contrast_limit=0.2,\n",
    "                    brightness_by_max=True,\n",
    "                ),\n",
    "            ],\n",
    "            p=0.5,\n",
    "        ),\n",
    "        albumentations.OneOf(\n",
    "            [\n",
    "                albumentations.OpticalDistortion(\n",
    "                    distort_limit=0.05,\n",
    "                    shift_limit=0.05,\n",
    "                    border_mode=2,\n",
    "                ),\n",
    "                albumentations.ElasticTransform(\n",
    "                    alpha=2.0,\n",
    "                    sigma=50.0,\n",
    "                    alpha_affine=10.0,\n",
    "                    interpolation=0,\n",
    "                    border_mode=2,\n",
    "                ),\n",
    "                albumentations.GridDistortion(\n",
    "                    num_steps=5, distort_limit=0.3, interpolation=0, border_mode=2\n",
    "                ),\n",
    "            ],\n",
    "            p=0.5,\n",
    "        ),\n",
    "        albumentations.OneOf(\n",
    "            [\n",
    "                albumentations.HorizontalFlip(),\n",
    "                albumentations.VerticalFlip(),\n",
    "            ],\n",
    "            p=0.5,\n",
    "        ),\n",
    "        albumentations.OneOf(\n",
    "            [\n",
    "                albumentations.Rotate(\n",
    "                    limit=(-180, 180), interpolation=0, border_mode=2\n",
    "                ),\n",
    "                albumentations.ShiftScaleRotate(\n",
    "                    shift_limit=0.05,\n",
    "                    scale_limit=0.05,\n",
    "                    rotate_limit=180,\n",
    "                    interpolation=0,\n",
    "                    border_mode=2,\n",
    "                ),\n",
    "            ],\n",
    "            p=0.5,\n",
    "        ),\n",
    "    ]\n",
    ")"
   ]
  },
  {
   "cell_type": "code",
   "execution_count": 11,
   "metadata": {},
   "outputs": [],
   "source": [
    "class Generator(keras.utils.Sequence):\n",
    "    def __init__(\n",
    "        self,\n",
    "        df,\n",
    "        images_src_dir,\n",
    "        batch_size,\n",
    "        target_image_size,\n",
    "        shuffle=False,\n",
    "        augment=True,\n",
    "        crop=False,\n",
    "        resize=False,\n",
    "        normalize=False,\n",
    "    ):\n",
    "        self.shuffle = shuffle\n",
    "        self.batch_size = BATCH_SIZE\n",
    "        self.df = df\n",
    "        self.images_dir = images_src_dir\n",
    "        self.target_image_size = (IMAGE_SIZE, IMAGE_SIZE)\n",
    "        self.augment = augment\n",
    "        self.crop = crop\n",
    "        self.resize = resize\n",
    "        self.normalize = normalize\n",
    "        # create label index map\n",
    "        self.labels = self._read_labels()\n",
    "        self.n_samples = self.df.shape[0]\n",
    "        self.n_batches = self.n_samples // self.batch_size\n",
    "        # shuffle data, also repeated after each epoch if needed\n",
    "        if self.shuffle:\n",
    "            np.random.shuffle(self.labels)\n",
    "\n",
    "    def _read_labels(self):\n",
    "        \"\"\"\n",
    "        Returns list images mapping to 1-hot label\n",
    "        \"\"\"\n",
    "\n",
    "        # label indexes\n",
    "        label_ixs = self.df[feature_columns].values\n",
    "        image_ixs = self.df[\"image\"].values\n",
    "        labels = []\n",
    "\n",
    "        for i in range(len(image_ixs)):\n",
    "            labels.append([image_ixs[i], label_ixs[i]])\n",
    "        return labels\n",
    "\n",
    "    def __len__(self):\n",
    "        \"\"\"\n",
    "        Length in batches\n",
    "        \"\"\"\n",
    "        return self.n_batches\n",
    "\n",
    "    def __getitem__(self, b_ix):\n",
    "        \"\"\"\n",
    "        Produce batch, by batch index\n",
    "        \"\"\"\n",
    "\n",
    "        assert b_ix < self.n_batches\n",
    "\n",
    "        b_X = np.zeros(\n",
    "            (self.batch_size, self.target_image_size[0], self.target_image_size[1], 3),\n",
    "            dtype=np.uint8,\n",
    "        )\n",
    "\n",
    "        b_Y = np.zeros(\n",
    "            (self.batch_size, self.df[feature_columns].shape[1]),\n",
    "            dtype=np.uint8,\n",
    "        )\n",
    "\n",
    "        for i in range(self.batch_size):\n",
    "            b_X[i], b_Y[i] = self.get_one(\n",
    "                i + self.batch_size * b_ix,\n",
    "            )\n",
    "\n",
    "        return (b_X, b_Y)\n",
    "\n",
    "    def get_one(self, one_ix):\n",
    "        \"\"\"\n",
    "        Get single item by absolute index\n",
    "        \"\"\"\n",
    "        id = self.labels[one_ix][0]\n",
    "        src_file = self.images_dir + id\n",
    "\n",
    "        # read file\n",
    "        x = np.load(src_file)\n",
    "        if self.crop:\n",
    "            coord = self.df[self.df[\"image\"] == id][\n",
    "                [\"x_min\", \"y_min\", \"x_max\", \"y_max\"]\n",
    "            ].values[0]\n",
    "            orig_hight = x.shape[0]\n",
    "            orig_width = x.shape[1]\n",
    "            x_min = coord[0]\n",
    "            y_min = coord[1]\n",
    "            x_max = coord[2]\n",
    "            y_max = coord[3]\n",
    "            x = x[\n",
    "                np.int(y_min * orig_hight) : np.int(y_max * orig_hight),\n",
    "                np.int(x_min * orig_width) : np.int(x_max * orig_width),\n",
    "            ]\n",
    "\n",
    "        y = self.labels[one_ix][1]\n",
    "\n",
    "        # augment\n",
    "        if self.augment:\n",
    "            x = self._augment_image(x)\n",
    "\n",
    "        # normalize (sample-wise)\n",
    "        if self.normalize:\n",
    "            x = x.astype(np.float32)\n",
    "            x = x - np.mean(x, axis=(0, 1))\n",
    "            x = x / np.std(x, axis=(0, 1))\n",
    "        return x.astype(np.uint8), y\n",
    "\n",
    "    def _augment_image(self, x):\n",
    "        \"\"\"\n",
    "        Randomply augment image\n",
    "        \"\"\"\n",
    "\n",
    "        x = transform(image=x)[\"image\"]\n",
    "        return x\n",
    "\n",
    "    def on_epoch_end(self):\n",
    "        if self.shuffle:\n",
    "            np.random.shuffle(self.labels)"
   ]
  },
  {
   "cell_type": "code",
   "execution_count": 12,
   "metadata": {},
   "outputs": [
    {
     "name": "stdout",
     "output_type": "stream",
     "text": [
      "INFO:tensorflow:Mixed precision compatibility check (mixed_float16): OK\n",
      "Your GPU will likely run quickly with dtype policy mixed_float16 as it has compute capability of at least 7.0. Your GPU: NVIDIA GeForce RTX 3090, compute capability 8.6\n"
     ]
    }
   ],
   "source": [
    "policy = keras.mixed_precision.experimental.Policy(\"mixed_float16\")\n",
    "keras.mixed_precision.experimental.set_policy(policy)"
   ]
  },
  {
   "cell_type": "code",
   "execution_count": 13,
   "metadata": {},
   "outputs": [],
   "source": [
    "def get_model():\n",
    "    inputs = keras.Input(shape=(IMAGE_SIZE, IMAGE_SIZE, 3))\n",
    "    base_model = keras.applications.EfficientNetB7(weights=None, include_top=False)\n",
    "    base_model.load_weights(\n",
    "        \"/app/_data/models/efficientnet-b7_noisy-student_notop.h5\",\n",
    "        by_name=True,\n",
    "        skip_mismatch=True,\n",
    "    )\n",
    "    x = base_model(inputs)\n",
    "    x = keras.layers.GlobalAveragePooling2D(name=\"avg_pool\")(x)\n",
    "    x = keras.layers.Flatten(name=\"flatten\")(x)\n",
    "    outputs = keras.layers.Dense(NUM_CLASSES, activation=\"sigmoid\")(x)\n",
    "    model = keras.Model(inputs=inputs, outputs=outputs)\n",
    "    model.compile(\n",
    "        loss=\"binary_crossentropy\",\n",
    "        optimizer=Adam(lr=0.0005),\n",
    "        metrics=[\n",
    "            \"acc\",\n",
    "            keras.metrics.Recall(),\n",
    "            keras.metrics.Precision(),\n",
    "            tfa.metrics.F1Score(num_classes=NUM_CLASSES, average=\"weighted\"),\n",
    "        ],\n",
    "    )\n",
    "    return model"
   ]
  },
  {
   "cell_type": "code",
   "execution_count": 14,
   "metadata": {},
   "outputs": [],
   "source": [
    "BATCH_SIZE = 6"
   ]
  },
  {
   "cell_type": "code",
   "execution_count": null,
   "metadata": {},
   "outputs": [
    {
     "name": "stdout",
     "output_type": "stream",
     "text": [
      "Epoch 1/100\n",
      "   1/2696 [..............................] - ETA: 0s - loss: 0.7222 - acc: 0.0000e+00 - recall: 0.5714 - precision: 0.2222 - f1_score: 0.0000e+00WARNING:tensorflow:From /usr/local/lib/python3.8/dist-packages/tensorflow/python/ops/summary_ops_v2.py:1277: stop (from tensorflow.python.eager.profiler) is deprecated and will be removed after 2020-07-01.\n",
      "Instructions for updating:\n",
      "use `tf.profiler.experimental.stop` instead.\n",
      "   2/2696 [..............................] - ETA: 1:31:59 - loss: 0.6855 - acc: 0.1667 - recall: 0.4615 - precision: 0.2222 - f1_score: 0.2009   WARNING:tensorflow:Callbacks method `on_train_batch_end` is slow compared to the batch time (batch time: 1.3518s vs `on_train_batch_end` time: 2.7438s). Check your callbacks.\n",
      "2696/2696 [==============================] - ETA: 0s - loss: 0.1807 - acc: 0.8038 - recall: 0.7530 - precision: 0.8398 - f1_score: 0.7919\n",
      "Epoch 00001: val_f1_score improved from -inf to 0.88032, saving model to /app/_data/models/final/eff7_0891/eff7_0891_1.h5\n",
      "2696/2696 [==============================] - 1353s 502ms/step - loss: 0.1807 - acc: 0.8038 - recall: 0.7530 - precision: 0.8398 - f1_score: 0.7919 - val_loss: 0.1073 - val_acc: 0.8932 - val_recall: 0.8821 - val_precision: 0.9041 - val_f1_score: 0.8803\n",
      "Epoch 2/100\n",
      "2696/2696 [==============================] - ETA: 0s - loss: 0.1332 - acc: 0.8589 - recall: 0.8285 - precision: 0.8770 - f1_score: 0.8461\n",
      "Epoch 00002: val_f1_score did not improve from 0.88032\n",
      "2696/2696 [==============================] - 1354s 502ms/step - loss: 0.1332 - acc: 0.8589 - recall: 0.8285 - precision: 0.8770 - f1_score: 0.8461 - val_loss: 0.1119 - val_acc: 0.8895 - val_recall: 0.8745 - val_precision: 0.8974 - val_f1_score: 0.8759\n",
      "Epoch 3/100\n",
      "2696/2696 [==============================] - ETA: 0s - loss: 0.1213 - acc: 0.8720 - recall: 0.8449 - precision: 0.8889 - f1_score: 0.8590\n",
      "Epoch 00003: val_f1_score improved from 0.88032 to 0.89179, saving model to /app/_data/models/final/eff7_0891/eff7_0891_1.h5\n",
      "2696/2696 [==============================] - 1339s 497ms/step - loss: 0.1213 - acc: 0.8720 - recall: 0.8449 - precision: 0.8889 - f1_score: 0.8590 - val_loss: 0.0942 - val_acc: 0.9008 - val_recall: 0.9203 - val_precision: 0.8727 - val_f1_score: 0.8918\n",
      "Epoch 4/100\n",
      "2696/2696 [==============================] - ETA: 0s - loss: 0.1120 - acc: 0.8774 - recall: 0.8577 - precision: 0.8938 - f1_score: 0.8655\n",
      "Epoch 00004: val_f1_score did not improve from 0.89179\n",
      "2696/2696 [==============================] - 1363s 506ms/step - loss: 0.1120 - acc: 0.8774 - recall: 0.8577 - precision: 0.8938 - f1_score: 0.8655 - val_loss: 0.1096 - val_acc: 0.8867 - val_recall: 0.8507 - val_precision: 0.9146 - val_f1_score: 0.8758\n",
      "Epoch 5/100\n",
      "2696/2696 [==============================] - ETA: 0s - loss: 0.1056 - acc: 0.8856 - recall: 0.8634 - precision: 0.8983 - f1_score: 0.8738\n",
      "Epoch 00005: val_f1_score did not improve from 0.89179\n",
      "2696/2696 [==============================] - 1352s 502ms/step - loss: 0.1056 - acc: 0.8856 - recall: 0.8634 - precision: 0.8983 - f1_score: 0.8738 - val_loss: 0.1002 - val_acc: 0.8974 - val_recall: 0.8846 - val_precision: 0.9111 - val_f1_score: 0.8874\n",
      "Epoch 6/100\n",
      "2696/2696 [==============================] - ETA: 0s - loss: 0.1024 - acc: 0.8904 - recall: 0.8721 - precision: 0.9018 - f1_score: 0.8793\n",
      "Epoch 00006: val_f1_score did not improve from 0.89179\n",
      "2696/2696 [==============================] - 1360s 504ms/step - loss: 0.1024 - acc: 0.8904 - recall: 0.8721 - precision: 0.9018 - f1_score: 0.8793 - val_loss: 0.0938 - val_acc: 0.9045 - val_recall: 0.8669 - val_precision: 0.9205 - val_f1_score: 0.8910\n",
      "Epoch 7/100\n",
      "2696/2696 [==============================] - ETA: 0s - loss: 0.0973 - acc: 0.8932 - recall: 0.8757 - precision: 0.9042 - f1_score: 0.8810\n",
      "Epoch 00007: val_f1_score did not improve from 0.89179\n",
      "\n",
      "Epoch 00007: ReduceLROnPlateau reducing learning rate to 0.0004000000189989805.\n",
      "2696/2696 [==============================] - 1302s 483ms/step - loss: 0.0973 - acc: 0.8932 - recall: 0.8757 - precision: 0.9042 - f1_score: 0.8810 - val_loss: 0.0904 - val_acc: 0.9001 - val_recall: 0.8819 - val_precision: 0.9193 - val_f1_score: 0.8910\n",
      "Epoch 8/100\n",
      "2696/2696 [==============================] - ETA: 0s - loss: 0.0885 - acc: 0.9010 - recall: 0.8897 - precision: 0.9089 - f1_score: 0.8890\n",
      "Epoch 00008: val_f1_score improved from 0.89179 to 0.89776, saving model to /app/_data/models/final/eff7_0891/eff7_0891_1.h5\n",
      "2696/2696 [==============================] - 1314s 487ms/step - loss: 0.0885 - acc: 0.9010 - recall: 0.8897 - precision: 0.9089 - f1_score: 0.8890 - val_loss: 0.0858 - val_acc: 0.9122 - val_recall: 0.8904 - val_precision: 0.9267 - val_f1_score: 0.8978\n",
      "Epoch 9/100\n",
      "2696/2696 [==============================] - ETA: 0s - loss: 0.0840 - acc: 0.9096 - recall: 0.8956 - precision: 0.9165 - f1_score: 0.8969\n",
      "Epoch 00009: val_f1_score improved from 0.89776 to 0.90023, saving model to /app/_data/models/final/eff7_0891/eff7_0891_1.h5\n",
      "2696/2696 [==============================] - 1306s 484ms/step - loss: 0.0840 - acc: 0.9096 - recall: 0.8956 - precision: 0.9165 - f1_score: 0.8969 - val_loss: 0.0865 - val_acc: 0.9050 - val_recall: 0.9272 - val_precision: 0.8941 - val_f1_score: 0.9002\n",
      "Epoch 10/100\n",
      "2696/2696 [==============================] - ETA: 0s - loss: 0.0813 - acc: 0.9083 - recall: 0.8979 - precision: 0.9172 - f1_score: 0.8966\n",
      "Epoch 00010: val_f1_score improved from 0.90023 to 0.90337, saving model to /app/_data/models/final/eff7_0891/eff7_0891_1.h5\n",
      "2696/2696 [==============================] - 1276s 473ms/step - loss: 0.0813 - acc: 0.9083 - recall: 0.8979 - precision: 0.9172 - f1_score: 0.8966 - val_loss: 0.0838 - val_acc: 0.9164 - val_recall: 0.9125 - val_precision: 0.9129 - val_f1_score: 0.9034\n",
      "Epoch 11/100\n",
      "2696/2696 [==============================] - ETA: 0s - loss: 0.0811 - acc: 0.9086 - recall: 0.8985 - precision: 0.9172 - f1_score: 0.8967\n",
      "Epoch 00011: val_f1_score did not improve from 0.90337\n",
      "2696/2696 [==============================] - 1262s 468ms/step - loss: 0.0811 - acc: 0.9086 - recall: 0.8985 - precision: 0.9172 - f1_score: 0.8967 - val_loss: 0.0835 - val_acc: 0.9149 - val_recall: 0.9053 - val_precision: 0.9161 - val_f1_score: 0.9020\n",
      "Epoch 12/100\n",
      "2696/2696 [==============================] - ETA: 0s - loss: 0.0773 - acc: 0.9126 - recall: 0.9024 - precision: 0.9209 - f1_score: 0.9009\n",
      "Epoch 00012: val_f1_score improved from 0.90337 to 0.90517, saving model to /app/_data/models/final/eff7_0891/eff7_0891_1.h5\n",
      "2696/2696 [==============================] - 1269s 471ms/step - loss: 0.0773 - acc: 0.9126 - recall: 0.9024 - precision: 0.9209 - f1_score: 0.9009 - val_loss: 0.0808 - val_acc: 0.9164 - val_recall: 0.9192 - val_precision: 0.9135 - val_f1_score: 0.9052\n",
      "Epoch 13/100\n",
      "2696/2696 [==============================] - ETA: 0s - loss: 0.0772 - acc: 0.9148 - recall: 0.9034 - precision: 0.9211 - f1_score: 0.9029\n",
      "Epoch 00013: val_f1_score did not improve from 0.90517\n",
      "2696/2696 [==============================] - 1356s 503ms/step - loss: 0.0772 - acc: 0.9148 - recall: 0.9034 - precision: 0.9211 - f1_score: 0.9029 - val_loss: 0.0804 - val_acc: 0.9107 - val_recall: 0.9141 - val_precision: 0.9101 - val_f1_score: 0.8973\n",
      "Epoch 14/100\n",
      "2696/2696 [==============================] - ETA: 0s - loss: 0.0754 - acc: 0.9119 - recall: 0.9034 - precision: 0.9231 - f1_score: 0.9011\n",
      "Epoch 00014: val_f1_score improved from 0.90517 to 0.90648, saving model to /app/_data/models/final/eff7_0891/eff7_0891_1.h5\n",
      "2696/2696 [==============================] - 1289s 478ms/step - loss: 0.0754 - acc: 0.9119 - recall: 0.9034 - precision: 0.9231 - f1_score: 0.9011 - val_loss: 0.0775 - val_acc: 0.9162 - val_recall: 0.9125 - val_precision: 0.9207 - val_f1_score: 0.9065\n",
      "Epoch 15/100\n",
      "2696/2696 [==============================] - ETA: 0s - loss: 0.0727 - acc: 0.9166 - recall: 0.9110 - precision: 0.9258 - f1_score: 0.9053\n",
      "Epoch 00015: val_f1_score did not improve from 0.90648\n",
      "2696/2696 [==============================] - 1332s 494ms/step - loss: 0.0727 - acc: 0.9166 - recall: 0.9110 - precision: 0.9258 - f1_score: 0.9053 - val_loss: 0.0776 - val_acc: 0.9211 - val_recall: 0.9157 - val_precision: 0.9264 - val_f1_score: 0.9061\n",
      "Epoch 16/100\n",
      "2696/2696 [==============================] - ETA: 0s - loss: 0.0709 - acc: 0.9172 - recall: 0.9091 - precision: 0.9262 - f1_score: 0.9073\n",
      "Epoch 00016: val_f1_score did not improve from 0.90648\n",
      "2696/2696 [==============================] - 1374s 510ms/step - loss: 0.0709 - acc: 0.9172 - recall: 0.9091 - precision: 0.9262 - f1_score: 0.9073 - val_loss: 0.1166 - val_acc: 0.8880 - val_recall: 0.9000 - val_precision: 0.8806 - val_f1_score: 0.8742\n",
      "Epoch 17/100\n",
      "2696/2696 [==============================] - ETA: 0s - loss: 0.0705 - acc: 0.9203 - recall: 0.9138 - precision: 0.9286 - f1_score: 0.9093\n",
      "Epoch 00017: val_f1_score improved from 0.90648 to 0.90784, saving model to /app/_data/models/final/eff7_0891/eff7_0891_1.h5\n",
      "2696/2696 [==============================] - 1401s 520ms/step - loss: 0.0705 - acc: 0.9203 - recall: 0.9138 - precision: 0.9286 - f1_score: 0.9093 - val_loss: 0.0764 - val_acc: 0.9248 - val_recall: 0.9083 - val_precision: 0.9278 - val_f1_score: 0.9078\n",
      "Epoch 18/100\n",
      "2696/2696 [==============================] - ETA: 0s - loss: 0.0688 - acc: 0.9210 - recall: 0.9148 - precision: 0.9312 - f1_score: 0.9105\n",
      "Epoch 00018: val_f1_score did not improve from 0.90784\n",
      "2696/2696 [==============================] - 1372s 509ms/step - loss: 0.0688 - acc: 0.9210 - recall: 0.9148 - precision: 0.9312 - f1_score: 0.9105 - val_loss: 0.0807 - val_acc: 0.9219 - val_recall: 0.9012 - val_precision: 0.9222 - val_f1_score: 0.9047\n",
      "Epoch 19/100\n",
      "2696/2696 [==============================] - ETA: 0s - loss: 0.0675 - acc: 0.9243 - recall: 0.9161 - precision: 0.9322 - f1_score: 0.9136\n",
      "Epoch 00019: val_f1_score improved from 0.90784 to 0.90875, saving model to /app/_data/models/final/eff7_0891/eff7_0891_1.h5\n",
      "2696/2696 [==============================] - 1403s 520ms/step - loss: 0.0675 - acc: 0.9243 - recall: 0.9161 - precision: 0.9322 - f1_score: 0.9136 - val_loss: 0.0803 - val_acc: 0.9228 - val_recall: 0.9314 - val_precision: 0.9049 - val_f1_score: 0.9088\n",
      "Epoch 20/100\n",
      "2696/2696 [==============================] - ETA: 0s - loss: 0.0658 - acc: 0.9233 - recall: 0.9189 - precision: 0.9319 - f1_score: 0.9129\n",
      "Epoch 00020: val_f1_score improved from 0.90875 to 0.91149, saving model to /app/_data/models/final/eff7_0891/eff7_0891_1.h5\n",
      "2696/2696 [==============================] - 1380s 512ms/step - loss: 0.0658 - acc: 0.9233 - recall: 0.9189 - precision: 0.9319 - f1_score: 0.9129 - val_loss: 0.0784 - val_acc: 0.9191 - val_recall: 0.9046 - val_precision: 0.9330 - val_f1_score: 0.9115\n",
      "Epoch 21/100\n",
      "2696/2696 [==============================] - ETA: 0s - loss: 0.0647 - acc: 0.9253 - recall: 0.9216 - precision: 0.9333 - f1_score: 0.9139\n",
      "Epoch 00021: val_f1_score did not improve from 0.91149\n",
      "2696/2696 [==============================] - 1368s 508ms/step - loss: 0.0647 - acc: 0.9253 - recall: 0.9216 - precision: 0.9333 - f1_score: 0.9139 - val_loss: 0.0885 - val_acc: 0.9068 - val_recall: 0.9109 - val_precision: 0.9086 - val_f1_score: 0.8937\n",
      "Epoch 22/100\n",
      "2696/2696 [==============================] - ETA: 0s - loss: 0.0642 - acc: 0.9262 - recall: 0.9204 - precision: 0.9345 - f1_score: 0.9144\n",
      "Epoch 00022: val_f1_score did not improve from 0.91149\n",
      "2696/2696 [==============================] - 1326s 492ms/step - loss: 0.0642 - acc: 0.9262 - recall: 0.9204 - precision: 0.9345 - f1_score: 0.9144 - val_loss: 0.1055 - val_acc: 0.9058 - val_recall: 0.9053 - val_precision: 0.8977 - val_f1_score: 0.8919\n",
      "Epoch 23/100\n",
      "2696/2696 [==============================] - ETA: 0s - loss: 0.0618 - acc: 0.9279 - recall: 0.9235 - precision: 0.9346 - f1_score: 0.9156\n",
      "Epoch 00023: val_f1_score did not improve from 0.91149\n",
      "2696/2696 [==============================] - 1335s 495ms/step - loss: 0.0618 - acc: 0.9279 - recall: 0.9235 - precision: 0.9346 - f1_score: 0.9156 - val_loss: 0.3156 - val_acc: 0.8860 - val_recall: 0.8768 - val_precision: 0.8964 - val_f1_score: 0.8774\n",
      "Epoch 24/100\n",
      "2696/2696 [==============================] - ETA: 0s - loss: 0.0620 - acc: 0.9267 - recall: 0.9255 - precision: 0.9366 - f1_score: 0.9158\n",
      "Epoch 00024: val_f1_score did not improve from 0.91149\n",
      "\n",
      "Epoch 00024: ReduceLROnPlateau reducing learning rate to 0.00032000001519918444.\n",
      "2696/2696 [==============================] - 1394s 517ms/step - loss: 0.0620 - acc: 0.9267 - recall: 0.9255 - precision: 0.9366 - f1_score: 0.9158 - val_loss: 0.0898 - val_acc: 0.9172 - val_recall: 0.9079 - val_precision: 0.9321 - val_f1_score: 0.9052\n",
      "Epoch 25/100\n",
      "2696/2696 [==============================] - ETA: 0s - loss: 0.0545 - acc: 0.9350 - recall: 0.9341 - precision: 0.9428 - f1_score: 0.9240\n",
      "Epoch 00025: val_f1_score did not improve from 0.91149\n",
      "2696/2696 [==============================] - 1392s 516ms/step - loss: 0.0545 - acc: 0.9350 - recall: 0.9341 - precision: 0.9428 - f1_score: 0.9240 - val_loss: 0.0774 - val_acc: 0.9238 - val_recall: 0.9226 - val_precision: 0.9199 - val_f1_score: 0.9109\n",
      "Epoch 26/100\n",
      "2696/2696 [==============================] - ETA: 0s - loss: 0.0542 - acc: 0.9354 - recall: 0.9372 - precision: 0.9441 - f1_score: 0.9252\n",
      "Epoch 00026: val_f1_score did not improve from 0.91149\n",
      "2696/2696 [==============================] - 1391s 516ms/step - loss: 0.0542 - acc: 0.9354 - recall: 0.9372 - precision: 0.9441 - f1_score: 0.9252 - val_loss: 0.0753 - val_acc: 0.9177 - val_recall: 0.9192 - val_precision: 0.9247 - val_f1_score: 0.9092\n",
      "Epoch 27/100\n",
      "2696/2696 [==============================] - ETA: 0s - loss: 0.0530 - acc: 0.9334 - recall: 0.9368 - precision: 0.9448 - f1_score: 0.9235\n",
      "Epoch 00027: val_f1_score did not improve from 0.91149\n",
      "2696/2696 [==============================] - 1332s 494ms/step - loss: 0.0530 - acc: 0.9334 - recall: 0.9368 - precision: 0.9448 - f1_score: 0.9235 - val_loss: 0.0845 - val_acc: 0.9167 - val_recall: 0.9201 - val_precision: 0.9188 - val_f1_score: 0.9044\n",
      "Epoch 28/100\n",
      "2696/2696 [==============================] - ETA: 0s - loss: 0.0506 - acc: 0.9355 - recall: 0.9363 - precision: 0.9455 - f1_score: 0.9256\n",
      "Epoch 00028: val_f1_score did not improve from 0.91149\n",
      "\n",
      "Epoch 00028: ReduceLROnPlateau reducing learning rate to 0.0002560000168159604.\n",
      "2696/2696 [==============================] - 1362s 505ms/step - loss: 0.0506 - acc: 0.9355 - recall: 0.9363 - precision: 0.9455 - f1_score: 0.9256 - val_loss: 0.0817 - val_acc: 0.9172 - val_recall: 0.9139 - val_precision: 0.9164 - val_f1_score: 0.9030\n",
      "Epoch 29/100\n",
      "2696/2696 [==============================] - ETA: 0s - loss: 0.0458 - acc: 0.9411 - recall: 0.9471 - precision: 0.9530 - f1_score: 0.9317\n",
      "Epoch 00029: val_f1_score did not improve from 0.91149\n",
      "2696/2696 [==============================] - 1363s 505ms/step - loss: 0.0458 - acc: 0.9411 - recall: 0.9471 - precision: 0.9530 - f1_score: 0.9317 - val_loss: 0.0832 - val_acc: 0.9233 - val_recall: 0.9141 - val_precision: 0.9295 - val_f1_score: 0.9113\n",
      "Epoch 30/100\n",
      "2696/2696 [==============================] - ETA: 0s - loss: 0.0448 - acc: 0.9402 - recall: 0.9459 - precision: 0.9536 - f1_score: 0.9316\n",
      "Epoch 00030: val_f1_score did not improve from 0.91149\n",
      "2696/2696 [==============================] - 1401s 520ms/step - loss: 0.0448 - acc: 0.9402 - recall: 0.9459 - precision: 0.9536 - f1_score: 0.9316 - val_loss: 0.0897 - val_acc: 0.9152 - val_recall: 0.9173 - val_precision: 0.9137 - val_f1_score: 0.9055\n",
      "Epoch 31/100\n",
      "2696/2696 [==============================] - ETA: 0s - loss: 0.0424 - acc: 0.9420 - recall: 0.9476 - precision: 0.9549 - f1_score: 0.9339Restoring model weights from the end of the best epoch.\n",
      "\n",
      "Epoch 00031: val_f1_score did not improve from 0.91149\n",
      "2696/2696 [==============================] - 1368s 507ms/step - loss: 0.0424 - acc: 0.9420 - recall: 0.9476 - precision: 0.9549 - f1_score: 0.9339 - val_loss: 0.0912 - val_acc: 0.9189 - val_recall: 0.9072 - val_precision: 0.9227 - val_f1_score: 0.9060\n",
      "Epoch 00031: early stopping\n",
      "Epoch 1/100\n",
      "   2/2696 [..............................] - ETA: 1:54:22 - loss: 0.6582 - acc: 0.3333 - recall: 0.2667 - precision: 0.2000 - f1_score: 0.3022WARNING:tensorflow:Callbacks method `on_train_batch_end` is slow compared to the batch time (batch time: 0.4797s vs `on_train_batch_end` time: 4.6148s). Check your callbacks.\n",
      "2696/2696 [==============================] - ETA: 0s - loss: 0.1796 - acc: 0.8014 - recall: 0.7529 - precision: 0.8418 - f1_score: 0.7890\n",
      "Epoch 00001: val_f1_score improved from -inf to 0.85493, saving model to /app/_data/models/final/eff7_0891/eff7_0891_2.h5\n",
      "2696/2696 [==============================] - 1394s 517ms/step - loss: 0.1796 - acc: 0.8014 - recall: 0.7529 - precision: 0.8418 - f1_score: 0.7890 - val_loss: 0.1150 - val_acc: 0.8637 - val_recall: 0.8380 - val_precision: 0.8977 - val_f1_score: 0.8549\n",
      "Epoch 2/100\n",
      " 948/2696 [=========>....................] - ETA: 14:57 - loss: 0.1444 - acc: 0.8470 - recall: 0.8093 - precision: 0.8653 - f1_score: 0.8347"
     ]
    }
   ],
   "source": [
    "skf = StratifiedKFold(n_splits=5, random_state=SEED, shuffle=True)\n",
    "\n",
    "for i, (train_index, valid_index) in enumerate(\n",
    "    skf.split(df_labels[\"image\"], df_labels[\"labels\"])\n",
    "):\n",
    "    train, valid = df_labels.loc[train_index], df_labels.loc[valid_index]\n",
    "    model_name = \"eff7_0891_\" + str(i + 1) + \".h5\"\n",
    "    log_dir = 'logs_eff7_0891_'+str(i + 1)+'/'\n",
    "    callbacks = [\n",
    "        keras.callbacks.EarlyStopping(\n",
    "            monitor=\"val_f1_score\",\n",
    "            patience=11,\n",
    "            restore_best_weights=True,\n",
    "            verbose=1,\n",
    "            mode=\"max\",\n",
    "        ),\n",
    "        keras.callbacks.ModelCheckpoint(\n",
    "            \"/app/_data/models/final/eff7_0891/\" + model_name,\n",
    "            monitor=\"val_f1_score\",\n",
    "            verbose=1,\n",
    "            save_best_only=True,\n",
    "            save_weights_only=False,\n",
    "            mode=\"max\",\n",
    "            save_freq=\"epoch\",\n",
    "        ),\n",
    "        keras.callbacks.ReduceLROnPlateau(\n",
    "            monitor=\"val_f1_score\",\n",
    "            factor=0.8,\n",
    "            patience=4,\n",
    "            verbose=1,\n",
    "            mode=\"max\",\n",
    "            min_delta=1e-4,\n",
    "            min_lr=0.00000001,\n",
    "        ),\n",
    "        keras.callbacks.TensorBoard(\n",
    "            log_dir=\"/app/.tensorboard/\"+log_dir, histogram_freq=0\n",
    "        ),\n",
    "    ]\n",
    "\n",
    "    gen_train = Generator(\n",
    "        df=train,\n",
    "        images_src_dir=TRAIN_IMG_PATH,\n",
    "        target_image_size=IMAGE_SIZE,\n",
    "        batch_size=BATCH_SIZE,\n",
    "        shuffle=True,\n",
    "        augment=True,\n",
    "        crop=False,\n",
    "        resize=False,\n",
    "    )\n",
    "    gen_valid = Generator(\n",
    "        df=valid,\n",
    "        images_src_dir=TRAIN_IMG_PATH,\n",
    "        target_image_size=IMAGE_SIZE,\n",
    "        batch_size=BATCH_SIZE,\n",
    "        shuffle=True,\n",
    "        augment=False,\n",
    "        crop=False,\n",
    "        resize=False,\n",
    "    )\n",
    "    model = get_model()\n",
    "    history = model.fit(\n",
    "        gen_train,\n",
    "        validation_data=gen_valid,\n",
    "        epochs=100,\n",
    "        steps_per_epoch=train.shape[0]//BATCH_SIZE,\n",
    "        validation_steps=valid.shape[0]//BATCH_SIZE,\n",
    "        verbose=1,\n",
    "        workers = 15,\n",
    "        callbacks=callbacks,\n",
    "    )\n",
    "    tf.keras.backend.clear_session()"
   ]
  },
  {
   "cell_type": "code",
   "execution_count": null,
   "metadata": {},
   "outputs": [],
   "source": [
    "tf.config.list_physical_devices(\"GPU\")"
   ]
  },
  {
   "cell_type": "code",
   "execution_count": 30,
   "metadata": {},
   "outputs": [],
   "source": [
    "def parse_all(file_path):\n",
    "    img = tf.io.read_file(TRAIN_IMG_PATH + file_path)\n",
    "    img = tf.image.decode_jpeg(img, channels=3)\n",
    "    return img\n",
    "\n",
    "\n",
    "def predict_new(path, model):\n",
    "    img = parse_all(path)\n",
    "    img = tf.expand_dims(img, axis=0)\n",
    "    pred = model.predict(img)\n",
    "    return pred_to_labels(pred[0])"
   ]
  },
  {
   "cell_type": "code",
   "execution_count": 31,
   "metadata": {},
   "outputs": [
    {
     "name": "stdout",
     "output_type": "stream",
     "text": [
      "                  image                   labels\n",
      "0  bfc6d90f402f4c34.jpg  frog_eye_leaf_spot scab\n",
      "1  9eb93fe282326266.jpg           powdery_mildew\n",
      "2  f4cb3a8f41b413e4.jpg       frog_eye_leaf_spot\n",
      "3  98322eab16bef2c1.jpg                     rust\n",
      "4  dad5d6250cae80b7.jpg                  complex\n"
     ]
    }
   ],
   "source": [
    "df_sub = pd.DataFrame(columns=[\"image\", \"labels\"])\n",
    "for img_name in os.listdir(TRAIN_IMG_PATH):\n",
    "    pred = predict_new(img_name, model)\n",
    "\n",
    "    df_sub = df_sub.append({\"image\": img_name, \"labels\": pred}, ignore_index=True)\n",
    "\n",
    "print(df_sub.head())"
   ]
  },
  {
   "cell_type": "code",
   "execution_count": 32,
   "metadata": {},
   "outputs": [],
   "source": [
    "df_sub = df_sub.merge(\n",
    "    labels_21_20[[\"image\", \"labels\"]],\n",
    "    on=\"image\",\n",
    "    how=\"left\",\n",
    "    suffixes=(\"_pred\", \"_true\"),\n",
    ")"
   ]
  },
  {
   "cell_type": "code",
   "execution_count": 33,
   "metadata": {},
   "outputs": [],
   "source": [
    "df_sub.to_csv(\"/app/sandbox/wrong_predictions/eff4/eff4_ns_cropped_2.csv\")"
   ]
  },
  {
   "cell_type": "code",
   "execution_count": 35,
   "metadata": {},
   "outputs": [
    {
     "data": {
      "text/plain": [
       "complex                    22\n",
       "scab                       10\n",
       "rust                        7\n",
       "frog_eye_leaf_spot          5\n",
       "scab frog_eye_leaf_spot     1\n",
       "rust frog_eye_leaf_spot     1\n",
       "powdery_mildew complex      1\n",
       "powdery_mildew              1\n",
       "healthy                     1\n",
       "Name: labels_true, dtype: int64"
      ]
     },
     "execution_count": 35,
     "metadata": {},
     "output_type": "execute_result"
    }
   ],
   "source": [
    "df_sub[df_sub[\"labels_pred\"] == \"\"][\"labels_true\"].value_counts()"
   ]
  },
  {
   "cell_type": "code",
   "execution_count": 37,
   "metadata": {},
   "outputs": [
    {
     "data": {
      "text/plain": [
       "scab frog_eye_leaf_spot            682\n",
       "complex                            438\n",
       "scab frog_eye_leaf_spot complex    200\n",
       "frog_eye_leaf_spot complex         165\n",
       "scab                               124\n",
       "rust frog_eye_leaf_spot            118\n",
       "rust complex                        91\n",
       "powdery_mildew complex              87\n",
       "rust                                74\n",
       "frog_eye_leaf_spot                  71\n",
       "healthy                             19\n",
       "powdery_mildew                       7\n",
       "Name: labels_true, dtype: int64"
      ]
     },
     "execution_count": 37,
     "metadata": {},
     "output_type": "execute_result"
    }
   ],
   "source": [
    "df_sub[df_sub[\"labels_pred\"] != df_sub[\"labels_true\"]][\"labels_true\"].value_counts()"
   ]
  }
 ],
 "metadata": {
  "kernelspec": {
   "display_name": "Python 3",
   "language": "python",
   "name": "python3"
  },
  "language_info": {
   "codemirror_mode": {
    "name": "ipython",
    "version": 3
   },
   "file_extension": ".py",
   "mimetype": "text/x-python",
   "name": "python",
   "nbconvert_exporter": "python",
   "pygments_lexer": "ipython3",
   "version": "3.8.5"
  }
 },
 "nbformat": 4,
 "nbformat_minor": 4
}
