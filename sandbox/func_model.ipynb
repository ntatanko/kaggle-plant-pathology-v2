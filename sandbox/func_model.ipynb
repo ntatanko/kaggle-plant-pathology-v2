{
 "cells": [
  {
   "cell_type": "code",
   "execution_count": 1,
   "metadata": {},
   "outputs": [],
   "source": [
    "import os\n",
    "\n",
    "import numpy as np\n",
    "import pandas as pd\n",
    "\n",
    "# import warnings\n",
    "# warnings.filterwarnings(\"ignore\")\n",
    "from IPython.core.interactiveshell import InteractiveShell\n",
    "\n",
    "InteractiveShell.ast_node_interactivity = \"all\"\n",
    "import matplotlib.image as mpimg\n",
    "import matplotlib.pyplot as plt\n",
    "\n",
    "%matplotlib inline\n",
    "import sklearn\n",
    "import tensorflow as tf\n",
    "import tensorflow_addons as tfa\n",
    "from PIL import Image\n",
    "from tensorflow import keras\n",
    "from tensorflow.keras.applications.resnet import ResNet50\n",
    "from tensorflow.keras.layers import (\n",
    "    AveragePooling2D,\n",
    "    AvgPool2D,\n",
    "    Conv2D,\n",
    "    Dense,\n",
    "    Flatten,\n",
    "    GlobalAveragePooling2D,\n",
    "    MaxPooling2D,\n",
    ")\n",
    "from tensorflow.keras.layers.experimental import preprocessing\n",
    "from tensorflow.keras.models import Sequential\n",
    "from tensorflow.keras.optimizers import Adam\n",
    "from tensorflow.keras.preprocessing.image import ImageDataGenerator\n",
    "\n",
    "# from venn import venn"
   ]
  },
  {
   "cell_type": "code",
   "execution_count": 2,
   "metadata": {},
   "outputs": [],
   "source": [
    "PATH = \"/app/_data/\"\n",
    "BATCH_SIZE = 64\n",
    "SEED = 42\n",
    "IMAGE_SIZE = (224, 224)\n",
    "NUM_CLASSES = 6\n",
    "INPUT_SIZE = (224, 224, 3)"
   ]
  },
  {
   "cell_type": "code",
   "execution_count": 3,
   "metadata": {},
   "outputs": [],
   "source": [
    "labels = pd.read_csv(PATH + \"train.csv\")\n",
    "sample_submission = pd.read_csv(PATH + \"sample_submission.csv\")"
   ]
  },
  {
   "cell_type": "code",
   "execution_count": 4,
   "metadata": {},
   "outputs": [
    {
     "data": {
      "text/html": [
       "<div>\n",
       "<style scoped>\n",
       "    .dataframe tbody tr th:only-of-type {\n",
       "        vertical-align: middle;\n",
       "    }\n",
       "\n",
       "    .dataframe tbody tr th {\n",
       "        vertical-align: top;\n",
       "    }\n",
       "\n",
       "    .dataframe thead th {\n",
       "        text-align: right;\n",
       "    }\n",
       "</style>\n",
       "<table border=\"1\" class=\"dataframe\">\n",
       "  <thead>\n",
       "    <tr style=\"text-align: right;\">\n",
       "      <th></th>\n",
       "      <th>image</th>\n",
       "      <th>labels</th>\n",
       "    </tr>\n",
       "  </thead>\n",
       "  <tbody>\n",
       "    <tr>\n",
       "      <th>0</th>\n",
       "      <td>85f8cb619c66b863.jpg</td>\n",
       "      <td>healthy</td>\n",
       "    </tr>\n",
       "    <tr>\n",
       "      <th>1</th>\n",
       "      <td>ad8770db05586b59.jpg</td>\n",
       "      <td>healthy</td>\n",
       "    </tr>\n",
       "    <tr>\n",
       "      <th>2</th>\n",
       "      <td>c7b03e718489f3ca.jpg</td>\n",
       "      <td>healthy</td>\n",
       "    </tr>\n",
       "  </tbody>\n",
       "</table>\n",
       "</div>"
      ],
      "text/plain": [
       "                  image   labels\n",
       "0  85f8cb619c66b863.jpg  healthy\n",
       "1  ad8770db05586b59.jpg  healthy\n",
       "2  c7b03e718489f3ca.jpg  healthy"
      ]
     },
     "execution_count": 4,
     "metadata": {},
     "output_type": "execute_result"
    }
   ],
   "source": [
    "sample_submission"
   ]
  },
  {
   "cell_type": "code",
   "execution_count": 5,
   "metadata": {},
   "outputs": [
    {
     "data": {
      "text/html": [
       "<div>\n",
       "<style scoped>\n",
       "    .dataframe tbody tr th:only-of-type {\n",
       "        vertical-align: middle;\n",
       "    }\n",
       "\n",
       "    .dataframe tbody tr th {\n",
       "        vertical-align: top;\n",
       "    }\n",
       "\n",
       "    .dataframe thead th {\n",
       "        text-align: right;\n",
       "    }\n",
       "</style>\n",
       "<table border=\"1\" class=\"dataframe\">\n",
       "  <thead>\n",
       "    <tr style=\"text-align: right;\">\n",
       "      <th></th>\n",
       "      <th>image</th>\n",
       "      <th>labels</th>\n",
       "    </tr>\n",
       "  </thead>\n",
       "  <tbody>\n",
       "    <tr>\n",
       "      <th>0</th>\n",
       "      <td>800113bb65efe69e.jpg</td>\n",
       "      <td>healthy</td>\n",
       "    </tr>\n",
       "    <tr>\n",
       "      <th>1</th>\n",
       "      <td>8002cb321f8bfcdf.jpg</td>\n",
       "      <td>scab frog_eye_leaf_spot complex</td>\n",
       "    </tr>\n",
       "    <tr>\n",
       "      <th>2</th>\n",
       "      <td>80070f7fb5e2ccaa.jpg</td>\n",
       "      <td>scab</td>\n",
       "    </tr>\n",
       "    <tr>\n",
       "      <th>3</th>\n",
       "      <td>80077517781fb94f.jpg</td>\n",
       "      <td>scab</td>\n",
       "    </tr>\n",
       "    <tr>\n",
       "      <th>4</th>\n",
       "      <td>800cbf0ff87721f8.jpg</td>\n",
       "      <td>complex</td>\n",
       "    </tr>\n",
       "  </tbody>\n",
       "</table>\n",
       "</div>"
      ],
      "text/plain": [
       "                  image                           labels\n",
       "0  800113bb65efe69e.jpg                          healthy\n",
       "1  8002cb321f8bfcdf.jpg  scab frog_eye_leaf_spot complex\n",
       "2  80070f7fb5e2ccaa.jpg                             scab\n",
       "3  80077517781fb94f.jpg                             scab\n",
       "4  800cbf0ff87721f8.jpg                          complex"
      ]
     },
     "execution_count": 5,
     "metadata": {},
     "output_type": "execute_result"
    },
    {
     "name": "stdout",
     "output_type": "stream",
     "text": [
      "<class 'pandas.core.frame.DataFrame'>\n",
      "RangeIndex: 18632 entries, 0 to 18631\n",
      "Data columns (total 2 columns):\n",
      " #   Column  Non-Null Count  Dtype \n",
      "---  ------  --------------  ----- \n",
      " 0   image   18632 non-null  object\n",
      " 1   labels  18632 non-null  object\n",
      "dtypes: object(2)\n",
      "memory usage: 291.2+ KB\n"
     ]
    }
   ],
   "source": [
    "labels.head()\n",
    "labels.info()"
   ]
  },
  {
   "cell_type": "code",
   "execution_count": 6,
   "metadata": {},
   "outputs": [
    {
     "data": {
      "text/plain": [
       "scab                               0.259017\n",
       "healthy                            0.248175\n",
       "frog_eye_leaf_spot                 0.170728\n",
       "rust                               0.099828\n",
       "complex                            0.085981\n",
       "powdery_mildew                     0.063547\n",
       "scab frog_eye_leaf_spot            0.036818\n",
       "scab frog_eye_leaf_spot complex    0.010734\n",
       "frog_eye_leaf_spot complex         0.008856\n",
       "rust frog_eye_leaf_spot            0.006441\n",
       "rust complex                       0.005206\n",
       "powdery_mildew complex             0.004669\n",
       "Name: labels, dtype: float64"
      ]
     },
     "execution_count": 6,
     "metadata": {},
     "output_type": "execute_result"
    }
   ],
   "source": [
    "labels[\"labels\"].value_counts(normalize=True)"
   ]
  },
  {
   "cell_type": "code",
   "execution_count": 7,
   "metadata": {},
   "outputs": [],
   "source": [
    "labels = labels.join(labels[\"labels\"].str.get_dummies(sep=\" \"))"
   ]
  },
  {
   "cell_type": "code",
   "execution_count": 8,
   "metadata": {},
   "outputs": [
    {
     "data": {
      "text/plain": [
       "['complex', 'frog_eye_leaf_spot', 'healthy', 'powdery_mildew', 'rust', 'scab']"
      ]
     },
     "execution_count": 8,
     "metadata": {},
     "output_type": "execute_result"
    }
   ],
   "source": [
    "feature_columns = labels.columns[2:].tolist()\n",
    "feature_columns"
   ]
  },
  {
   "cell_type": "markdown",
   "metadata": {},
   "source": [
    "## resizing and saving images"
   ]
  },
  {
   "cell_type": "code",
   "execution_count": 9,
   "metadata": {},
   "outputs": [],
   "source": [
    "# def resize_im(\n",
    "#     image_name, new_folder_name=\"small_nearest\", size=(224, 224), resample=Image.NEAREST\n",
    "# ):\n",
    "#     image = Image.open(PATH + \"train_images/\" + image_name)\n",
    "#     image = image.resize(size, resample=resample)\n",
    "#     if not os.path.isdir(PATH + \"train_images/\" + new_folder_name + \"/\"):\n",
    "#         os.mkdir(PATH + \"train_images/\" + new_folder_name + \"/\")\n",
    "#     image.save(PATH + \"train_images/\" + new_folder_name + \"/\" + image_name)\n",
    "# labels['image'].apply(resize_im)"
   ]
  },
  {
   "cell_type": "markdown",
   "metadata": {},
   "source": [
    "## weights"
   ]
  },
  {
   "cell_type": "code",
   "execution_count": 10,
   "metadata": {},
   "outputs": [],
   "source": [
    "# labels[\"multi_label\"] = labels[\"labels\"].astype(\"category\").cat.codes\n",
    "# dict_weights = (\n",
    "#     1\n",
    "#     / labels[\"multi_label\"].value_counts()\n",
    "#     / np.sum(1 / labels[\"multi_label\"].value_counts())\n",
    "# ).to_dict()\n",
    "# def weight_fill(x):\n",
    "#    return dict_weights[x]\n",
    "# labels['weights'] = labels[\"multi_label\"].apply(weight_fill)"
   ]
  },
  {
   "cell_type": "markdown",
   "metadata": {},
   "source": [
    "## ImageDataGenerator"
   ]
  },
  {
   "cell_type": "code",
   "execution_count": 11,
   "metadata": {},
   "outputs": [
    {
     "name": "stdout",
     "output_type": "stream",
     "text": [
      "Found 14906 validated image filenames.\n"
     ]
    }
   ],
   "source": [
    "train_datagen = ImageDataGenerator(\n",
    "    validation_split=0.2,\n",
    "    rescale=1.0 / 255,\n",
    "    # #     samplewise_center=True,\n",
    "    # #     samplewise_std_normalization=True,\n",
    "#         rotation_range = 45,width_shift_range=0.25,\n",
    "#         height_shift_range=0.25,\n",
    "#         brightness_range=(0.5, 1.5),\n",
    "#         shear_range = 45,\n",
    "#         zoom_range = 0.25,\n",
    "#         horizontal_flip=True,\n",
    "#         vertical_flip=True\n",
    ")\n",
    "train = train_datagen.flow_from_dataframe(\n",
    "    dataframe=labels,\n",
    "    directory=PATH + \"train_images/small_nearest/\",\n",
    "    x_col=\"image\",\n",
    "    y_col=feature_columns,\n",
    "    target_size=IMAGE_SIZE,\n",
    "    batch_size=BATCH_SIZE,\n",
    "    class_mode=\"raw\",\n",
    "    subset=\"training\",\n",
    "    seed=SEED,\n",
    "    interpolation = 'nearest'\n",
    ")"
   ]
  },
  {
   "cell_type": "code",
   "execution_count": 12,
   "metadata": {},
   "outputs": [
    {
     "name": "stdout",
     "output_type": "stream",
     "text": [
      "Found 3726 validated image filenames.\n"
     ]
    }
   ],
   "source": [
    "valid_datagen = ImageDataGenerator(\n",
    "    validation_split=0.2,\n",
    "    rescale=1.0 / 255,\n",
    ")\n",
    "valid = valid_datagen.flow_from_dataframe(\n",
    "    dataframe=labels,\n",
    "    directory=PATH + \"train_images/small_nearest/\",\n",
    "    x_col=\"image\",\n",
    "    y_col=feature_columns,\n",
    "    target_size=IMAGE_SIZE,\n",
    "    batch_size=BATCH_SIZE,\n",
    "    class_mode=\"raw\",\n",
    "    subset=\"validation\",\n",
    "    seed=SEED,\n",
    "    interpolation = 'nearest'\n",
    ")"
   ]
  },
  {
   "cell_type": "code",
   "execution_count": 13,
   "metadata": {},
   "outputs": [
    {
     "name": "stdout",
     "output_type": "stream",
     "text": [
      "Found 3 validated image filenames.\n"
     ]
    }
   ],
   "source": [
    "test_datagen = ImageDataGenerator(rescale=1.0 / 255)\n",
    "test = test_datagen.flow_from_dataframe(\n",
    "    dataframe=sample_submission,\n",
    "    directory=PATH + \"test_images/\",\n",
    "    x_col=\"image\",\n",
    "    y_col=None,\n",
    "    target_size=IMAGE_SIZE,\n",
    "    batch_size=BATCH_SIZE,\n",
    "    class_mode=None,\n",
    "    seed=SEED,\n",
    "    shuffle=False,\n",
    "    interpolation = 'nearest'\n",
    ")"
   ]
  },
  {
   "cell_type": "markdown",
   "metadata": {},
   "source": [
    "### plots"
   ]
  },
  {
   "cell_type": "code",
   "execution_count": 14,
   "metadata": {},
   "outputs": [],
   "source": [
    "def plot_curves(model, loss=False):\n",
    "    df = pd.DataFrame(model.history)\n",
    "    if loss:\n",
    "        plt.figure(figsize=(12, 6))\n",
    "        plt.title(\"loss\")\n",
    "        plt.plot(df.iloc[:, 0], label=\"loss\")\n",
    "        plt.plot(df.iloc[:, 5], label=\"val_loss\")\n",
    "        plt.legend()\n",
    "        plt.show()\n",
    "    else:\n",
    "        plt.figure(figsize=(12, 20))\n",
    "        plt.subplot(4, 1, 1)\n",
    "        plt.title(\"accuracy\")\n",
    "        plt.plot(df.iloc[:, 1], label=\"accuracy\")\n",
    "        plt.plot(df.iloc[:, 6], label=\"val_accuracy\")\n",
    "        plt.legend()\n",
    "\n",
    "        plt.subplot(4, 1, 2)\n",
    "        plt.title(\"recall\")\n",
    "        plt.plot(df.iloc[:, 2], label=\"recall\")\n",
    "        plt.plot(df.iloc[:, 7], label=\"val_recall\")\n",
    "        plt.legend()\n",
    "\n",
    "        plt.subplot(4, 1, 3)\n",
    "        plt.title(\"precision\")\n",
    "        plt.plot(df.iloc[:, 3], label=\"precision\")\n",
    "        plt.plot(df.iloc[:, 8], label=\"val_precision\")\n",
    "        plt.legend()\n",
    "\n",
    "        plt.subplot(4, 1, 4)\n",
    "        plt.title(\"f1\")\n",
    "        plt.plot(df.iloc[:, 4], label=\"f1\")\n",
    "        plt.plot(df.iloc[:, 9], label=\"val_f1\")\n",
    "        plt.legend()\n",
    "        plt.show();"
   ]
  },
  {
   "cell_type": "markdown",
   "metadata": {},
   "source": [
    "## model"
   ]
  },
  {
   "cell_type": "markdown",
   "metadata": {},
   "source": [
    "### base_model"
   ]
  },
  {
   "cell_type": "code",
   "execution_count": 15,
   "metadata": {},
   "outputs": [],
   "source": [
    "# backbone = ResNet50(input_shape=(224, 224, 3), weights=\"imagenet\", include_top=False)\n",
    "# model_w = Sequential()\n",
    "# model_w.add(backbone)\n",
    "# model_w.add(GlobalAveragePooling2D())\n",
    "# model_w.add(Dense(units=7, activation=\"sigmoid\"))\n",
    "# model_w.compile(\n",
    "#     loss=\"CategoricalCrossentropy\",\n",
    "#     optimizer=Adam(lr=0.001),\n",
    "#     metrics=[keras.metrics.CategoricalAccuracy(), keras.metrics.Recall(), keras.metrics.Precision(), tfa.metrics.F1Score(\n",
    "#                     num_classes=7,\n",
    "#                     average='macro')]\n",
    "# )"
   ]
  },
  {
   "cell_type": "markdown",
   "metadata": {},
   "source": [
    "### from keras\n",
    "<https://keras.io/guides/preprocessing_layers/#image-preprocessing-layers>"
   ]
  },
  {
   "cell_type": "code",
   "execution_count": 13,
   "metadata": {},
   "outputs": [],
   "source": [
    "data_augmentation = keras.Sequential(\n",
    "    [\n",
    "        keras.layers.experimental.preprocessing.RandomFlip(\"horizontal_and_vertical\"),\n",
    "        keras.layers.experimental.preprocessing.RandomHeight(0.1),\n",
    "        keras.layers.experimental.preprocessing.RandomWidth(0.1),\n",
    "        keras.layers.experimental.preprocessing.RandomRotation(0.15),\n",
    "        keras.layers.experimental.preprocessing.RandomZoom(0.25, 0.25),\n",
    "    ]\n",
    ")\n",
    "#         keras.preprocessing.image.random_shear(45),\n",
    "#         keras.preprocessing.image.random_rotation(45),\n",
    "#         keras.preprocessing.image.random_brightness(0.5, 1.5),\n",
    "#         keras.preprocessing.image.random_zoom(0.75, 1.25),\n",
    "#         keras.preprocessing.image.random_shift(0.25, 0.25)\n",
    "# x = keras.preprocessing.image.random_shear(x, 45, row_axis=0, col_axis=1, channel_axis=2),\n",
    "# x = keras.preprocessing.image.random_rotation(x, 45, row_axis=0, col_axis=1, channel_axis=2),\n",
    "# x = keras.preprocessing.image.random_brightness(x, (0.5, 1.5)),\n",
    "# x = keras.preprocessing.image.random_zoom(x, (0.75, 1.25), row_axis=0, col_axis=1, channel_axis=2),\n",
    "# x = keras.preprocessing.image.random_shift(x, 0.25, 0.25, row_axis=0, col_axis=1, channel_axis=2)"
   ]
  },
  {
   "cell_type": "code",
   "execution_count": 17,
   "metadata": {},
   "outputs": [],
   "source": [
    "def preprocess_data(x, y):\n",
    "    x_p = data_augmentation(x)\n",
    "    x_p = keras.applications.resnet.preprocess_input(x_p)\n",
    "    return (x_p, y)"
   ]
  },
  {
   "cell_type": "code",
   "execution_count": 18,
   "metadata": {},
   "outputs": [],
   "source": [
    "# preprocess_data(next(valid)[0])"
   ]
  },
  {
   "cell_type": "markdown",
   "metadata": {},
   "source": [
    "### func style"
   ]
  },
  {
   "cell_type": "code",
   "execution_count": 14,
   "metadata": {},
   "outputs": [],
   "source": [
    "inputs = keras.Input(shape=INPUT_SIZE)\n",
    "x = data_augmentation(inputs)\n",
    "x = keras.applications.resnet.preprocess_input(x)\n",
    "x = keras.applications.ResNet50(weights=\"imagenet\", include_top=False)(x)\n",
    "x = keras.layers.GlobalAveragePooling2D(name=\"avg_pool\")(x)\n",
    "x = keras.layers.Flatten(name=\"flatten\")(x)\n",
    "outputs = keras.layers.Dense(NUM_CLASSES, activation=\"sigmoid\")(x)\n",
    "model = keras.Model(inputs=inputs, outputs=outputs)"
   ]
  },
  {
   "cell_type": "code",
   "execution_count": 15,
   "metadata": {},
   "outputs": [],
   "source": [
    "model.compile(\n",
    "    loss=\"binary_crossentropy\",\n",
    "    optimizer=Adam(lr=0.0005),\n",
    "    metrics=['acc',\n",
    "        keras.metrics.Recall(),\n",
    "        keras.metrics.Precision(),\n",
    "        tfa.metrics.F1Score(num_classes=NUM_CLASSES, average=\"micro\"),\n",
    "    ],\n",
    ")"
   ]
  },
  {
   "cell_type": "code",
   "execution_count": 16,
   "metadata": {},
   "outputs": [
    {
     "name": "stdout",
     "output_type": "stream",
     "text": [
      "Model: \"functional_1\"\n",
      "_________________________________________________________________\n",
      "Layer (type)                 Output Shape              Param #   \n",
      "=================================================================\n",
      "input_1 (InputLayer)         [(None, 224, 224, 3)]     0         \n",
      "_________________________________________________________________\n",
      "sequential (Sequential)      (None, None, None, 3)     0         \n",
      "_________________________________________________________________\n",
      "tf_op_layer_strided_slice (T [(None, None, None, 3)]   0         \n",
      "_________________________________________________________________\n",
      "tf_op_layer_BiasAdd (TensorF [(None, None, None, 3)]   0         \n",
      "_________________________________________________________________\n",
      "resnet50 (Functional)        (None, None, None, 2048)  23587712  \n",
      "_________________________________________________________________\n",
      "avg_pool (GlobalAveragePooli (None, 2048)              0         \n",
      "_________________________________________________________________\n",
      "flatten (Flatten)            (None, 2048)              0         \n",
      "_________________________________________________________________\n",
      "dense (Dense)                (None, 6)                 12294     \n",
      "=================================================================\n",
      "Total params: 23,600,006\n",
      "Trainable params: 23,546,886\n",
      "Non-trainable params: 53,120\n",
      "_________________________________________________________________\n"
     ]
    }
   ],
   "source": [
    "model.summary()"
   ]
  },
  {
   "cell_type": "markdown",
   "metadata": {},
   "source": []
  },
  {
   "cell_type": "code",
   "execution_count": 17,
   "metadata": {},
   "outputs": [
    {
     "name": "stdout",
     "output_type": "stream",
     "text": [
      "Epoch 1/50\n",
      "WARNING:tensorflow:multiprocessing can interact badly with TensorFlow, causing nondeterministic deadlocks. For high performance data pipelines tf.data is recommended.\n",
      "232/233 [============================>.] - ETA: 0s - loss: 0.2613 - acc: 0.6837 - recall: 0.6046 - precision: 0.7401 - f1_score: 0.6799WARNING:tensorflow:multiprocessing can interact badly with TensorFlow, causing nondeterministic deadlocks. For high performance data pipelines tf.data is recommended.\n",
      "233/233 [==============================] - ETA: 0s - loss: 0.2610 - acc: 0.6844 - recall: 0.6054 - precision: 0.7407 - f1_score: 0.6805WARNING:tensorflow:multiprocessing can interact badly with TensorFlow, causing nondeterministic deadlocks. For high performance data pipelines tf.data is recommended.\n",
      "WARNING:tensorflow:multiprocessing can interact badly with TensorFlow, causing nondeterministic deadlocks. For high performance data pipelines tf.data is recommended.\n",
      "233/233 [==============================] - 115s 494ms/step - loss: 0.2610 - acc: 0.6844 - recall: 0.6054 - precision: 0.7407 - f1_score: 0.6805 - val_loss: 0.8476 - val_acc: 0.1071 - val_recall: 0.1098 - val_precision: 0.1167 - val_f1_score: 0.1132\n",
      "Epoch 2/50\n",
      "WARNING:tensorflow:multiprocessing can interact badly with TensorFlow, causing nondeterministic deadlocks. For high performance data pipelines tf.data is recommended.\n",
      "232/233 [============================>.] - ETA: 0s - loss: 0.1849 - acc: 0.7932 - recall: 0.7417 - precision: 0.8296 - f1_score: 0.7842WARNING:tensorflow:multiprocessing can interact badly with TensorFlow, causing nondeterministic deadlocks. For high performance data pipelines tf.data is recommended.\n",
      "233/233 [==============================] - ETA: 0s - loss: 0.1848 - acc: 0.7931 - recall: 0.7417 - precision: 0.8296 - f1_score: 0.7841WARNING:tensorflow:multiprocessing can interact badly with TensorFlow, causing nondeterministic deadlocks. For high performance data pipelines tf.data is recommended.\n",
      "233/233 [==============================] - 84s 360ms/step - loss: 0.1848 - acc: 0.7931 - recall: 0.7417 - precision: 0.8296 - f1_score: 0.7841 - val_loss: 0.5085 - val_acc: 0.2185 - val_recall: 0.0000e+00 - val_precision: 0.0000e+00 - val_f1_score: 0.2118\n",
      "Epoch 3/50\n",
      "WARNING:tensorflow:multiprocessing can interact badly with TensorFlow, causing nondeterministic deadlocks. For high performance data pipelines tf.data is recommended.\n",
      "232/233 [============================>.] - ETA: 0s - loss: 0.1635 - acc: 0.8228 - recall: 0.7719 - precision: 0.8514 - f1_score: 0.8127WARNING:tensorflow:multiprocessing can interact badly with TensorFlow, causing nondeterministic deadlocks. For high performance data pipelines tf.data is recommended.\n",
      "233/233 [==============================] - ETA: 0s - loss: 0.1634 - acc: 0.8230 - recall: 0.7720 - precision: 0.8515 - f1_score: 0.8129WARNING:tensorflow:multiprocessing can interact badly with TensorFlow, causing nondeterministic deadlocks. For high performance data pipelines tf.data is recommended.\n",
      "233/233 [==============================] - 83s 355ms/step - loss: 0.1634 - acc: 0.8230 - recall: 0.7720 - precision: 0.8515 - f1_score: 0.8129 - val_loss: 0.6521 - val_acc: 0.1071 - val_recall: 0.1098 - val_precision: 0.1167 - val_f1_score: 0.1132\n",
      "Epoch 4/50\n",
      "WARNING:tensorflow:multiprocessing can interact badly with TensorFlow, causing nondeterministic deadlocks. For high performance data pipelines tf.data is recommended.\n",
      "232/233 [============================>.] - ETA: 0s - loss: 0.1529 - acc: 0.8343 - recall: 0.7919 - precision: 0.8577 - f1_score: 0.8240WARNING:tensorflow:multiprocessing can interact badly with TensorFlow, causing nondeterministic deadlocks. For high performance data pipelines tf.data is recommended.\n",
      "233/233 [==============================] - ETA: 0s - loss: 0.1530 - acc: 0.8339 - recall: 0.7918 - precision: 0.8574 - f1_score: 0.8237WARNING:tensorflow:multiprocessing can interact badly with TensorFlow, causing nondeterministic deadlocks. For high performance data pipelines tf.data is recommended.\n",
      "WARNING:tensorflow:multiprocessing can interact badly with TensorFlow, causing nondeterministic deadlocks. For high performance data pipelines tf.data is recommended.\n",
      "233/233 [==============================] - 80s 342ms/step - loss: 0.1530 - acc: 0.8339 - recall: 0.7918 - precision: 0.8574 - f1_score: 0.8237 - val_loss: 2.5901 - val_acc: 0.1071 - val_recall: 0.1747 - val_precision: 0.1028 - val_f1_score: 0.1132\n",
      "Epoch 5/50\n",
      "WARNING:tensorflow:multiprocessing can interact badly with TensorFlow, causing nondeterministic deadlocks. For high performance data pipelines tf.data is recommended.\n",
      "232/233 [============================>.] - ETA: 0s - loss: 0.1445 - acc: 0.8416 - recall: 0.8042 - precision: 0.8670 - f1_score: 0.8298WARNING:tensorflow:multiprocessing can interact badly with TensorFlow, causing nondeterministic deadlocks. For high performance data pipelines tf.data is recommended.\n",
      "233/233 [==============================] - ETA: 0s - loss: 0.1446 - acc: 0.8415 - recall: 0.8041 - precision: 0.8671 - f1_score: 0.8297WARNING:tensorflow:multiprocessing can interact badly with TensorFlow, causing nondeterministic deadlocks. For high performance data pipelines tf.data is recommended.\n",
      "233/233 [==============================] - 73s 311ms/step - loss: 0.1446 - acc: 0.8415 - recall: 0.8041 - precision: 0.8671 - f1_score: 0.8297 - val_loss: 2.1064 - val_acc: 0.1033 - val_recall: 0.0972 - val_precision: 0.1033 - val_f1_score: 0.1002\n",
      "Epoch 6/50\n",
      "WARNING:tensorflow:multiprocessing can interact badly with TensorFlow, causing nondeterministic deadlocks. For high performance data pipelines tf.data is recommended.\n",
      "232/233 [============================>.] - ETA: 0s - loss: 0.1370 - acc: 0.8520 - recall: 0.8164 - precision: 0.8723 - f1_score: 0.8403WARNING:tensorflow:multiprocessing can interact badly with TensorFlow, causing nondeterministic deadlocks. For high performance data pipelines tf.data is recommended.\n",
      "233/233 [==============================] - ETA: 0s - loss: 0.1372 - acc: 0.8517 - recall: 0.8162 - precision: 0.8722 - f1_score: 0.8401WARNING:tensorflow:multiprocessing can interact badly with TensorFlow, causing nondeterministic deadlocks. For high performance data pipelines tf.data is recommended.\n",
      "233/233 [==============================] - 76s 327ms/step - loss: 0.1372 - acc: 0.8517 - recall: 0.8162 - precision: 0.8722 - f1_score: 0.8401 - val_loss: 0.6248 - val_acc: 0.1071 - val_recall: 0.0000e+00 - val_precision: 0.0000e+00 - val_f1_score: 0.1132\n",
      "Epoch 7/50\n",
      "WARNING:tensorflow:multiprocessing can interact badly with TensorFlow, causing nondeterministic deadlocks. For high performance data pipelines tf.data is recommended.\n",
      "232/233 [============================>.] - ETA: 0s - loss: 0.1305 - acc: 0.8604 - recall: 0.8253 - precision: 0.8793 - f1_score: 0.8481WARNING:tensorflow:multiprocessing can interact badly with TensorFlow, causing nondeterministic deadlocks. For high performance data pipelines tf.data is recommended.\n",
      "233/233 [==============================] - ETA: 0s - loss: 0.1304 - acc: 0.8605 - recall: 0.8255 - precision: 0.8793 - f1_score: 0.8481WARNING:tensorflow:multiprocessing can interact badly with TensorFlow, causing nondeterministic deadlocks. For high performance data pipelines tf.data is recommended.\n",
      "233/233 [==============================] - 76s 326ms/step - loss: 0.1304 - acc: 0.8605 - recall: 0.8255 - precision: 0.8793 - f1_score: 0.8481 - val_loss: 1.3541 - val_acc: 0.1041 - val_recall: 0.4085 - val_precision: 0.2226 - val_f1_score: 0.1009\n",
      "Epoch 8/50\n",
      "WARNING:tensorflow:multiprocessing can interact badly with TensorFlow, causing nondeterministic deadlocks. For high performance data pipelines tf.data is recommended.\n",
      "232/233 [============================>.] - ETA: 0s - loss: 0.1292 - acc: 0.8627 - recall: 0.8272 - precision: 0.8812 - f1_score: 0.8503WARNING:tensorflow:multiprocessing can interact badly with TensorFlow, causing nondeterministic deadlocks. For high performance data pipelines tf.data is recommended.\n",
      "233/233 [==============================] - ETA: 0s - loss: 0.1291 - acc: 0.8629 - recall: 0.8276 - precision: 0.8813 - f1_score: 0.8504WARNING:tensorflow:multiprocessing can interact badly with TensorFlow, causing nondeterministic deadlocks. For high performance data pipelines tf.data is recommended.\n",
      "233/233 [==============================] - 73s 313ms/step - loss: 0.1291 - acc: 0.8629 - recall: 0.8276 - precision: 0.8813 - f1_score: 0.8504 - val_loss: 0.9245 - val_acc: 0.2974 - val_recall: 0.0000e+00 - val_precision: 0.0000e+00 - val_f1_score: 0.3229\n",
      "Epoch 9/50\n",
      "WARNING:tensorflow:multiprocessing can interact badly with TensorFlow, causing nondeterministic deadlocks. For high performance data pipelines tf.data is recommended.\n",
      "232/233 [============================>.] - ETA: 0s - loss: 0.1256 - acc: 0.8652 - recall: 0.8314 - precision: 0.8820 - f1_score: 0.8534WARNING:tensorflow:multiprocessing can interact badly with TensorFlow, causing nondeterministic deadlocks. For high performance data pipelines tf.data is recommended.\n",
      "233/233 [==============================] - ETA: 0s - loss: 0.1255 - acc: 0.8652 - recall: 0.8314 - precision: 0.8818 - f1_score: 0.8533WARNING:tensorflow:multiprocessing can interact badly with TensorFlow, causing nondeterministic deadlocks. For high performance data pipelines tf.data is recommended.\n",
      "WARNING:tensorflow:multiprocessing can interact badly with TensorFlow, causing nondeterministic deadlocks. For high performance data pipelines tf.data is recommended.\n",
      "233/233 [==============================] - 73s 314ms/step - loss: 0.1255 - acc: 0.8652 - recall: 0.8314 - precision: 0.8818 - f1_score: 0.8533 - val_loss: 0.7715 - val_acc: 0.2974 - val_recall: 0.0000e+00 - val_precision: 0.0000e+00 - val_f1_score: 0.3229\n",
      "Epoch 10/50\n",
      "WARNING:tensorflow:multiprocessing can interact badly with TensorFlow, causing nondeterministic deadlocks. For high performance data pipelines tf.data is recommended.\n",
      "232/233 [============================>.] - ETA: 0s - loss: 0.1227 - acc: 0.8676 - recall: 0.8372 - precision: 0.8854 - f1_score: 0.8548WARNING:tensorflow:multiprocessing can interact badly with TensorFlow, causing nondeterministic deadlocks. For high performance data pipelines tf.data is recommended.\n",
      "233/233 [==============================] - ETA: 0s - loss: 0.1226 - acc: 0.8678 - recall: 0.8374 - precision: 0.8855 - f1_score: 0.8549WARNING:tensorflow:multiprocessing can interact badly with TensorFlow, causing nondeterministic deadlocks. For high performance data pipelines tf.data is recommended.\n",
      "233/233 [==============================] - 73s 313ms/step - loss: 0.1226 - acc: 0.8678 - recall: 0.8374 - precision: 0.8855 - f1_score: 0.8549 - val_loss: 2.9634 - val_acc: 0.2974 - val_recall: 0.0000e+00 - val_precision: 0.0000e+00 - val_f1_score: 0.3229\n",
      "Epoch 11/50\n",
      "WARNING:tensorflow:multiprocessing can interact badly with TensorFlow, causing nondeterministic deadlocks. For high performance data pipelines tf.data is recommended.\n",
      "232/233 [============================>.] - ETA: 0s - loss: 0.1189 - acc: 0.8694 - recall: 0.8405 - precision: 0.8870 - f1_score: 0.8565WARNING:tensorflow:multiprocessing can interact badly with TensorFlow, causing nondeterministic deadlocks. For high performance data pipelines tf.data is recommended.\n",
      "233/233 [==============================] - ETA: 0s - loss: 0.1190 - acc: 0.8690 - recall: 0.8405 - precision: 0.8868 - f1_score: 0.8562WARNING:tensorflow:multiprocessing can interact badly with TensorFlow, causing nondeterministic deadlocks. For high performance data pipelines tf.data is recommended.\n",
      "233/233 [==============================] - 74s 316ms/step - loss: 0.1190 - acc: 0.8690 - recall: 0.8405 - precision: 0.8868 - f1_score: 0.8562 - val_loss: 3.1405 - val_acc: 0.2974 - val_recall: 0.0563 - val_precision: 0.2461 - val_f1_score: 0.3229\n",
      "Epoch 12/50\n",
      "WARNING:tensorflow:multiprocessing can interact badly with TensorFlow, causing nondeterministic deadlocks. For high performance data pipelines tf.data is recommended.\n",
      "232/233 [============================>.] - ETA: 0s - loss: 0.1154 - acc: 0.8737 - recall: 0.8480 - precision: 0.8905 - f1_score: 0.8623WARNING:tensorflow:multiprocessing can interact badly with TensorFlow, causing nondeterministic deadlocks. For high performance data pipelines tf.data is recommended.\n",
      "233/233 [==============================] - ETA: 0s - loss: 0.1155 - acc: 0.8735 - recall: 0.8478 - precision: 0.8903 - f1_score: 0.8621WARNING:tensorflow:multiprocessing can interact badly with TensorFlow, causing nondeterministic deadlocks. For high performance data pipelines tf.data is recommended.\n",
      "233/233 [==============================] - 74s 319ms/step - loss: 0.1155 - acc: 0.8735 - recall: 0.8478 - precision: 0.8903 - f1_score: 0.8621 - val_loss: 1.8250 - val_acc: 0.2974 - val_recall: 0.3133 - val_precision: 0.3331 - val_f1_score: 0.3229\n",
      "Epoch 13/50\n",
      "WARNING:tensorflow:multiprocessing can interact badly with TensorFlow, causing nondeterministic deadlocks. For high performance data pipelines tf.data is recommended.\n",
      "232/233 [============================>.] - ETA: 0s - loss: 0.1139 - acc: 0.8764 - recall: 0.8519 - precision: 0.8911 - f1_score: 0.8640WARNING:tensorflow:multiprocessing can interact badly with TensorFlow, causing nondeterministic deadlocks. For high performance data pipelines tf.data is recommended.\n",
      "233/233 [==============================] - ETA: 0s - loss: 0.1137 - acc: 0.8766 - recall: 0.8522 - precision: 0.8912 - f1_score: 0.8642WARNING:tensorflow:multiprocessing can interact badly with TensorFlow, causing nondeterministic deadlocks. For high performance data pipelines tf.data is recommended.\n",
      "WARNING:tensorflow:multiprocessing can interact badly with TensorFlow, causing nondeterministic deadlocks. For high performance data pipelines tf.data is recommended.\n",
      "233/233 [==============================] - 74s 316ms/step - loss: 0.1137 - acc: 0.8766 - recall: 0.8522 - precision: 0.8912 - f1_score: 0.8642 - val_loss: 0.6322 - val_acc: 0.2974 - val_recall: 0.0000e+00 - val_precision: 0.0000e+00 - val_f1_score: 0.3229\n",
      "Epoch 14/50\n",
      "WARNING:tensorflow:multiprocessing can interact badly with TensorFlow, causing nondeterministic deadlocks. For high performance data pipelines tf.data is recommended.\n",
      "232/233 [============================>.] - ETA: 0s - loss: 0.1111 - acc: 0.8805 - recall: 0.8550 - precision: 0.8940 - f1_score: 0.8688WARNING:tensorflow:multiprocessing can interact badly with TensorFlow, causing nondeterministic deadlocks. For high performance data pipelines tf.data is recommended.\n",
      "233/233 [==============================] - ETA: 0s - loss: 0.1112 - acc: 0.8807 - recall: 0.8550 - precision: 0.8939 - f1_score: 0.8689WARNING:tensorflow:multiprocessing can interact badly with TensorFlow, causing nondeterministic deadlocks. For high performance data pipelines tf.data is recommended.\n",
      "WARNING:tensorflow:multiprocessing can interact badly with TensorFlow, causing nondeterministic deadlocks. For high performance data pipelines tf.data is recommended.\n",
      "233/233 [==============================] - 83s 358ms/step - loss: 0.1112 - acc: 0.8807 - recall: 0.8550 - precision: 0.8939 - f1_score: 0.8689 - val_loss: 2.2555 - val_acc: 0.1071 - val_recall: 0.0000e+00 - val_precision: 0.0000e+00 - val_f1_score: 0.1132\n",
      "Epoch 15/50\n",
      "WARNING:tensorflow:multiprocessing can interact badly with TensorFlow, causing nondeterministic deadlocks. For high performance data pipelines tf.data is recommended.\n",
      "232/233 [============================>.] - ETA: 0s - loss: 0.1094 - acc: 0.8813 - recall: 0.8577 - precision: 0.8934 - f1_score: 0.8681WARNING:tensorflow:multiprocessing can interact badly with TensorFlow, causing nondeterministic deadlocks. For high performance data pipelines tf.data is recommended.\n",
      "233/233 [==============================] - ETA: 0s - loss: 0.1093 - acc: 0.8814 - recall: 0.8578 - precision: 0.8935 - f1_score: 0.8682WARNING:tensorflow:multiprocessing can interact badly with TensorFlow, causing nondeterministic deadlocks. For high performance data pipelines tf.data is recommended.\n",
      "WARNING:tensorflow:multiprocessing can interact badly with TensorFlow, causing nondeterministic deadlocks. For high performance data pipelines tf.data is recommended.\n",
      "233/233 [==============================] - 82s 351ms/step - loss: 0.1093 - acc: 0.8814 - recall: 0.8578 - precision: 0.8935 - f1_score: 0.8682 - val_loss: 1.4133 - val_acc: 0.2974 - val_recall: 0.0000e+00 - val_precision: 0.0000e+00 - val_f1_score: 0.3229\n",
      "Epoch 16/50\n",
      "WARNING:tensorflow:multiprocessing can interact badly with TensorFlow, causing nondeterministic deadlocks. For high performance data pipelines tf.data is recommended.\n",
      "232/233 [============================>.] - ETA: 0s - loss: 0.1049 - acc: 0.8851 - recall: 0.8620 - precision: 0.8965 - f1_score: 0.8719WARNING:tensorflow:multiprocessing can interact badly with TensorFlow, causing nondeterministic deadlocks. For high performance data pipelines tf.data is recommended.\n",
      "233/233 [==============================] - ETA: 0s - loss: 0.1049 - acc: 0.8851 - recall: 0.8621 - precision: 0.8967 - f1_score: 0.8720WARNING:tensorflow:multiprocessing can interact badly with TensorFlow, causing nondeterministic deadlocks. For high performance data pipelines tf.data is recommended.\n",
      "233/233 [==============================] - 78s 336ms/step - loss: 0.1049 - acc: 0.8851 - recall: 0.8621 - precision: 0.8967 - f1_score: 0.8720 - val_loss: 0.6421 - val_acc: 0.1071 - val_recall: 0.0000e+00 - val_precision: 0.0000e+00 - val_f1_score: 0.1132\n",
      "Epoch 17/50\n",
      "WARNING:tensorflow:multiprocessing can interact badly with TensorFlow, causing nondeterministic deadlocks. For high performance data pipelines tf.data is recommended.\n",
      "232/233 [============================>.] - ETA: 0s - loss: 0.1043 - acc: 0.8857 - recall: 0.8635 - precision: 0.8966 - f1_score: 0.8738WARNING:tensorflow:multiprocessing can interact badly with TensorFlow, causing nondeterministic deadlocks. For high performance data pipelines tf.data is recommended.\n",
      "233/233 [==============================] - ETA: 0s - loss: 0.1040 - acc: 0.8861 - recall: 0.8638 - precision: 0.8970 - f1_score: 0.8741WARNING:tensorflow:multiprocessing can interact badly with TensorFlow, causing nondeterministic deadlocks. For high performance data pipelines tf.data is recommended.\n",
      "233/233 [==============================] - 75s 322ms/step - loss: 0.1040 - acc: 0.8861 - recall: 0.8638 - precision: 0.8970 - f1_score: 0.8741 - val_loss: 3.5284 - val_acc: 0.1071 - val_recall: 0.1098 - val_precision: 0.1167 - val_f1_score: 0.1132\n",
      "Epoch 18/50\n",
      "WARNING:tensorflow:multiprocessing can interact badly with TensorFlow, causing nondeterministic deadlocks. For high performance data pipelines tf.data is recommended.\n",
      "232/233 [============================>.] - ETA: 0s - loss: 0.1036 - acc: 0.8871 - recall: 0.8656 - precision: 0.8984 - f1_score: 0.8751WARNING:tensorflow:multiprocessing can interact badly with TensorFlow, causing nondeterministic deadlocks. For high performance data pipelines tf.data is recommended.\n",
      "233/233 [==============================] - ETA: 0s - loss: 0.1036 - acc: 0.8872 - recall: 0.8654 - precision: 0.8985 - f1_score: 0.8752WARNING:tensorflow:multiprocessing can interact badly with TensorFlow, causing nondeterministic deadlocks. For high performance data pipelines tf.data is recommended.\n",
      "233/233 [==============================] - 75s 324ms/step - loss: 0.1036 - acc: 0.8872 - recall: 0.8654 - precision: 0.8985 - f1_score: 0.8752 - val_loss: 0.8826 - val_acc: 0.1033 - val_recall: 0.0000e+00 - val_precision: 0.0000e+00 - val_f1_score: 0.1002\n",
      "Epoch 19/50\n",
      "WARNING:tensorflow:multiprocessing can interact badly with TensorFlow, causing nondeterministic deadlocks. For high performance data pipelines tf.data is recommended.\n",
      "232/233 [============================>.] - ETA: 0s - loss: 0.0993 - acc: 0.8911 - recall: 0.8715 - precision: 0.9023 - f1_score: 0.8786WARNING:tensorflow:multiprocessing can interact badly with TensorFlow, causing nondeterministic deadlocks. For high performance data pipelines tf.data is recommended.\n",
      "233/233 [==============================] - ETA: 0s - loss: 0.0992 - acc: 0.8911 - recall: 0.8715 - precision: 0.9024 - f1_score: 0.8786WARNING:tensorflow:multiprocessing can interact badly with TensorFlow, causing nondeterministic deadlocks. For high performance data pipelines tf.data is recommended.\n",
      "WARNING:tensorflow:multiprocessing can interact badly with TensorFlow, causing nondeterministic deadlocks. For high performance data pipelines tf.data is recommended.\n",
      "233/233 [==============================] - 72s 308ms/step - loss: 0.0992 - acc: 0.8911 - recall: 0.8715 - precision: 0.9024 - f1_score: 0.8786 - val_loss: 0.6915 - val_acc: 0.1033 - val_recall: 0.0000e+00 - val_precision: 0.0000e+00 - val_f1_score: 0.1002\n",
      "Epoch 20/50\n",
      "WARNING:tensorflow:multiprocessing can interact badly with TensorFlow, causing nondeterministic deadlocks. For high performance data pipelines tf.data is recommended.\n",
      "232/233 [============================>.] - ETA: 0s - loss: 0.0992 - acc: 0.8922 - recall: 0.8682 - precision: 0.9029 - f1_score: 0.8794WARNING:tensorflow:multiprocessing can interact badly with TensorFlow, causing nondeterministic deadlocks. For high performance data pipelines tf.data is recommended.\n",
      "233/233 [==============================] - ETA: 0s - loss: 0.0994 - acc: 0.8921 - recall: 0.8681 - precision: 0.9029 - f1_score: 0.8792WARNING:tensorflow:multiprocessing can interact badly with TensorFlow, causing nondeterministic deadlocks. For high performance data pipelines tf.data is recommended.\n",
      "233/233 [==============================] - 75s 320ms/step - loss: 0.0994 - acc: 0.8921 - recall: 0.8681 - precision: 0.9029 - f1_score: 0.8792 - val_loss: 0.7710 - val_acc: 0.2974 - val_recall: 0.0000e+00 - val_precision: 0.0000e+00 - val_f1_score: 0.3229\n",
      "Epoch 21/50\n",
      "WARNING:tensorflow:multiprocessing can interact badly with TensorFlow, causing nondeterministic deadlocks. For high performance data pipelines tf.data is recommended.\n",
      "232/233 [============================>.] - ETA: 0s - loss: 0.0972 - acc: 0.8927 - recall: 0.8717 - precision: 0.9048 - f1_score: 0.8806WARNING:tensorflow:multiprocessing can interact badly with TensorFlow, causing nondeterministic deadlocks. For high performance data pipelines tf.data is recommended.\n",
      "233/233 [==============================] - ETA: 0s - loss: 0.0972 - acc: 0.8929 - recall: 0.8716 - precision: 0.9049 - f1_score: 0.8807WARNING:tensorflow:multiprocessing can interact badly with TensorFlow, causing nondeterministic deadlocks. For high performance data pipelines tf.data is recommended.\n",
      "233/233 [==============================] - 73s 312ms/step - loss: 0.0972 - acc: 0.8929 - recall: 0.8716 - precision: 0.9049 - f1_score: 0.8807 - val_loss: 10.6794 - val_acc: 0.2974 - val_recall: 0.0000e+00 - val_precision: 0.0000e+00 - val_f1_score: 0.0000e+00\n",
      "Epoch 22/50\n",
      "WARNING:tensorflow:multiprocessing can interact badly with TensorFlow, causing nondeterministic deadlocks. For high performance data pipelines tf.data is recommended.\n",
      "232/233 [============================>.] - ETA: 0s - loss: 0.0966 - acc: 0.8968 - recall: 0.8751 - precision: 0.9065 - f1_score: 0.8839WARNING:tensorflow:multiprocessing can interact badly with TensorFlow, causing nondeterministic deadlocks. For high performance data pipelines tf.data is recommended.\n",
      "233/233 [==============================] - ETA: 0s - loss: 0.0964 - acc: 0.8970 - recall: 0.8755 - precision: 0.9067 - f1_score: 0.8842WARNING:tensorflow:multiprocessing can interact badly with TensorFlow, causing nondeterministic deadlocks. For high performance data pipelines tf.data is recommended.\n",
      "233/233 [==============================] - 71s 306ms/step - loss: 0.0964 - acc: 0.8970 - recall: 0.8755 - precision: 0.9067 - f1_score: 0.8842 - val_loss: 6.7179 - val_acc: 0.2974 - val_recall: 0.0000e+00 - val_precision: 0.0000e+00 - val_f1_score: 0.3229\n",
      "Epoch 23/50\n",
      "WARNING:tensorflow:multiprocessing can interact badly with TensorFlow, causing nondeterministic deadlocks. For high performance data pipelines tf.data is recommended.\n",
      "232/233 [============================>.] - ETA: 0s - loss: 0.0930 - acc: 0.8966 - recall: 0.8777 - precision: 0.9069 - f1_score: 0.8844WARNING:tensorflow:multiprocessing can interact badly with TensorFlow, causing nondeterministic deadlocks. For high performance data pipelines tf.data is recommended.\n",
      "233/233 [==============================] - ETA: 0s - loss: 0.0931 - acc: 0.8966 - recall: 0.8778 - precision: 0.9069 - f1_score: 0.8845WARNING:tensorflow:multiprocessing can interact badly with TensorFlow, causing nondeterministic deadlocks. For high performance data pipelines tf.data is recommended.\n",
      "233/233 [==============================] - 75s 320ms/step - loss: 0.0931 - acc: 0.8966 - recall: 0.8778 - precision: 0.9069 - f1_score: 0.8845 - val_loss: 5.8501 - val_acc: 0.2974 - val_recall: 0.0000e+00 - val_precision: 0.0000e+00 - val_f1_score: 0.3229\n",
      "Epoch 24/50\n",
      "WARNING:tensorflow:multiprocessing can interact badly with TensorFlow, causing nondeterministic deadlocks. For high performance data pipelines tf.data is recommended.\n",
      "232/233 [============================>.] - ETA: 0s - loss: 0.0919 - acc: 0.8973 - recall: 0.8791 - precision: 0.9069 - f1_score: 0.8836WARNING:tensorflow:multiprocessing can interact badly with TensorFlow, causing nondeterministic deadlocks. For high performance data pipelines tf.data is recommended.\n",
      "233/233 [==============================] - ETA: 0s - loss: 0.0919 - acc: 0.8972 - recall: 0.8792 - precision: 0.9068 - f1_score: 0.8837WARNING:tensorflow:multiprocessing can interact badly with TensorFlow, causing nondeterministic deadlocks. For high performance data pipelines tf.data is recommended.\n",
      "233/233 [==============================] - 72s 309ms/step - loss: 0.0919 - acc: 0.8972 - recall: 0.8792 - precision: 0.9068 - f1_score: 0.8837 - val_loss: 8.2511 - val_acc: 0.2185 - val_recall: 0.0000e+00 - val_precision: 0.0000e+00 - val_f1_score: 0.2118\n",
      "Epoch 25/50\n",
      "WARNING:tensorflow:multiprocessing can interact badly with TensorFlow, causing nondeterministic deadlocks. For high performance data pipelines tf.data is recommended.\n",
      "232/233 [============================>.] - ETA: 0s - loss: 0.0891 - acc: 0.8995 - recall: 0.8866 - precision: 0.9114 - f1_score: 0.8876WARNING:tensorflow:multiprocessing can interact badly with TensorFlow, causing nondeterministic deadlocks. For high performance data pipelines tf.data is recommended.\n",
      "233/233 [==============================] - ETA: 0s - loss: 0.0893 - acc: 0.8994 - recall: 0.8865 - precision: 0.9112 - f1_score: 0.8873WARNING:tensorflow:multiprocessing can interact badly with TensorFlow, causing nondeterministic deadlocks. For high performance data pipelines tf.data is recommended.\n",
      "233/233 [==============================] - 73s 311ms/step - loss: 0.0893 - acc: 0.8994 - recall: 0.8865 - precision: 0.9112 - f1_score: 0.8873 - val_loss: 9.3140 - val_acc: 0.2185 - val_recall: 0.0000e+00 - val_precision: 0.0000e+00 - val_f1_score: 0.0000e+00\n",
      "Epoch 26/50\n",
      "WARNING:tensorflow:multiprocessing can interact badly with TensorFlow, causing nondeterministic deadlocks. For high performance data pipelines tf.data is recommended.\n",
      "232/233 [============================>.] - ETA: 0s - loss: 0.0892 - acc: 0.9002 - recall: 0.8854 - precision: 0.9096 - f1_score: 0.8858WARNING:tensorflow:multiprocessing can interact badly with TensorFlow, causing nondeterministic deadlocks. For high performance data pipelines tf.data is recommended.\n",
      "233/233 [==============================] - ETA: 0s - loss: 0.0892 - acc: 0.9001 - recall: 0.8856 - precision: 0.9097 - f1_score: 0.8858WARNING:tensorflow:multiprocessing can interact badly with TensorFlow, causing nondeterministic deadlocks. For high performance data pipelines tf.data is recommended.\n",
      "233/233 [==============================] - 71s 305ms/step - loss: 0.0892 - acc: 0.9001 - recall: 0.8856 - precision: 0.9097 - f1_score: 0.8858 - val_loss: 1.1708 - val_acc: 0.2185 - val_recall: 0.5188 - val_precision: 0.2758 - val_f1_score: 0.2118\n",
      "Epoch 27/50\n",
      "WARNING:tensorflow:multiprocessing can interact badly with TensorFlow, causing nondeterministic deadlocks. For high performance data pipelines tf.data is recommended.\n",
      "232/233 [============================>.] - ETA: 0s - loss: 0.0909 - acc: 0.8995 - recall: 0.8840 - precision: 0.9103 - f1_score: 0.8873WARNING:tensorflow:multiprocessing can interact badly with TensorFlow, causing nondeterministic deadlocks. For high performance data pipelines tf.data is recommended.\n",
      "233/233 [==============================] - ETA: 0s - loss: 0.0908 - acc: 0.8997 - recall: 0.8841 - precision: 0.9105 - f1_score: 0.8875WARNING:tensorflow:multiprocessing can interact badly with TensorFlow, causing nondeterministic deadlocks. For high performance data pipelines tf.data is recommended.\n",
      "233/233 [==============================] - 75s 320ms/step - loss: 0.0908 - acc: 0.8997 - recall: 0.8841 - precision: 0.9105 - f1_score: 0.8875 - val_loss: 1.8353 - val_acc: 0.2185 - val_recall: 0.0000e+00 - val_precision: 0.0000e+00 - val_f1_score: 0.2118\n",
      "Epoch 28/50\n",
      "WARNING:tensorflow:multiprocessing can interact badly with TensorFlow, causing nondeterministic deadlocks. For high performance data pipelines tf.data is recommended.\n",
      "232/233 [============================>.] - ETA: 0s - loss: 0.0845 - acc: 0.9069 - recall: 0.8934 - precision: 0.9174 - f1_score: 0.8946WARNING:tensorflow:multiprocessing can interact badly with TensorFlow, causing nondeterministic deadlocks. For high performance data pipelines tf.data is recommended.\n",
      "233/233 [==============================] - ETA: 0s - loss: 0.0846 - acc: 0.9067 - recall: 0.8928 - precision: 0.9175 - f1_score: 0.8943WARNING:tensorflow:multiprocessing can interact badly with TensorFlow, causing nondeterministic deadlocks. For high performance data pipelines tf.data is recommended.\n",
      "233/233 [==============================] - 74s 316ms/step - loss: 0.0846 - acc: 0.9067 - recall: 0.8928 - precision: 0.9175 - f1_score: 0.8943 - val_loss: 3.0706 - val_acc: 0.2185 - val_recall: 0.2055 - val_precision: 0.2185 - val_f1_score: 0.2118\n",
      "Epoch 29/50\n",
      "WARNING:tensorflow:multiprocessing can interact badly with TensorFlow, causing nondeterministic deadlocks. For high performance data pipelines tf.data is recommended.\n",
      "232/233 [============================>.] - ETA: 0s - loss: 0.0857 - acc: 0.9043 - recall: 0.8915 - precision: 0.9132 - f1_score: 0.8915WARNING:tensorflow:multiprocessing can interact badly with TensorFlow, causing nondeterministic deadlocks. For high performance data pipelines tf.data is recommended.\n",
      "233/233 [==============================] - ETA: 0s - loss: 0.0856 - acc: 0.9045 - recall: 0.8915 - precision: 0.9133 - f1_score: 0.8917WARNING:tensorflow:multiprocessing can interact badly with TensorFlow, causing nondeterministic deadlocks. For high performance data pipelines tf.data is recommended.\n",
      "233/233 [==============================] - 72s 307ms/step - loss: 0.0856 - acc: 0.9045 - recall: 0.8915 - precision: 0.9133 - f1_score: 0.8917 - val_loss: 8.2899 - val_acc: 0.2185 - val_recall: 0.3027 - val_precision: 0.1609 - val_f1_score: 0.2118\n",
      "Epoch 30/50\n",
      "WARNING:tensorflow:multiprocessing can interact badly with TensorFlow, causing nondeterministic deadlocks. For high performance data pipelines tf.data is recommended.\n",
      "232/233 [============================>.] - ETA: 0s - loss: 0.0845 - acc: 0.9076 - recall: 0.8899 - precision: 0.9173 - f1_score: 0.8938WARNING:tensorflow:multiprocessing can interact badly with TensorFlow, causing nondeterministic deadlocks. For high performance data pipelines tf.data is recommended.\n",
      "233/233 [==============================] - ETA: 0s - loss: 0.0846 - acc: 0.9076 - recall: 0.8899 - precision: 0.9172 - f1_score: 0.8937WARNING:tensorflow:multiprocessing can interact badly with TensorFlow, causing nondeterministic deadlocks. For high performance data pipelines tf.data is recommended.\n",
      "233/233 [==============================] - 74s 318ms/step - loss: 0.0846 - acc: 0.9076 - recall: 0.8899 - precision: 0.9172 - f1_score: 0.8937 - val_loss: 5.2217 - val_acc: 0.2185 - val_recall: 0.2055 - val_precision: 0.2185 - val_f1_score: 0.2118\n",
      "Epoch 31/50\n",
      "WARNING:tensorflow:multiprocessing can interact badly with TensorFlow, causing nondeterministic deadlocks. For high performance data pipelines tf.data is recommended.\n",
      "232/233 [============================>.] - ETA: 0s - loss: 0.0840 - acc: 0.9070 - recall: 0.8941 - precision: 0.9160 - f1_score: 0.8929WARNING:tensorflow:multiprocessing can interact badly with TensorFlow, causing nondeterministic deadlocks. For high performance data pipelines tf.data is recommended.\n",
      "233/233 [==============================] - ETA: 0s - loss: 0.0841 - acc: 0.9067 - recall: 0.8938 - precision: 0.9158 - f1_score: 0.8926WARNING:tensorflow:multiprocessing can interact badly with TensorFlow, causing nondeterministic deadlocks. For high performance data pipelines tf.data is recommended.\n",
      "233/233 [==============================] - 74s 319ms/step - loss: 0.0841 - acc: 0.9067 - recall: 0.8938 - precision: 0.9158 - f1_score: 0.8926 - val_loss: 1.3728 - val_acc: 0.2185 - val_recall: 0.2055 - val_precision: 0.2185 - val_f1_score: 0.2118\n",
      "Epoch 32/50\n",
      "WARNING:tensorflow:multiprocessing can interact badly with TensorFlow, causing nondeterministic deadlocks. For high performance data pipelines tf.data is recommended.\n",
      "232/233 [============================>.] - ETA: 0s - loss: 0.0820 - acc: 0.9065 - recall: 0.8944 - precision: 0.9180 - f1_score: 0.8940WARNING:tensorflow:multiprocessing can interact badly with TensorFlow, causing nondeterministic deadlocks. For high performance data pipelines tf.data is recommended.\n",
      "233/233 [==============================] - ETA: 0s - loss: 0.0819 - acc: 0.9063 - recall: 0.8942 - precision: 0.9182 - f1_score: 0.8939WARNING:tensorflow:multiprocessing can interact badly with TensorFlow, causing nondeterministic deadlocks. For high performance data pipelines tf.data is recommended.\n",
      "233/233 [==============================] - 76s 324ms/step - loss: 0.0819 - acc: 0.9063 - recall: 0.8942 - precision: 0.9182 - f1_score: 0.8939 - val_loss: 6.0521 - val_acc: 0.2185 - val_recall: 0.2055 - val_precision: 0.2185 - val_f1_score: 0.2118\n",
      "Epoch 33/50\n",
      "WARNING:tensorflow:multiprocessing can interact badly with TensorFlow, causing nondeterministic deadlocks. For high performance data pipelines tf.data is recommended.\n",
      "232/233 [============================>.] - ETA: 0s - loss: 0.0804 - acc: 0.9105 - recall: 0.8964 - precision: 0.9179 - f1_score: 0.8970WARNING:tensorflow:multiprocessing can interact badly with TensorFlow, causing nondeterministic deadlocks. For high performance data pipelines tf.data is recommended.\n",
      "233/233 [==============================] - ETA: 0s - loss: 0.0803 - acc: 0.9104 - recall: 0.8962 - precision: 0.9179 - f1_score: 0.8970WARNING:tensorflow:multiprocessing can interact badly with TensorFlow, causing nondeterministic deadlocks. For high performance data pipelines tf.data is recommended.\n",
      "233/233 [==============================] - 76s 327ms/step - loss: 0.0803 - acc: 0.9104 - recall: 0.8962 - precision: 0.9179 - f1_score: 0.8970 - val_loss: 4.9853 - val_acc: 0.2185 - val_recall: 0.2015 - val_precision: 0.2259 - val_f1_score: 0.2118\n",
      "Epoch 34/50\n",
      "WARNING:tensorflow:multiprocessing can interact badly with TensorFlow, causing nondeterministic deadlocks. For high performance data pipelines tf.data is recommended.\n",
      "232/233 [============================>.] - ETA: 0s - loss: 0.0788 - acc: 0.9099 - recall: 0.8970 - precision: 0.9208 - f1_score: 0.8968WARNING:tensorflow:multiprocessing can interact badly with TensorFlow, causing nondeterministic deadlocks. For high performance data pipelines tf.data is recommended.\n",
      "233/233 [==============================] - ETA: 0s - loss: 0.0787 - acc: 0.9100 - recall: 0.8971 - precision: 0.9209 - f1_score: 0.8970WARNING:tensorflow:multiprocessing can interact badly with TensorFlow, causing nondeterministic deadlocks. For high performance data pipelines tf.data is recommended.\n",
      "233/233 [==============================] - 75s 321ms/step - loss: 0.0787 - acc: 0.9100 - recall: 0.8971 - precision: 0.9209 - f1_score: 0.8970 - val_loss: 21.6826 - val_acc: 0.2185 - val_recall: 0.0000e+00 - val_precision: 0.0000e+00 - val_f1_score: 0.0000e+00\n",
      "Epoch 35/50\n",
      "WARNING:tensorflow:multiprocessing can interact badly with TensorFlow, causing nondeterministic deadlocks. For high performance data pipelines tf.data is recommended.\n",
      "232/233 [============================>.] - ETA: 0s - loss: 0.0801 - acc: 0.9096 - recall: 0.8983 - precision: 0.9197 - f1_score: 0.8975WARNING:tensorflow:multiprocessing can interact badly with TensorFlow, causing nondeterministic deadlocks. For high performance data pipelines tf.data is recommended.\n",
      "233/233 [==============================] - ETA: 0s - loss: 0.0801 - acc: 0.9097 - recall: 0.8982 - precision: 0.9200 - f1_score: 0.8976WARNING:tensorflow:multiprocessing can interact badly with TensorFlow, causing nondeterministic deadlocks. For high performance data pipelines tf.data is recommended.\n",
      "233/233 [==============================] - 71s 307ms/step - loss: 0.0801 - acc: 0.9097 - recall: 0.8982 - precision: 0.9200 - f1_score: 0.8976 - val_loss: 11.4861 - val_acc: 0.2185 - val_recall: 0.0000e+00 - val_precision: 0.0000e+00 - val_f1_score: 0.0000e+00\n",
      "Epoch 36/50\n",
      "WARNING:tensorflow:multiprocessing can interact badly with TensorFlow, causing nondeterministic deadlocks. For high performance data pipelines tf.data is recommended.\n",
      "232/233 [============================>.] - ETA: 0s - loss: 0.0777 - acc: 0.9109 - recall: 0.9016 - precision: 0.9194 - f1_score: 0.8985WARNING:tensorflow:multiprocessing can interact badly with TensorFlow, causing nondeterministic deadlocks. For high performance data pipelines tf.data is recommended.\n",
      "233/233 [==============================] - ETA: 0s - loss: 0.0776 - acc: 0.9110 - recall: 0.9016 - precision: 0.9194 - f1_score: 0.8986WARNING:tensorflow:multiprocessing can interact badly with TensorFlow, causing nondeterministic deadlocks. For high performance data pipelines tf.data is recommended.\n",
      "WARNING:tensorflow:multiprocessing can interact badly with TensorFlow, causing nondeterministic deadlocks. For high performance data pipelines tf.data is recommended.\n",
      "233/233 [==============================] - 72s 309ms/step - loss: 0.0776 - acc: 0.9110 - recall: 0.9016 - precision: 0.9194 - f1_score: 0.8986 - val_loss: 7.4747 - val_acc: 0.2185 - val_recall: 0.0000e+00 - val_precision: 0.0000e+00 - val_f1_score: 0.2118\n",
      "Epoch 37/50\n",
      "WARNING:tensorflow:multiprocessing can interact badly with TensorFlow, causing nondeterministic deadlocks. For high performance data pipelines tf.data is recommended.\n",
      "232/233 [============================>.] - ETA: 0s - loss: 0.0752 - acc: 0.9134 - recall: 0.9034 - precision: 0.9216 - f1_score: 0.9013WARNING:tensorflow:multiprocessing can interact badly with TensorFlow, causing nondeterministic deadlocks. For high performance data pipelines tf.data is recommended.\n",
      "233/233 [==============================] - ETA: 0s - loss: 0.0753 - acc: 0.9133 - recall: 0.9030 - precision: 0.9216 - f1_score: 0.9012WARNING:tensorflow:multiprocessing can interact badly with TensorFlow, causing nondeterministic deadlocks. For high performance data pipelines tf.data is recommended.\n",
      "WARNING:tensorflow:multiprocessing can interact badly with TensorFlow, causing nondeterministic deadlocks. For high performance data pipelines tf.data is recommended.\n",
      "233/233 [==============================] - 78s 333ms/step - loss: 0.0753 - acc: 0.9133 - recall: 0.9030 - precision: 0.9216 - f1_score: 0.9012 - val_loss: 12.4829 - val_acc: 0.2185 - val_recall: 0.0000e+00 - val_precision: 0.0000e+00 - val_f1_score: 0.0000e+00\n",
      "Epoch 38/50\n",
      "WARNING:tensorflow:multiprocessing can interact badly with TensorFlow, causing nondeterministic deadlocks. For high performance data pipelines tf.data is recommended.\n",
      "232/233 [============================>.] - ETA: 0s - loss: 0.0727 - acc: 0.9165 - recall: 0.9098 - precision: 0.9273 - f1_score: 0.9036WARNING:tensorflow:multiprocessing can interact badly with TensorFlow, causing nondeterministic deadlocks. For high performance data pipelines tf.data is recommended.\n",
      "233/233 [==============================] - ETA: 0s - loss: 0.0727 - acc: 0.9166 - recall: 0.9098 - precision: 0.9273 - f1_score: 0.9036WARNING:tensorflow:multiprocessing can interact badly with TensorFlow, causing nondeterministic deadlocks. For high performance data pipelines tf.data is recommended.\n",
      "WARNING:tensorflow:multiprocessing can interact badly with TensorFlow, causing nondeterministic deadlocks. For high performance data pipelines tf.data is recommended.\n",
      "233/233 [==============================] - 73s 314ms/step - loss: 0.0727 - acc: 0.9166 - recall: 0.9098 - precision: 0.9273 - f1_score: 0.9036 - val_loss: 3.4203 - val_acc: 0.1033 - val_recall: 0.0972 - val_precision: 0.1034 - val_f1_score: 0.1002\n",
      "Epoch 39/50\n",
      "WARNING:tensorflow:multiprocessing can interact badly with TensorFlow, causing nondeterministic deadlocks. For high performance data pipelines tf.data is recommended.\n",
      "232/233 [============================>.] - ETA: 0s - loss: 0.0708 - acc: 0.9191 - recall: 0.9111 - precision: 0.9282 - f1_score: 0.9056WARNING:tensorflow:multiprocessing can interact badly with TensorFlow, causing nondeterministic deadlocks. For high performance data pipelines tf.data is recommended.\n",
      "233/233 [==============================] - ETA: 0s - loss: 0.0707 - acc: 0.9191 - recall: 0.9112 - precision: 0.9282 - f1_score: 0.9057WARNING:tensorflow:multiprocessing can interact badly with TensorFlow, causing nondeterministic deadlocks. For high performance data pipelines tf.data is recommended.\n",
      "233/233 [==============================] - 73s 312ms/step - loss: 0.0707 - acc: 0.9191 - recall: 0.9112 - precision: 0.9282 - f1_score: 0.9057 - val_loss: 16.7700 - val_acc: 0.2185 - val_recall: 0.0000e+00 - val_precision: 0.0000e+00 - val_f1_score: 0.0000e+00\n",
      "Epoch 40/50\n",
      "WARNING:tensorflow:multiprocessing can interact badly with TensorFlow, causing nondeterministic deadlocks. For high performance data pipelines tf.data is recommended.\n",
      "232/233 [============================>.] - ETA: 0s - loss: 0.0700 - acc: 0.9185 - recall: 0.9140 - precision: 0.9286 - f1_score: 0.9068WARNING:tensorflow:multiprocessing can interact badly with TensorFlow, causing nondeterministic deadlocks. For high performance data pipelines tf.data is recommended.\n",
      "233/233 [==============================] - ETA: 0s - loss: 0.0699 - acc: 0.9183 - recall: 0.9138 - precision: 0.9287 - f1_score: 0.9067WARNING:tensorflow:multiprocessing can interact badly with TensorFlow, causing nondeterministic deadlocks. For high performance data pipelines tf.data is recommended.\n",
      "WARNING:tensorflow:multiprocessing can interact badly with TensorFlow, causing nondeterministic deadlocks. For high performance data pipelines tf.data is recommended.\n",
      "233/233 [==============================] - 79s 338ms/step - loss: 0.0699 - acc: 0.9183 - recall: 0.9138 - precision: 0.9287 - f1_score: 0.9067 - val_loss: 19.2572 - val_acc: 0.1833 - val_recall: 0.0000e+00 - val_precision: 0.0000e+00 - val_f1_score: 0.0000e+00\n",
      "Epoch 41/50\n",
      "WARNING:tensorflow:multiprocessing can interact badly with TensorFlow, causing nondeterministic deadlocks. For high performance data pipelines tf.data is recommended.\n",
      " 60/233 [======>.......................] - ETA: 46s - loss: 0.0742 - acc: 0.9151 - recall: 0.9037 - precision: 0.9240 - f1_score: 0.9013"
     ]
    },
    {
     "name": "stderr",
     "output_type": "stream",
     "text": [
      "Process Keras_worker_ForkPoolWorker-132:\n",
      "Traceback (most recent call last):\n",
      "  File \"/usr/lib/python3.8/multiprocessing/process.py\", line 315, in _bootstrap\n",
      "    self.run()\n",
      "  File \"/usr/lib/python3.8/multiprocessing/process.py\", line 108, in run\n",
      "    self._target(*self._args, **self._kwargs)\n",
      "  File \"/usr/lib/python3.8/multiprocessing/pool.py\", line 131, in worker\n",
      "    put((job, i, result))\n",
      "  File \"/usr/lib/python3.8/multiprocessing/queues.py\", line 362, in put\n",
      "    obj = _ForkingPickler.dumps(obj)\n",
      "  File \"/usr/lib/python3.8/multiprocessing/reduction.py\", line 51, in dumps\n",
      "    cls(buf, protocol).dump(obj)\n",
      "KeyboardInterrupt\n"
     ]
    },
    {
     "ename": "KeyboardInterrupt",
     "evalue": "",
     "output_type": "error",
     "traceback": [
      "\u001b[0;31m\u001b[0m",
      "\u001b[0;31mKeyboardInterrupt\u001b[0mTraceback (most recent call last)",
      "\u001b[0;32m<ipython-input-17-88a8d5aa458f>\u001b[0m in \u001b[0;36m<module>\u001b[0;34m\u001b[0m\n\u001b[0;32m----> 1\u001b[0;31m history = model.fit(\n\u001b[0m\u001b[1;32m      2\u001b[0m     \u001b[0mtrain\u001b[0m\u001b[0;34m,\u001b[0m\u001b[0;34m\u001b[0m\u001b[0;34m\u001b[0m\u001b[0m\n\u001b[1;32m      3\u001b[0m     \u001b[0mvalidation_data\u001b[0m\u001b[0;34m=\u001b[0m\u001b[0mvalid\u001b[0m\u001b[0;34m,\u001b[0m\u001b[0;34m\u001b[0m\u001b[0;34m\u001b[0m\u001b[0m\n\u001b[1;32m      4\u001b[0m     \u001b[0mepochs\u001b[0m\u001b[0;34m=\u001b[0m\u001b[0;36m50\u001b[0m\u001b[0;34m,\u001b[0m\u001b[0;34m\u001b[0m\u001b[0;34m\u001b[0m\u001b[0m\n\u001b[1;32m      5\u001b[0m     \u001b[0mbatch_size\u001b[0m\u001b[0;34m=\u001b[0m\u001b[0mBATCH_SIZE\u001b[0m\u001b[0;34m,\u001b[0m\u001b[0;34m\u001b[0m\u001b[0;34m\u001b[0m\u001b[0m\n",
      "\u001b[0;32m/usr/local/lib/python3.8/dist-packages/tensorflow/python/keras/engine/training.py\u001b[0m in \u001b[0;36m_method_wrapper\u001b[0;34m(self, *args, **kwargs)\u001b[0m\n\u001b[1;32m    106\u001b[0m   \u001b[0;32mdef\u001b[0m \u001b[0m_method_wrapper\u001b[0m\u001b[0;34m(\u001b[0m\u001b[0mself\u001b[0m\u001b[0;34m,\u001b[0m \u001b[0;34m*\u001b[0m\u001b[0margs\u001b[0m\u001b[0;34m,\u001b[0m \u001b[0;34m**\u001b[0m\u001b[0mkwargs\u001b[0m\u001b[0;34m)\u001b[0m\u001b[0;34m:\u001b[0m\u001b[0;34m\u001b[0m\u001b[0;34m\u001b[0m\u001b[0m\n\u001b[1;32m    107\u001b[0m     \u001b[0;32mif\u001b[0m \u001b[0;32mnot\u001b[0m \u001b[0mself\u001b[0m\u001b[0;34m.\u001b[0m\u001b[0m_in_multi_worker_mode\u001b[0m\u001b[0;34m(\u001b[0m\u001b[0;34m)\u001b[0m\u001b[0;34m:\u001b[0m  \u001b[0;31m# pylint: disable=protected-access\u001b[0m\u001b[0;34m\u001b[0m\u001b[0;34m\u001b[0m\u001b[0m\n\u001b[0;32m--> 108\u001b[0;31m       \u001b[0;32mreturn\u001b[0m \u001b[0mmethod\u001b[0m\u001b[0;34m(\u001b[0m\u001b[0mself\u001b[0m\u001b[0;34m,\u001b[0m \u001b[0;34m*\u001b[0m\u001b[0margs\u001b[0m\u001b[0;34m,\u001b[0m \u001b[0;34m**\u001b[0m\u001b[0mkwargs\u001b[0m\u001b[0;34m)\u001b[0m\u001b[0;34m\u001b[0m\u001b[0;34m\u001b[0m\u001b[0m\n\u001b[0m\u001b[1;32m    109\u001b[0m \u001b[0;34m\u001b[0m\u001b[0m\n\u001b[1;32m    110\u001b[0m     \u001b[0;31m# Running inside `run_distribute_coordinator` already.\u001b[0m\u001b[0;34m\u001b[0m\u001b[0;34m\u001b[0m\u001b[0;34m\u001b[0m\u001b[0m\n",
      "\u001b[0;32m/usr/local/lib/python3.8/dist-packages/tensorflow/python/keras/engine/training.py\u001b[0m in \u001b[0;36mfit\u001b[0;34m(self, x, y, batch_size, epochs, verbose, callbacks, validation_split, validation_data, shuffle, class_weight, sample_weight, initial_epoch, steps_per_epoch, validation_steps, validation_batch_size, validation_freq, max_queue_size, workers, use_multiprocessing)\u001b[0m\n\u001b[1;32m   1096\u001b[0m                 batch_size=batch_size):\n\u001b[1;32m   1097\u001b[0m               \u001b[0mcallbacks\u001b[0m\u001b[0;34m.\u001b[0m\u001b[0mon_train_batch_begin\u001b[0m\u001b[0;34m(\u001b[0m\u001b[0mstep\u001b[0m\u001b[0;34m)\u001b[0m\u001b[0;34m\u001b[0m\u001b[0;34m\u001b[0m\u001b[0m\n\u001b[0;32m-> 1098\u001b[0;31m               \u001b[0mtmp_logs\u001b[0m \u001b[0;34m=\u001b[0m \u001b[0mtrain_function\u001b[0m\u001b[0;34m(\u001b[0m\u001b[0miterator\u001b[0m\u001b[0;34m)\u001b[0m\u001b[0;34m\u001b[0m\u001b[0;34m\u001b[0m\u001b[0m\n\u001b[0m\u001b[1;32m   1099\u001b[0m               \u001b[0;32mif\u001b[0m \u001b[0mdata_handler\u001b[0m\u001b[0;34m.\u001b[0m\u001b[0mshould_sync\u001b[0m\u001b[0;34m:\u001b[0m\u001b[0;34m\u001b[0m\u001b[0;34m\u001b[0m\u001b[0m\n\u001b[1;32m   1100\u001b[0m                 \u001b[0mcontext\u001b[0m\u001b[0;34m.\u001b[0m\u001b[0masync_wait\u001b[0m\u001b[0;34m(\u001b[0m\u001b[0;34m)\u001b[0m\u001b[0;34m\u001b[0m\u001b[0;34m\u001b[0m\u001b[0m\n",
      "\u001b[0;32m/usr/local/lib/python3.8/dist-packages/tensorflow/python/eager/def_function.py\u001b[0m in \u001b[0;36m__call__\u001b[0;34m(self, *args, **kwds)\u001b[0m\n\u001b[1;32m    778\u001b[0m       \u001b[0;32melse\u001b[0m\u001b[0;34m:\u001b[0m\u001b[0;34m\u001b[0m\u001b[0;34m\u001b[0m\u001b[0m\n\u001b[1;32m    779\u001b[0m         \u001b[0mcompiler\u001b[0m \u001b[0;34m=\u001b[0m \u001b[0;34m\"nonXla\"\u001b[0m\u001b[0;34m\u001b[0m\u001b[0;34m\u001b[0m\u001b[0m\n\u001b[0;32m--> 780\u001b[0;31m         \u001b[0mresult\u001b[0m \u001b[0;34m=\u001b[0m \u001b[0mself\u001b[0m\u001b[0;34m.\u001b[0m\u001b[0m_call\u001b[0m\u001b[0;34m(\u001b[0m\u001b[0;34m*\u001b[0m\u001b[0margs\u001b[0m\u001b[0;34m,\u001b[0m \u001b[0;34m**\u001b[0m\u001b[0mkwds\u001b[0m\u001b[0;34m)\u001b[0m\u001b[0;34m\u001b[0m\u001b[0;34m\u001b[0m\u001b[0m\n\u001b[0m\u001b[1;32m    781\u001b[0m \u001b[0;34m\u001b[0m\u001b[0m\n\u001b[1;32m    782\u001b[0m       \u001b[0mnew_tracing_count\u001b[0m \u001b[0;34m=\u001b[0m \u001b[0mself\u001b[0m\u001b[0;34m.\u001b[0m\u001b[0m_get_tracing_count\u001b[0m\u001b[0;34m(\u001b[0m\u001b[0;34m)\u001b[0m\u001b[0;34m\u001b[0m\u001b[0;34m\u001b[0m\u001b[0m\n",
      "\u001b[0;32m/usr/local/lib/python3.8/dist-packages/tensorflow/python/eager/def_function.py\u001b[0m in \u001b[0;36m_call\u001b[0;34m(self, *args, **kwds)\u001b[0m\n\u001b[1;32m    805\u001b[0m       \u001b[0;31m# In this case we have created variables on the first call, so we run the\u001b[0m\u001b[0;34m\u001b[0m\u001b[0;34m\u001b[0m\u001b[0;34m\u001b[0m\u001b[0m\n\u001b[1;32m    806\u001b[0m       \u001b[0;31m# defunned version which is guaranteed to never create variables.\u001b[0m\u001b[0;34m\u001b[0m\u001b[0;34m\u001b[0m\u001b[0;34m\u001b[0m\u001b[0m\n\u001b[0;32m--> 807\u001b[0;31m       \u001b[0;32mreturn\u001b[0m \u001b[0mself\u001b[0m\u001b[0;34m.\u001b[0m\u001b[0m_stateless_fn\u001b[0m\u001b[0;34m(\u001b[0m\u001b[0;34m*\u001b[0m\u001b[0margs\u001b[0m\u001b[0;34m,\u001b[0m \u001b[0;34m**\u001b[0m\u001b[0mkwds\u001b[0m\u001b[0;34m)\u001b[0m  \u001b[0;31m# pylint: disable=not-callable\u001b[0m\u001b[0;34m\u001b[0m\u001b[0;34m\u001b[0m\u001b[0m\n\u001b[0m\u001b[1;32m    808\u001b[0m     \u001b[0;32melif\u001b[0m \u001b[0mself\u001b[0m\u001b[0;34m.\u001b[0m\u001b[0m_stateful_fn\u001b[0m \u001b[0;32mis\u001b[0m \u001b[0;32mnot\u001b[0m \u001b[0;32mNone\u001b[0m\u001b[0;34m:\u001b[0m\u001b[0;34m\u001b[0m\u001b[0;34m\u001b[0m\u001b[0m\n\u001b[1;32m    809\u001b[0m       \u001b[0;31m# Release the lock early so that multiple threads can perform the call\u001b[0m\u001b[0;34m\u001b[0m\u001b[0;34m\u001b[0m\u001b[0;34m\u001b[0m\u001b[0m\n",
      "\u001b[0;32m/usr/local/lib/python3.8/dist-packages/tensorflow/python/eager/function.py\u001b[0m in \u001b[0;36m__call__\u001b[0;34m(self, *args, **kwargs)\u001b[0m\n\u001b[1;32m   2827\u001b[0m     \u001b[0;32mwith\u001b[0m \u001b[0mself\u001b[0m\u001b[0;34m.\u001b[0m\u001b[0m_lock\u001b[0m\u001b[0;34m:\u001b[0m\u001b[0;34m\u001b[0m\u001b[0;34m\u001b[0m\u001b[0m\n\u001b[1;32m   2828\u001b[0m       \u001b[0mgraph_function\u001b[0m\u001b[0;34m,\u001b[0m \u001b[0margs\u001b[0m\u001b[0;34m,\u001b[0m \u001b[0mkwargs\u001b[0m \u001b[0;34m=\u001b[0m \u001b[0mself\u001b[0m\u001b[0;34m.\u001b[0m\u001b[0m_maybe_define_function\u001b[0m\u001b[0;34m(\u001b[0m\u001b[0margs\u001b[0m\u001b[0;34m,\u001b[0m \u001b[0mkwargs\u001b[0m\u001b[0;34m)\u001b[0m\u001b[0;34m\u001b[0m\u001b[0;34m\u001b[0m\u001b[0m\n\u001b[0;32m-> 2829\u001b[0;31m     \u001b[0;32mreturn\u001b[0m \u001b[0mgraph_function\u001b[0m\u001b[0;34m.\u001b[0m\u001b[0m_filtered_call\u001b[0m\u001b[0;34m(\u001b[0m\u001b[0margs\u001b[0m\u001b[0;34m,\u001b[0m \u001b[0mkwargs\u001b[0m\u001b[0;34m)\u001b[0m  \u001b[0;31m# pylint: disable=protected-access\u001b[0m\u001b[0;34m\u001b[0m\u001b[0;34m\u001b[0m\u001b[0m\n\u001b[0m\u001b[1;32m   2830\u001b[0m \u001b[0;34m\u001b[0m\u001b[0m\n\u001b[1;32m   2831\u001b[0m   \u001b[0;34m@\u001b[0m\u001b[0mproperty\u001b[0m\u001b[0;34m\u001b[0m\u001b[0;34m\u001b[0m\u001b[0m\n",
      "\u001b[0;32m/usr/local/lib/python3.8/dist-packages/tensorflow/python/eager/function.py\u001b[0m in \u001b[0;36m_filtered_call\u001b[0;34m(self, args, kwargs, cancellation_manager)\u001b[0m\n\u001b[1;32m   1841\u001b[0m       \u001b[0;31m`\u001b[0m\u001b[0margs\u001b[0m\u001b[0;31m`\u001b[0m \u001b[0;32mand\u001b[0m\u001b[0;31m \u001b[0m\u001b[0;31m`\u001b[0m\u001b[0mkwargs\u001b[0m\u001b[0;31m`\u001b[0m\u001b[0;34m.\u001b[0m\u001b[0;34m\u001b[0m\u001b[0;34m\u001b[0m\u001b[0m\n\u001b[1;32m   1842\u001b[0m     \"\"\"\n\u001b[0;32m-> 1843\u001b[0;31m     return self._call_flat(\n\u001b[0m\u001b[1;32m   1844\u001b[0m         [t for t in nest.flatten((args, kwargs), expand_composites=True)\n\u001b[1;32m   1845\u001b[0m          if isinstance(t, (ops.Tensor,\n",
      "\u001b[0;32m/usr/local/lib/python3.8/dist-packages/tensorflow/python/eager/function.py\u001b[0m in \u001b[0;36m_call_flat\u001b[0;34m(self, args, captured_inputs, cancellation_manager)\u001b[0m\n\u001b[1;32m   1921\u001b[0m         and executing_eagerly):\n\u001b[1;32m   1922\u001b[0m       \u001b[0;31m# No tape is watching; skip to running the function.\u001b[0m\u001b[0;34m\u001b[0m\u001b[0;34m\u001b[0m\u001b[0;34m\u001b[0m\u001b[0m\n\u001b[0;32m-> 1923\u001b[0;31m       return self._build_call_outputs(self._inference_function.call(\n\u001b[0m\u001b[1;32m   1924\u001b[0m           ctx, args, cancellation_manager=cancellation_manager))\n\u001b[1;32m   1925\u001b[0m     forward_backward = self._select_forward_and_backward_functions(\n",
      "\u001b[0;32m/usr/local/lib/python3.8/dist-packages/tensorflow/python/eager/function.py\u001b[0m in \u001b[0;36mcall\u001b[0;34m(self, ctx, args, cancellation_manager)\u001b[0m\n\u001b[1;32m    543\u001b[0m       \u001b[0;32mwith\u001b[0m \u001b[0m_InterpolateFunctionError\u001b[0m\u001b[0;34m(\u001b[0m\u001b[0mself\u001b[0m\u001b[0;34m)\u001b[0m\u001b[0;34m:\u001b[0m\u001b[0;34m\u001b[0m\u001b[0;34m\u001b[0m\u001b[0m\n\u001b[1;32m    544\u001b[0m         \u001b[0;32mif\u001b[0m \u001b[0mcancellation_manager\u001b[0m \u001b[0;32mis\u001b[0m \u001b[0;32mNone\u001b[0m\u001b[0;34m:\u001b[0m\u001b[0;34m\u001b[0m\u001b[0;34m\u001b[0m\u001b[0m\n\u001b[0;32m--> 545\u001b[0;31m           outputs = execute.execute(\n\u001b[0m\u001b[1;32m    546\u001b[0m               \u001b[0mstr\u001b[0m\u001b[0;34m(\u001b[0m\u001b[0mself\u001b[0m\u001b[0;34m.\u001b[0m\u001b[0msignature\u001b[0m\u001b[0;34m.\u001b[0m\u001b[0mname\u001b[0m\u001b[0;34m)\u001b[0m\u001b[0;34m,\u001b[0m\u001b[0;34m\u001b[0m\u001b[0;34m\u001b[0m\u001b[0m\n\u001b[1;32m    547\u001b[0m               \u001b[0mnum_outputs\u001b[0m\u001b[0;34m=\u001b[0m\u001b[0mself\u001b[0m\u001b[0;34m.\u001b[0m\u001b[0m_num_outputs\u001b[0m\u001b[0;34m,\u001b[0m\u001b[0;34m\u001b[0m\u001b[0;34m\u001b[0m\u001b[0m\n",
      "\u001b[0;32m/usr/local/lib/python3.8/dist-packages/tensorflow/python/eager/execute.py\u001b[0m in \u001b[0;36mquick_execute\u001b[0;34m(op_name, num_outputs, inputs, attrs, ctx, name)\u001b[0m\n\u001b[1;32m     57\u001b[0m   \u001b[0;32mtry\u001b[0m\u001b[0;34m:\u001b[0m\u001b[0;34m\u001b[0m\u001b[0;34m\u001b[0m\u001b[0m\n\u001b[1;32m     58\u001b[0m     \u001b[0mctx\u001b[0m\u001b[0;34m.\u001b[0m\u001b[0mensure_initialized\u001b[0m\u001b[0;34m(\u001b[0m\u001b[0;34m)\u001b[0m\u001b[0;34m\u001b[0m\u001b[0;34m\u001b[0m\u001b[0m\n\u001b[0;32m---> 59\u001b[0;31m     tensors = pywrap_tfe.TFE_Py_Execute(ctx._handle, device_name, op_name,\n\u001b[0m\u001b[1;32m     60\u001b[0m                                         inputs, attrs, num_outputs)\n\u001b[1;32m     61\u001b[0m   \u001b[0;32mexcept\u001b[0m \u001b[0mcore\u001b[0m\u001b[0;34m.\u001b[0m\u001b[0m_NotOkStatusException\u001b[0m \u001b[0;32mas\u001b[0m \u001b[0me\u001b[0m\u001b[0;34m:\u001b[0m\u001b[0;34m\u001b[0m\u001b[0;34m\u001b[0m\u001b[0m\n",
      "\u001b[0;31mKeyboardInterrupt\u001b[0m: "
     ]
    }
   ],
   "source": [
    "history = model.fit(\n",
    "    train,\n",
    "    validation_data=valid,\n",
    "    epochs=50,\n",
    "    batch_size=BATCH_SIZE,\n",
    "    verbose=1,\n",
    "    use_multiprocessing=True,\n",
    ")"
   ]
  },
  {
   "cell_type": "code",
   "execution_count": null,
   "metadata": {},
   "outputs": [],
   "source": [
    "plot_curves(history)"
   ]
  },
  {
   "cell_type": "code",
   "execution_count": null,
   "metadata": {},
   "outputs": [],
   "source": [
    "plot_curves(history, loss=True)"
   ]
  },
  {
   "cell_type": "code",
   "execution_count": null,
   "metadata": {},
   "outputs": [],
   "source": []
  },
  {
   "cell_type": "code",
   "execution_count": null,
   "metadata": {},
   "outputs": [],
   "source": []
  },
  {
   "cell_type": "code",
   "execution_count": null,
   "metadata": {},
   "outputs": [],
   "source": []
  },
  {
   "cell_type": "code",
   "execution_count": null,
   "metadata": {},
   "outputs": [],
   "source": []
  },
  {
   "cell_type": "markdown",
   "metadata": {},
   "source": [
    "## test"
   ]
  },
  {
   "cell_type": "code",
   "execution_count": null,
   "metadata": {},
   "outputs": [],
   "source": [
    "prediction = model.predict(test) > 0.5"
   ]
  },
  {
   "cell_type": "code",
   "execution_count": null,
   "metadata": {},
   "outputs": [],
   "source": [
    "test_sub = pd.DataFrame(prediction, columns=feature_columns)\n",
    "for name in test_sub.columns.tolist():\n",
    "    test_sub[name] = test_sub[name].replace({True: name, False: \"\"})\n",
    "test_sub[\"all\"] = test_sub.apply(\" \".join, axis=1).str.split().str.join(sep=\" \")\n",
    "test_sub.to_csv(\"app/sandbox/test_sub.csv\")"
   ]
  },
  {
   "cell_type": "code",
   "execution_count": null,
   "metadata": {},
   "outputs": [],
   "source": []
  },
  {
   "cell_type": "code",
   "execution_count": null,
   "metadata": {},
   "outputs": [],
   "source": []
  },
  {
   "cell_type": "code",
   "execution_count": null,
   "metadata": {},
   "outputs": [],
   "source": []
  },
  {
   "cell_type": "code",
   "execution_count": null,
   "metadata": {},
   "outputs": [],
   "source": []
  },
  {
   "cell_type": "code",
   "execution_count": null,
   "metadata": {},
   "outputs": [],
   "source": []
  },
  {
   "cell_type": "code",
   "execution_count": null,
   "metadata": {},
   "outputs": [],
   "source": []
  },
  {
   "cell_type": "code",
   "execution_count": null,
   "metadata": {},
   "outputs": [],
   "source": []
  },
  {
   "cell_type": "code",
   "execution_count": null,
   "metadata": {},
   "outputs": [],
   "source": []
  },
  {
   "cell_type": "code",
   "execution_count": null,
   "metadata": {},
   "outputs": [],
   "source": []
  },
  {
   "cell_type": "code",
   "execution_count": null,
   "metadata": {},
   "outputs": [],
   "source": []
  },
  {
   "cell_type": "code",
   "execution_count": null,
   "metadata": {},
   "outputs": [],
   "source": []
  },
  {
   "cell_type": "code",
   "execution_count": null,
   "metadata": {},
   "outputs": [],
   "source": []
  },
  {
   "cell_type": "code",
   "execution_count": null,
   "metadata": {},
   "outputs": [],
   "source": []
  },
  {
   "cell_type": "code",
   "execution_count": null,
   "metadata": {},
   "outputs": [],
   "source": []
  },
  {
   "cell_type": "code",
   "execution_count": null,
   "metadata": {},
   "outputs": [],
   "source": []
  },
  {
   "cell_type": "code",
   "execution_count": null,
   "metadata": {},
   "outputs": [],
   "source": []
  },
  {
   "cell_type": "code",
   "execution_count": null,
   "metadata": {},
   "outputs": [],
   "source": [
    "backbone = ResNet50(input_shape=(224, 224, 3), weights=\"imagenet\", include_top=False)\n",
    "model = Sequential()\n",
    "model.add(backbone)\n",
    "model.add(GlobalAveragePooling2D())\n",
    "model.add(Dense(units=6, activation=\"sigmoid\"))\n",
    "model.compile(\n",
    "    loss='binary_crossentropy',\n",
    "    optimizer=Adam(lr=0.0001),\n",
    "    metrics=[\n",
    "        keras.metrics.CategoricalAccuracy(),\n",
    "        keras.metrics.Recall(),\n",
    "        keras.metrics.Precision(),\n",
    "        tfa.metrics.F1Score(num_classes=6, average=\"micro\"),\n",
    "    ],\n",
    ")"
   ]
  },
  {
   "cell_type": "code",
   "execution_count": null,
   "metadata": {},
   "outputs": [],
   "source": [
    "history = model.fit(\n",
    "    train,\n",
    "    validation_data=valid,\n",
    "    epochs=3,\n",
    "    batch_size=BATCH_SIZE,\n",
    "    #     steps_per_epoch=64,\n",
    "    #     validation_steps=16,\n",
    "    verbose=1,\n",
    "    use_multiprocessing=True,\n",
    ")"
   ]
  },
  {
   "cell_type": "code",
   "execution_count": null,
   "metadata": {},
   "outputs": [],
   "source": []
  },
  {
   "cell_type": "code",
   "execution_count": null,
   "metadata": {},
   "outputs": [],
   "source": []
  },
  {
   "cell_type": "code",
   "execution_count": null,
   "metadata": {},
   "outputs": [],
   "source": []
  },
  {
   "cell_type": "code",
   "execution_count": null,
   "metadata": {},
   "outputs": [],
   "source": []
  },
  {
   "cell_type": "code",
   "execution_count": null,
   "metadata": {},
   "outputs": [],
   "source": []
  },
  {
   "cell_type": "code",
   "execution_count": null,
   "metadata": {},
   "outputs": [],
   "source": []
  },
  {
   "cell_type": "code",
   "execution_count": null,
   "metadata": {},
   "outputs": [],
   "source": [
    "model_l = keras.models.load_model('/app/_data/models/base_model')"
   ]
  },
  {
   "cell_type": "code",
   "execution_count": null,
   "metadata": {},
   "outputs": [],
   "source": [
    "a = model_l.predict(valid)"
   ]
  },
  {
   "cell_type": "code",
   "execution_count": null,
   "metadata": {},
   "outputs": [],
   "source": [
    "a[0]"
   ]
  },
  {
   "cell_type": "code",
   "execution_count": null,
   "metadata": {},
   "outputs": [],
   "source": []
  },
  {
   "cell_type": "code",
   "execution_count": null,
   "metadata": {},
   "outputs": [],
   "source": []
  }
 ],
 "metadata": {
  "kernelspec": {
   "display_name": "Python 3",
   "language": "python",
   "name": "python3"
  },
  "language_info": {
   "codemirror_mode": {
    "name": "ipython",
    "version": 3
   },
   "file_extension": ".py",
   "mimetype": "text/x-python",
   "name": "python",
   "nbconvert_exporter": "python",
   "pygments_lexer": "ipython3",
   "version": "3.8.5"
  }
 },
 "nbformat": 4,
 "nbformat_minor": 4
}
