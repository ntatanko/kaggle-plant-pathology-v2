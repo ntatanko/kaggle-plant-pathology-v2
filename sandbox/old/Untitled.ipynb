{
 "cells": [
  {
   "cell_type": "code",
   "execution_count": 1,
   "metadata": {},
   "outputs": [],
   "source": [
    "import os\n",
    "\n",
    "import numpy as np\n",
    "import pandas as pd\n",
    "from IPython.core.interactiveshell import InteractiveShell\n",
    "\n",
    "InteractiveShell.ast_node_interactivity = \"all\"\n",
    "import warnings\n",
    "\n",
    "warnings.filterwarnings(\"ignore\")\n",
    "\n",
    "import matplotlib.pyplot as plt\n",
    "\n",
    "%matplotlib inline\n",
    "import plotly.express as px\n",
    "import plotly.graph_objects as go\n",
    "import seaborn as sns\n",
    "import sklearn\n",
    "import tensorflow as tf\n",
    "import tensorflow_addons as tfa\n",
    "from PIL import Image\n",
    "from sklearn.feature_extraction.text import CountVectorizer\n",
    "from sklearn.metrics import (\n",
    "    classification_report,\n",
    "    f1_score,\n",
    "    plot_confusion_matrix,\n",
    "    precision_recall_curve,\n",
    "    precision_score,\n",
    "    recall_score,\n",
    "    roc_auc_score,\n",
    "    roc_curve,\n",
    ")\n",
    "from sklearn.model_selection import (\n",
    "    StratifiedKFold,\n",
    "    StratifiedShuffleSplit,\n",
    "    train_test_split,\n",
    ")\n",
    "from tensorflow import keras\n",
    "\n",
    "from tensorflow.keras.applications.efficientnet import EfficientNetB4, EfficientNetB7\n",
    "from tensorflow.keras.layers import (\n",
    "    AveragePooling2D,\n",
    "    AvgPool2D,\n",
    "    Conv2D,\n",
    "    Dense,\n",
    "    Flatten,\n",
    "    GlobalAveragePooling2D,\n",
    "    MaxPooling2D,\n",
    ")\n",
    "from tensorflow.keras.models import Sequential\n",
    "\n",
    "from tensorflow.keras.optimizers import Adam\n",
    "from tensorflow.keras.preprocessing.image import ImageDataGenerator\n",
    "from tqdm import notebook, tqdm"
   ]
  },
  {
   "cell_type": "code",
   "execution_count": 2,
   "metadata": {},
   "outputs": [],
   "source": [
    "PATH = \"/app/_data/\"\n",
    "BATCH_SIZE = 32\n",
    "SEED = 1488\n",
    "IMAGE_SIZE = (380, 380)\n",
    "NUM_CLASSES = 6\n",
    "INPUT_SHAPE = (380, 380, 3)\n",
    "TRAIN_IMG_PATH = \"/app/_data/380/\"\n",
    "TEST_IMG_PATH = \"/app/_data/test_images/\"\n"
   ]
  },
  {
   "cell_type": "code",
   "execution_count": 3,
   "metadata": {},
   "outputs": [],
   "source": [
    "labels = pd.read_csv(PATH + \"train_labels.csv\")"
   ]
  },
  {
   "cell_type": "code",
   "execution_count": 4,
   "metadata": {},
   "outputs": [],
   "source": [
    "sample_submission = pd.read_csv(PATH + \"sample_submission.csv\")"
   ]
  },
  {
   "cell_type": "code",
   "execution_count": 5,
   "metadata": {},
   "outputs": [],
   "source": [
    "labels = labels.join(labels[\"labels\"].str.get_dummies(sep=\" \"))"
   ]
  },
  {
   "cell_type": "code",
   "execution_count": 6,
   "metadata": {},
   "outputs": [
    {
     "data": {
      "text/html": [
       "<div>\n",
       "<style scoped>\n",
       "    .dataframe tbody tr th:only-of-type {\n",
       "        vertical-align: middle;\n",
       "    }\n",
       "\n",
       "    .dataframe tbody tr th {\n",
       "        vertical-align: top;\n",
       "    }\n",
       "\n",
       "    .dataframe thead th {\n",
       "        text-align: right;\n",
       "    }\n",
       "</style>\n",
       "<table border=\"1\" class=\"dataframe\">\n",
       "  <thead>\n",
       "    <tr style=\"text-align: right;\">\n",
       "      <th></th>\n",
       "      <th>image</th>\n",
       "      <th>labels</th>\n",
       "      <th>complex</th>\n",
       "      <th>frog_eye_leaf_spot</th>\n",
       "      <th>healthy</th>\n",
       "      <th>powdery_mildew</th>\n",
       "      <th>rust</th>\n",
       "      <th>scab</th>\n",
       "    </tr>\n",
       "  </thead>\n",
       "  <tbody>\n",
       "    <tr>\n",
       "      <th>0</th>\n",
       "      <td>800113bb65efe69e.jpg</td>\n",
       "      <td>healthy</td>\n",
       "      <td>0</td>\n",
       "      <td>0</td>\n",
       "      <td>1</td>\n",
       "      <td>0</td>\n",
       "      <td>0</td>\n",
       "      <td>0</td>\n",
       "    </tr>\n",
       "  </tbody>\n",
       "</table>\n",
       "</div>"
      ],
      "text/plain": [
       "                  image   labels  complex  frog_eye_leaf_spot  healthy  \\\n",
       "0  800113bb65efe69e.jpg  healthy        0                   0        1   \n",
       "\n",
       "   powdery_mildew  rust  scab  \n",
       "0               0     0     0  "
      ]
     },
     "execution_count": 6,
     "metadata": {},
     "output_type": "execute_result"
    }
   ],
   "source": [
    "labels.head(1)"
   ]
  },
  {
   "cell_type": "code",
   "execution_count": 7,
   "metadata": {},
   "outputs": [
    {
     "data": {
      "text/plain": [
       "['complex', 'frog_eye_leaf_spot', 'healthy', 'powdery_mildew', 'rust', 'scab']"
      ]
     },
     "execution_count": 7,
     "metadata": {},
     "output_type": "execute_result"
    }
   ],
   "source": [
    "feature_columns = labels.columns[2:].tolist()\n",
    "feature_columns"
   ]
  },
  {
   "cell_type": "code",
   "execution_count": 8,
   "metadata": {},
   "outputs": [
    {
     "data": {
      "text/plain": [
       "['complex', 'frog_eye_leaf_spot', 'healthy', 'powdery_mildew', 'rust', 'scab']"
      ]
     },
     "execution_count": 8,
     "metadata": {},
     "output_type": "execute_result"
    }
   ],
   "source": [
    "feature_columns"
   ]
  },
  {
   "cell_type": "code",
   "execution_count": 9,
   "metadata": {},
   "outputs": [
    {
     "data": {
      "text/html": [
       "<div>\n",
       "<style scoped>\n",
       "    .dataframe tbody tr th:only-of-type {\n",
       "        vertical-align: middle;\n",
       "    }\n",
       "\n",
       "    .dataframe tbody tr th {\n",
       "        vertical-align: top;\n",
       "    }\n",
       "\n",
       "    .dataframe thead th {\n",
       "        text-align: right;\n",
       "    }\n",
       "</style>\n",
       "<table border=\"1\" class=\"dataframe\">\n",
       "  <thead>\n",
       "    <tr style=\"text-align: right;\">\n",
       "      <th></th>\n",
       "      <th>image_id</th>\n",
       "      <th>healthy</th>\n",
       "      <th>multiple_diseases</th>\n",
       "      <th>rust</th>\n",
       "      <th>scab</th>\n",
       "    </tr>\n",
       "  </thead>\n",
       "  <tbody>\n",
       "    <tr>\n",
       "      <th>1271</th>\n",
       "      <td>Train_1271</td>\n",
       "      <td>1</td>\n",
       "      <td>0</td>\n",
       "      <td>0</td>\n",
       "      <td>0</td>\n",
       "    </tr>\n",
       "  </tbody>\n",
       "</table>\n",
       "</div>"
      ],
      "text/plain": [
       "        image_id  healthy  multiple_diseases  rust  scab\n",
       "1271  Train_1271        1                  0     0     0"
      ]
     },
     "execution_count": 9,
     "metadata": {},
     "output_type": "execute_result"
    }
   ],
   "source": [
    "labels_2020 = pd.read_csv(PATH+'train_20.csv')\n",
    "labels_2020.sample()"
   ]
  },
  {
   "cell_type": "code",
   "execution_count": 10,
   "metadata": {},
   "outputs": [],
   "source": [
    "labels_2020['image_id'] = labels_2020['image_id']+'.jpg'"
   ]
  },
  {
   "cell_type": "code",
   "execution_count": 11,
   "metadata": {},
   "outputs": [
    {
     "data": {
      "text/html": [
       "<div>\n",
       "<style scoped>\n",
       "    .dataframe tbody tr th:only-of-type {\n",
       "        vertical-align: middle;\n",
       "    }\n",
       "\n",
       "    .dataframe tbody tr th {\n",
       "        vertical-align: top;\n",
       "    }\n",
       "\n",
       "    .dataframe thead th {\n",
       "        text-align: right;\n",
       "    }\n",
       "</style>\n",
       "<table border=\"1\" class=\"dataframe\">\n",
       "  <thead>\n",
       "    <tr style=\"text-align: right;\">\n",
       "      <th></th>\n",
       "      <th>0</th>\n",
       "    </tr>\n",
       "  </thead>\n",
       "  <tbody>\n",
       "    <tr>\n",
       "      <th>98</th>\n",
       "      <td>8df10b20117f7bc3.jpg</td>\n",
       "    </tr>\n",
       "  </tbody>\n",
       "</table>\n",
       "</div>"
      ],
      "text/plain": [
       "                       0\n",
       "98  8df10b20117f7bc3.jpg"
      ]
     },
     "execution_count": 11,
     "metadata": {},
     "output_type": "execute_result"
    }
   ],
   "source": [
    "all_wrong = pd.read_csv(PATH+\"all_wrong_7mod.csv\", index_col=[0])\n",
    "all_wrong.sample()"
   ]
  },
  {
   "cell_type": "code",
   "execution_count": 12,
   "metadata": {},
   "outputs": [
    {
     "data": {
      "text/html": [
       "<div>\n",
       "<style scoped>\n",
       "    .dataframe tbody tr th:only-of-type {\n",
       "        vertical-align: middle;\n",
       "    }\n",
       "\n",
       "    .dataframe tbody tr th {\n",
       "        vertical-align: top;\n",
       "    }\n",
       "\n",
       "    .dataframe thead th {\n",
       "        text-align: right;\n",
       "    }\n",
       "</style>\n",
       "<table border=\"1\" class=\"dataframe\">\n",
       "  <thead>\n",
       "    <tr style=\"text-align: right;\">\n",
       "      <th></th>\n",
       "      <th>image</th>\n",
       "      <th>labels</th>\n",
       "      <th>complex</th>\n",
       "      <th>frog_eye_leaf_spot</th>\n",
       "      <th>healthy</th>\n",
       "      <th>powdery_mildew</th>\n",
       "      <th>rust</th>\n",
       "      <th>scab</th>\n",
       "    </tr>\n",
       "  </thead>\n",
       "  <tbody>\n",
       "    <tr>\n",
       "      <th>0</th>\n",
       "      <td>928524ea9778cb9e.jpg</td>\n",
       "      <td>complex</td>\n",
       "      <td>1</td>\n",
       "      <td>0</td>\n",
       "      <td>0</td>\n",
       "      <td>0</td>\n",
       "      <td>0</td>\n",
       "      <td>0</td>\n",
       "    </tr>\n",
       "    <tr>\n",
       "      <th>1</th>\n",
       "      <td>f5cbd285dd1a1e10.jpg</td>\n",
       "      <td>scab frog_eye_leaf_spot complex</td>\n",
       "      <td>1</td>\n",
       "      <td>1</td>\n",
       "      <td>0</td>\n",
       "      <td>0</td>\n",
       "      <td>0</td>\n",
       "      <td>1</td>\n",
       "    </tr>\n",
       "    <tr>\n",
       "      <th>2</th>\n",
       "      <td>fb9fd1486816f2a0.jpg</td>\n",
       "      <td>scab frog_eye_leaf_spot</td>\n",
       "      <td>0</td>\n",
       "      <td>1</td>\n",
       "      <td>0</td>\n",
       "      <td>0</td>\n",
       "      <td>0</td>\n",
       "      <td>1</td>\n",
       "    </tr>\n",
       "    <tr>\n",
       "      <th>3</th>\n",
       "      <td>bd25252ff090b9e8.jpg</td>\n",
       "      <td>complex</td>\n",
       "      <td>1</td>\n",
       "      <td>0</td>\n",
       "      <td>0</td>\n",
       "      <td>0</td>\n",
       "      <td>0</td>\n",
       "      <td>0</td>\n",
       "    </tr>\n",
       "    <tr>\n",
       "      <th>4</th>\n",
       "      <td>8d784bc9270bb2ab.jpg</td>\n",
       "      <td>scab frog_eye_leaf_spot complex</td>\n",
       "      <td>1</td>\n",
       "      <td>1</td>\n",
       "      <td>0</td>\n",
       "      <td>0</td>\n",
       "      <td>0</td>\n",
       "      <td>1</td>\n",
       "    </tr>\n",
       "  </tbody>\n",
       "</table>\n",
       "</div>"
      ],
      "text/plain": [
       "                  image                           labels  complex  \\\n",
       "0  928524ea9778cb9e.jpg                          complex        1   \n",
       "1  f5cbd285dd1a1e10.jpg  scab frog_eye_leaf_spot complex        1   \n",
       "2  fb9fd1486816f2a0.jpg          scab frog_eye_leaf_spot        0   \n",
       "3  bd25252ff090b9e8.jpg                          complex        1   \n",
       "4  8d784bc9270bb2ab.jpg  scab frog_eye_leaf_spot complex        1   \n",
       "\n",
       "   frog_eye_leaf_spot  healthy  powdery_mildew  rust  scab  \n",
       "0                   0        0               0     0     0  \n",
       "1                   1        0               0     0     1  \n",
       "2                   1        0               0     0     1  \n",
       "3                   0        0               0     0     0  \n",
       "4                   1        0               0     0     1  "
      ]
     },
     "execution_count": 12,
     "metadata": {},
     "output_type": "execute_result"
    }
   ],
   "source": [
    "all_wrong.columns = ['image']\n",
    "all_wrong = all_wrong.merge(labels, on='image', how='left')\n",
    "all_wrong.head()"
   ]
  },
  {
   "cell_type": "code",
   "execution_count": 13,
   "metadata": {},
   "outputs": [],
   "source": [
    "labels_2020.columns = ['image', 'healthy', 'complex', 'rust', 'scab']\n",
    "feature_columns_20 = labels_2020.columns[1:]"
   ]
  },
  {
   "cell_type": "code",
   "execution_count": 14,
   "metadata": {},
   "outputs": [],
   "source": [
    "for i in labels_2020.index:\n",
    "    labels_2020.loc[i, 'labels_20'] = ''.join(list(map(lambda x, y: x*y, labels_2020.loc[i,feature_columns_20].values, feature_columns_20)))"
   ]
  },
  {
   "cell_type": "code",
   "execution_count": 15,
   "metadata": {},
   "outputs": [],
   "source": [
    "labels_21_20 = pd.concat([labels, labels_2020], axis=0,\n",
    "    join='outer',\n",
    "    ignore_index=True)"
   ]
  },
  {
   "cell_type": "code",
   "execution_count": 16,
   "metadata": {},
   "outputs": [],
   "source": [
    "labels_21_20[feature_columns] = labels_21_20[feature_columns].fillna(0).astype('int')"
   ]
  },
  {
   "cell_type": "code",
   "execution_count": 17,
   "metadata": {},
   "outputs": [
    {
     "data": {
      "text/html": [
       "<div>\n",
       "<style scoped>\n",
       "    .dataframe tbody tr th:only-of-type {\n",
       "        vertical-align: middle;\n",
       "    }\n",
       "\n",
       "    .dataframe tbody tr th {\n",
       "        vertical-align: top;\n",
       "    }\n",
       "\n",
       "    .dataframe thead th {\n",
       "        text-align: right;\n",
       "    }\n",
       "</style>\n",
       "<table border=\"1\" class=\"dataframe\">\n",
       "  <thead>\n",
       "    <tr style=\"text-align: right;\">\n",
       "      <th></th>\n",
       "      <th>image</th>\n",
       "      <th>labels</th>\n",
       "      <th>complex</th>\n",
       "      <th>frog_eye_leaf_spot</th>\n",
       "      <th>healthy</th>\n",
       "      <th>powdery_mildew</th>\n",
       "      <th>rust</th>\n",
       "      <th>scab</th>\n",
       "    </tr>\n",
       "  </thead>\n",
       "  <tbody>\n",
       "    <tr>\n",
       "      <th>0</th>\n",
       "      <td>800113bb65efe69e.jpg</td>\n",
       "      <td>healthy</td>\n",
       "      <td>0</td>\n",
       "      <td>0</td>\n",
       "      <td>1</td>\n",
       "      <td>0</td>\n",
       "      <td>0</td>\n",
       "      <td>0</td>\n",
       "    </tr>\n",
       "    <tr>\n",
       "      <th>1</th>\n",
       "      <td>8002cb321f8bfcdf.jpg</td>\n",
       "      <td>scab frog_eye_leaf_spot complex</td>\n",
       "      <td>1</td>\n",
       "      <td>1</td>\n",
       "      <td>0</td>\n",
       "      <td>0</td>\n",
       "      <td>0</td>\n",
       "      <td>1</td>\n",
       "    </tr>\n",
       "  </tbody>\n",
       "</table>\n",
       "</div>"
      ],
      "text/plain": [
       "                  image                           labels  complex  \\\n",
       "0  800113bb65efe69e.jpg                          healthy        0   \n",
       "1  8002cb321f8bfcdf.jpg  scab frog_eye_leaf_spot complex        1   \n",
       "\n",
       "   frog_eye_leaf_spot  healthy  powdery_mildew  rust  scab  \n",
       "0                   0        1               0     0     0  \n",
       "1                   1        0               0     0     1  "
      ]
     },
     "execution_count": 17,
     "metadata": {},
     "output_type": "execute_result"
    }
   ],
   "source": [
    "labels_21_20['labels'] = labels_21_20['labels'].fillna(labels_21_20['labels_20'])\n",
    "labels_21_20 = labels_21_20.drop('labels_20', axis=1)\n",
    "labels_21_20.head(2)"
   ]
  },
  {
   "cell_type": "code",
   "execution_count": 18,
   "metadata": {},
   "outputs": [],
   "source": [
    "labels_long = pd.concat([labels_21_20, all_wrong, all_wrong, all_wrong, all_wrong], axis=0,\n",
    "    join='outer',\n",
    "    ignore_index=True)"
   ]
  },
  {
   "cell_type": "code",
   "execution_count": 19,
   "metadata": {},
   "outputs": [
    {
     "name": "stdout",
     "output_type": "stream",
     "text": [
      "<class 'pandas.core.frame.DataFrame'>\n",
      "RangeIndex: 23105 entries, 0 to 23104\n",
      "Data columns (total 8 columns):\n",
      " #   Column              Non-Null Count  Dtype \n",
      "---  ------              --------------  ----- \n",
      " 0   image               23105 non-null  object\n",
      " 1   labels              23105 non-null  object\n",
      " 2   complex             23105 non-null  int64 \n",
      " 3   frog_eye_leaf_spot  23105 non-null  int64 \n",
      " 4   healthy             23105 non-null  int64 \n",
      " 5   powdery_mildew      23105 non-null  int64 \n",
      " 6   rust                23105 non-null  int64 \n",
      " 7   scab                23105 non-null  int64 \n",
      "dtypes: int64(6), object(2)\n",
      "memory usage: 1.4+ MB\n"
     ]
    }
   ],
   "source": [
    "labels_long.info()"
   ]
  },
  {
   "cell_type": "code",
   "execution_count": 20,
   "metadata": {},
   "outputs": [
    {
     "data": {
      "text/plain": [
       "scab                               5461\n",
       "healthy                            5148\n",
       "frog_eye_leaf_spot                 3191\n",
       "rust                               2462\n",
       "complex                            2412\n",
       "scab frog_eye_leaf_spot            1354\n",
       "powdery_mildew                     1232\n",
       "scab frog_eye_leaf_spot complex     656\n",
       "rust frog_eye_leaf_spot             394\n",
       "frog_eye_leaf_spot complex          369\n",
       "powdery_mildew complex              235\n",
       "rust complex                        191\n",
       "Name: labels, dtype: int64"
      ]
     },
     "execution_count": 20,
     "metadata": {},
     "output_type": "execute_result"
    }
   ],
   "source": [
    "labels_long['labels'].value_counts()"
   ]
  },
  {
   "cell_type": "code",
   "execution_count": 21,
   "metadata": {},
   "outputs": [],
   "source": [
    "labels_long_1 = labels_long.copy()"
   ]
  },
  {
   "cell_type": "code",
   "execution_count": 22,
   "metadata": {},
   "outputs": [],
   "source": [
    "for col in ['powdery_mildew',\n",
    " 'scab frog_eye_leaf_spot',\n",
    " 'scab frog_eye_leaf_spot complex',\n",
    " 'frog_eye_leaf_spot complex',\n",
    " 'rust frog_eye_leaf_spot',\n",
    " 'powdery_mildew complex',\n",
    " 'rust complex']:\n",
    "    n_count = labels_long['labels'].value_counts()[col]\n",
    "    samp = labels[labels['labels'] == col].sample(n=2000-n_count,\n",
    "    replace=True,\n",
    "    random_state=SEED,\n",
    "    axis=None,\n",
    ")\n",
    "    labels_long_1 = pd.concat([labels_long_1, samp], axis=0,\n",
    "    join='outer',\n",
    "    ignore_index=True)"
   ]
  },
  {
   "cell_type": "code",
   "execution_count": 23,
   "metadata": {},
   "outputs": [],
   "source": [
    "labels_long_1 = labels_long_1.sample(frac=1, random_state = SEED).reset_index(drop = True)"
   ]
  },
  {
   "cell_type": "code",
   "execution_count": 24,
   "metadata": {},
   "outputs": [
    {
     "data": {
      "text/plain": [
       "scab                               5461\n",
       "healthy                            5148\n",
       "frog_eye_leaf_spot                 3191\n",
       "rust                               2462\n",
       "complex                            2412\n",
       "rust frog_eye_leaf_spot            2000\n",
       "frog_eye_leaf_spot complex         2000\n",
       "powdery_mildew complex             2000\n",
       "powdery_mildew                     2000\n",
       "scab frog_eye_leaf_spot complex    2000\n",
       "scab frog_eye_leaf_spot            2000\n",
       "rust complex                       2000\n",
       "Name: labels, dtype: int64"
      ]
     },
     "execution_count": 24,
     "metadata": {},
     "output_type": "execute_result"
    }
   ],
   "source": [
    "labels_long_1['labels'].value_counts()"
   ]
  },
  {
   "cell_type": "code",
   "execution_count": null,
   "metadata": {},
   "outputs": [],
   "source": []
  },
  {
   "cell_type": "code",
   "execution_count": null,
   "metadata": {},
   "outputs": [],
   "source": []
  },
  {
   "cell_type": "code",
   "execution_count": null,
   "metadata": {},
   "outputs": [],
   "source": []
  },
  {
   "cell_type": "code",
   "execution_count": null,
   "metadata": {},
   "outputs": [],
   "source": []
  },
  {
   "cell_type": "markdown",
   "metadata": {},
   "source": [
    "### StratifiedShuffleSplit"
   ]
  },
  {
   "cell_type": "markdown",
   "metadata": {},
   "source": [
    " - v1 - labels_long_1 0.812+scab\n",
    " - v2 - labels_21_20 - 0,78 + scab\n",
    " - v3 - labels+all_wrong*4 = labels_long\n",
    " - v3 - labels + upsampling"
   ]
  },
  {
   "cell_type": "code",
   "execution_count": 25,
   "metadata": {},
   "outputs": [],
   "source": [
    "labels_and_wrong = pd.concat([labels, all_wrong, all_wrong, all_wrong, all_wrong], axis=0,\n",
    "    join='outer',\n",
    "    ignore_index=True)"
   ]
  },
  {
   "cell_type": "code",
   "execution_count": 34,
   "metadata": {},
   "outputs": [],
   "source": [
    "labels_ups = labels.copy()\n",
    "for col in ['rust',\n",
    " 'complex',\n",
    " 'powdery_mildew',\n",
    " 'scab frog_eye_leaf_spot',\n",
    " 'scab frog_eye_leaf_spot complex',\n",
    " 'frog_eye_leaf_spot complex',\n",
    " 'rust frog_eye_leaf_spot',\n",
    " 'rust complex',\n",
    " 'powdery_mildew complex']:\n",
    "    n_count = labels['labels'].value_counts()[col]\n",
    "    samp = labels[labels['labels'] == col].sample(n=2000-n_count,\n",
    "    replace=True,\n",
    "    random_state=SEED,\n",
    "    axis=None,\n",
    ")\n",
    "    labels_ups = pd.concat([labels_ups, samp], axis=0,\n",
    "    join='outer',\n",
    "    ignore_index=True)"
   ]
  },
  {
   "cell_type": "code",
   "execution_count": 35,
   "metadata": {},
   "outputs": [
    {
     "data": {
      "text/plain": [
       "scab                               4809\n",
       "healthy                            4604\n",
       "frog_eye_leaf_spot                 3175\n",
       "rust frog_eye_leaf_spot            2000\n",
       "rust                               2000\n",
       "frog_eye_leaf_spot complex         2000\n",
       "complex                            2000\n",
       "powdery_mildew complex             2000\n",
       "powdery_mildew                     2000\n",
       "scab frog_eye_leaf_spot complex    2000\n",
       "scab frog_eye_leaf_spot            2000\n",
       "rust complex                       2000\n",
       "Name: labels, dtype: int64"
      ]
     },
     "execution_count": 35,
     "metadata": {},
     "output_type": "execute_result"
    }
   ],
   "source": [
    "labels_ups['labels'].value_counts()"
   ]
  },
  {
   "cell_type": "code",
   "execution_count": null,
   "metadata": {},
   "outputs": [],
   "source": []
  },
  {
   "cell_type": "code",
   "execution_count": 36,
   "metadata": {},
   "outputs": [],
   "source": [
    "df = labels_ups.copy()\n",
    "sss = StratifiedShuffleSplit(n_splits=1, test_size=0.1, random_state=SEED)\n",
    "\n",
    "for train_index, valid_index in sss.split(df[\"image\"], df['labels']):\n",
    "    train, valid = df.loc[train_index], df.loc[valid_index]"
   ]
  },
  {
   "cell_type": "code",
   "execution_count": 37,
   "metadata": {},
   "outputs": [],
   "source": [
    "def pred_to_labels(pred, thresh=0.5, labels=feature_columns):\n",
    "\n",
    "    pred = [labels[i] for i in range(len(labels)) if pred[i] > thresh]\n",
    "    pred = ' '.join(pred)\n",
    "    return pred"
   ]
  },
  {
   "cell_type": "code",
   "execution_count": 38,
   "metadata": {},
   "outputs": [],
   "source": [
    "AUTOTUNE = tf.data.experimental.AUTOTUNE\n",
    "data_augmentation = keras.Sequential(\n",
    "    [\n",
    "        keras.layers.experimental.preprocessing.RandomFlip(\n",
    "            \"horizontal_and_vertical\", seed=SEED\n",
    "        ),\n",
    "        keras.layers.experimental.preprocessing.RandomRotation(0.15, seed=SEED),\n",
    "        keras.layers.experimental.preprocessing.RandomZoom(0.25, 0.25, seed=SEED),\n",
    "        keras.layers.experimental.preprocessing.RandomContrast(factor=0.05, seed=SEED),\n",
    "        keras.layers.experimental.preprocessing.RandomTranslation(\n",
    "            height_factor=0.2, width_factor=0.2, seed=SEED\n",
    "        ),\n",
    "    ]\n",
    ")"
   ]
  },
  {
   "cell_type": "code",
   "execution_count": 39,
   "metadata": {},
   "outputs": [],
   "source": [
    "# def write_np(file_path):\n",
    "#     img = tf.io.read_file(TRAIN_IMG_PATH + file_path)\n",
    "#     img = tf.image.decode_jpeg(img, channels=3)\n",
    "#     img = tf.image.convert_image_dtype(img, tf.float32)\n",
    "#     img = tf.image.resize(\n",
    "#         img,\n",
    "#         IMAGE_SIZE,\n",
    "#     )\n",
    "#     img = tf.image.convert_image_dtype(img, tf.uint8)\n",
    "#     img = Image.fromarray(np.array(img))\n",
    "#     img.save(PATH + '380/'+file_path)\n",
    "#     return img\n",
    "#     np.save(PATH + 'cache/'+file_path[:-4], img)\n",
    "# labels['image'].apply(write_np)"
   ]
  },
  {
   "cell_type": "code",
   "execution_count": 40,
   "metadata": {},
   "outputs": [],
   "source": [
    "# from 380 uint8\n",
    "def parse_image2(file_path):\n",
    "    img = tf.io.read_file(PATH+'380/'+file_path)\n",
    "    img = tf.image.decode_jpeg(img, channels=3)\n",
    "    return img"
   ]
  },
  {
   "cell_type": "code",
   "execution_count": 41,
   "metadata": {},
   "outputs": [],
   "source": [
    "# v1 from orig\n",
    "def parse_image(file_path):\n",
    "    img = tf.io.read_file(TRAIN_IMG_PATH+file_path)\n",
    "    img = tf.image.decode_jpeg(img, channels=3)\n",
    "    img = tf.image.convert_image_dtype(img, tf.float32)\n",
    "    img = tf.image.resize(\n",
    "        img,\n",
    "        IMAGE_SIZE,\n",
    "    )\n",
    "    img = tf.image.convert_image_dtype(img, tf.uint8)\n",
    "    return img\n"
   ]
  },
  {
   "cell_type": "code",
   "execution_count": 42,
   "metadata": {},
   "outputs": [],
   "source": [
    "def prepare_dataset(df, augmentation=False):\n",
    "    dataset = tf.data.Dataset.from_tensor_slices(\n",
    "        (df[\"image\"].values, df[feature_columns].astype('uint8').values)\n",
    "    )\n",
    "    dataset = dataset.map(lambda x, y: (parse_image2(x), y))\n",
    "    dataset = dataset.batch(BATCH_SIZE)\n",
    "\n",
    "    if augmentation:\n",
    "        dataset = dataset.map(\n",
    "            lambda x, y: (data_augmentation(x, training=True), y),\n",
    "            num_parallel_calls=AUTOTUNE,\n",
    "        )\n",
    "    dataset = dataset.repeat().prefetch(buffer_size=AUTOTUNE)\n",
    "    return dataset"
   ]
  },
  {
   "cell_type": "code",
   "execution_count": 43,
   "metadata": {},
   "outputs": [],
   "source": [
    "ds_train = prepare_dataset(train, augmentation = True)\n",
    "ds_valid = prepare_dataset(valid)"
   ]
  },
  {
   "cell_type": "code",
   "execution_count": 44,
   "metadata": {},
   "outputs": [
    {
     "name": "stdout",
     "output_type": "stream",
     "text": [
      "<dtype: 'uint8'> <dtype: 'uint8'>\n",
      "(380, 380, 3) (32, 6)\n"
     ]
    }
   ],
   "source": [
    "for a, b in ds_valid.take(1):\n",
    "    print(a[0].dtype, b.dtype)\n",
    "    print(a[0].shape, b.shape)\n"
   ]
  },
  {
   "cell_type": "code",
   "execution_count": 45,
   "metadata": {},
   "outputs": [],
   "source": [
    "def parse_test_image(img_name):\n",
    "    img = tf.io.read_file(img_name)\n",
    "    img = tf.image.decode_jpeg(img, channels=3)\n",
    "    img = tf.image.convert_image_dtype(img, tf.float32)\n",
    "    img = tf.image.resize(\n",
    "        img,\n",
    "        IMAGE_SIZE,\n",
    "    )\n",
    "    img = tf.image.convert_image_dtype(img, tf.uint8)\n",
    "    return img\n",
    "\n",
    "\n",
    "def predict_new(path, model):\n",
    "    img = parse_test_image(path)\n",
    "    img = tf.expand_dims(img,axis = 0)\n",
    "    pred = model.predict(img)\n",
    "    return pred_to_labels(pred[0])"
   ]
  },
  {
   "cell_type": "code",
   "execution_count": 46,
   "metadata": {},
   "outputs": [
    {
     "name": "stdout",
     "output_type": "stream",
     "text": [
      "INFO:tensorflow:Mixed precision compatibility check (mixed_float16): OK\n",
      "Your GPU will likely run quickly with dtype policy mixed_float16 as it has compute capability of at least 7.0. Your GPU: Quadro RTX 5000, compute capability 7.5\n"
     ]
    }
   ],
   "source": [
    "policy = keras.mixed_precision.experimental.Policy('mixed_float16')\n",
    "keras.mixed_precision.experimental.set_policy(policy)"
   ]
  },
  {
   "cell_type": "code",
   "execution_count": 47,
   "metadata": {},
   "outputs": [],
   "source": [
    "def scheduler(epoch, lr):\n",
    "    if epoch < 5:\n",
    "        return 0.01\n",
    "    elif 5 <= epoch <10:\n",
    "        return 0.001\n",
    "    elif 10 <= epoch <50:\n",
    "        return 0.0005\n",
    "    else:\n",
    "        return 0.0001"
   ]
  },
  {
   "cell_type": "code",
   "execution_count": 48,
   "metadata": {},
   "outputs": [],
   "source": [
    "callbacks = [\n",
    "    keras.callbacks.EarlyStopping(\n",
    "        monitor=\"val_loss\", patience=20, restore_best_weights=True, verbose=0, mode='min',\n",
    "    ),\n",
    "    keras.callbacks.ModelCheckpoint(\n",
    "        \"/app/_data/models/eff4_ns_21_and_ups.h5\",\n",
    "        monitor=\"val_loss\",\n",
    "        verbose=0,\n",
    "        save_best_only=True,\n",
    "        save_weights_only=False,\n",
    "        mode=\"min\",\n",
    "        save_freq=\"epoch\",\n",
    "    ),\n",
    "    keras.callbacks.LearningRateScheduler(schedule = scheduler, verbose=1)\n",
    "]"
   ]
  },
  {
   "cell_type": "code",
   "execution_count": 49,
   "metadata": {},
   "outputs": [],
   "source": [
    "# base_model = keras.applications.EfficientNetB4(weights=None, include_top=False)\n",
    "# base_model.load_weights('/app/_data/models/efficientnet-b4_noisy-student_notop.h5', by_name=True, skip_mismatch = True)"
   ]
  },
  {
   "cell_type": "code",
   "execution_count": 50,
   "metadata": {},
   "outputs": [],
   "source": [
    "inputs = keras.Input(shape=INPUT_SHAPE)\n",
    "base_model = keras.applications.EfficientNetB4(weights=None, include_top=False)\n",
    "base_model.load_weights('/app/_data/models/efficientnet-b4_noisy-student_notop.h5', by_name=True, skip_mismatch = True)\n",
    "x = base_model(inputs)\n",
    "x = keras.layers.GlobalAveragePooling2D(name=\"avg_pool\")(x)\n",
    "x = keras.layers.Flatten(name=\"flatten\")(x)\n",
    "outputs = keras.layers.Dense(NUM_CLASSES, activation=\"sigmoid\")(x)\n",
    "model = keras.Model(inputs=inputs, outputs=outputs)"
   ]
  },
  {
   "cell_type": "code",
   "execution_count": 51,
   "metadata": {},
   "outputs": [],
   "source": [
    "model.compile(\n",
    "    loss=\"binary_crossentropy\",\n",
    "    optimizer=Adam(lr=0.0005),\n",
    "    metrics=['acc',\n",
    "        keras.metrics.Recall(),\n",
    "        keras.metrics.Precision(),\n",
    "        tfa.metrics.F1Score(num_classes=NUM_CLASSES, average=\"micro\"),\n",
    "    ],\n",
    ")"
   ]
  },
  {
   "cell_type": "code",
   "execution_count": 52,
   "metadata": {},
   "outputs": [
    {
     "name": "stdout",
     "output_type": "stream",
     "text": [
      "\n",
      "Epoch 00001: LearningRateScheduler reducing learning rate to 0.01.\n",
      "Epoch 1/100\n",
      "688/688 [==============================] - 459s 668ms/step - loss: 0.3376 - acc: 0.5419 - recall: 0.5910 - precision: 0.7259 - f1_score: 0.5919 - val_loss: 1.0743 - val_acc: 0.2270 - val_recall: 0.5102 - val_precision: 0.4021 - val_f1_score: 0.3441\n",
      "\n",
      "Epoch 00002: LearningRateScheduler reducing learning rate to 0.01.\n",
      "Epoch 2/100\n",
      "688/688 [==============================] - 450s 654ms/step - loss: 0.2478 - acc: 0.6306 - recall: 0.7468 - precision: 0.8057 - f1_score: 0.6907 - val_loss: 3.6584 - val_acc: 0.0691 - val_recall: 0.1531 - val_precision: 0.2133 - val_f1_score: 0.1584\n",
      "\n",
      "Epoch 00003: LearningRateScheduler reducing learning rate to 0.01.\n",
      "Epoch 3/100\n",
      "688/688 [==============================] - 451s 656ms/step - loss: 0.2226 - acc: 0.6363 - recall: 0.7835 - precision: 0.8182 - f1_score: 0.7041 - val_loss: 0.5745 - val_acc: 0.4572 - val_recall: 0.6338 - val_precision: 0.5775 - val_f1_score: 0.5467\n",
      "\n",
      "Epoch 00004: LearningRateScheduler reducing learning rate to 0.01.\n",
      "Epoch 4/100\n",
      "688/688 [==============================] - 451s 656ms/step - loss: 0.2090 - acc: 0.6483 - recall: 0.8052 - precision: 0.8277 - f1_score: 0.7126 - val_loss: 0.4154 - val_acc: 0.5592 - val_recall: 0.6508 - val_precision: 0.7060 - val_f1_score: 0.6161\n",
      "\n",
      "Epoch 00005: LearningRateScheduler reducing learning rate to 0.01.\n",
      "Epoch 5/100\n",
      "688/688 [==============================] - 451s 655ms/step - loss: 0.1973 - acc: 0.6539 - recall: 0.8222 - precision: 0.8360 - f1_score: 0.7201 - val_loss: 0.3138 - val_acc: 0.5855 - val_recall: 0.6565 - val_precision: 0.8283 - val_f1_score: 0.6725\n",
      "\n",
      "Epoch 00006: LearningRateScheduler reducing learning rate to 0.001.\n",
      "Epoch 6/100\n",
      "688/688 [==============================] - 451s 655ms/step - loss: 0.1640 - acc: 0.6718 - recall: 0.8646 - precision: 0.8576 - f1_score: 0.7409 - val_loss: 0.1605 - val_acc: 0.6678 - val_recall: 0.8458 - val_precision: 0.8685 - val_f1_score: 0.7423\n",
      "\n",
      "Epoch 00007: LearningRateScheduler reducing learning rate to 0.001.\n",
      "Epoch 7/100\n",
      "688/688 [==============================] - 450s 654ms/step - loss: 0.1541 - acc: 0.6833 - recall: 0.8751 - precision: 0.8631 - f1_score: 0.7482 - val_loss: 0.1510 - val_acc: 0.6891 - val_recall: 0.8605 - val_precision: 0.8605 - val_f1_score: 0.7396\n",
      "\n",
      "Epoch 00008: LearningRateScheduler reducing learning rate to 0.001.\n",
      "Epoch 8/100\n",
      "688/688 [==============================] - 451s 655ms/step - loss: 0.1477 - acc: 0.6787 - recall: 0.8835 - precision: 0.8697 - f1_score: 0.7499 - val_loss: 0.1418 - val_acc: 0.6776 - val_recall: 0.8741 - val_precision: 0.8682 - val_f1_score: 0.7544\n",
      "\n",
      "Epoch 00009: LearningRateScheduler reducing learning rate to 0.001.\n",
      "Epoch 9/100\n",
      "688/688 [==============================] - 451s 656ms/step - loss: 0.1437 - acc: 0.6890 - recall: 0.8910 - precision: 0.8713 - f1_score: 0.7532 - val_loss: 0.1326 - val_acc: 0.6760 - val_recall: 0.8719 - val_precision: 0.8911 - val_f1_score: 0.7611\n",
      "\n",
      "Epoch 00010: LearningRateScheduler reducing learning rate to 0.001.\n",
      "Epoch 10/100\n",
      "688/688 [==============================] - 450s 654ms/step - loss: 0.1384 - acc: 0.6901 - recall: 0.8938 - precision: 0.8752 - f1_score: 0.7549 - val_loss: 0.1367 - val_acc: 0.6711 - val_recall: 0.8900 - val_precision: 0.8771 - val_f1_score: 0.7544\n",
      "\n",
      "Epoch 00011: LearningRateScheduler reducing learning rate to 0.0005.\n",
      "Epoch 11/100\n",
      "688/688 [==============================] - 451s 656ms/step - loss: 0.1321 - acc: 0.6956 - recall: 0.9022 - precision: 0.8803 - f1_score: 0.7568 - val_loss: 0.1219 - val_acc: 0.6891 - val_recall: 0.9138 - val_precision: 0.8847 - val_f1_score: 0.7664\n",
      "\n",
      "Epoch 00012: LearningRateScheduler reducing learning rate to 0.0005.\n",
      "Epoch 12/100\n",
      "688/688 [==============================] - 449s 653ms/step - loss: 0.1308 - acc: 0.6988 - recall: 0.9032 - precision: 0.8820 - f1_score: 0.7603 - val_loss: 0.1371 - val_acc: 0.6990 - val_recall: 0.8673 - val_precision: 0.8834 - val_f1_score: 0.7517\n",
      "\n",
      "Epoch 00013: LearningRateScheduler reducing learning rate to 0.0005.\n",
      "Epoch 13/100\n",
      "688/688 [==============================] - 448s 652ms/step - loss: 0.1273 - acc: 0.7024 - recall: 0.9055 - precision: 0.8845 - f1_score: 0.7609 - val_loss: 0.1263 - val_acc: 0.6974 - val_recall: 0.9070 - val_precision: 0.8743 - val_f1_score: 0.7689\n",
      "\n",
      "Epoch 00014: LearningRateScheduler reducing learning rate to 0.0005.\n",
      "Epoch 14/100\n",
      "688/688 [==============================] - 450s 654ms/step - loss: 0.1243 - acc: 0.7072 - recall: 0.9128 - precision: 0.8858 - f1_score: 0.7621 - val_loss: 0.1156 - val_acc: 0.7138 - val_recall: 0.9014 - val_precision: 0.8973 - val_f1_score: 0.7732\n",
      "\n",
      "Epoch 00015: LearningRateScheduler reducing learning rate to 0.0005.\n",
      "Epoch 15/100\n",
      "688/688 [==============================] - 450s 654ms/step - loss: 0.1227 - acc: 0.7083 - recall: 0.9112 - precision: 0.8871 - f1_score: 0.7633 - val_loss: 0.1155 - val_acc: 0.7270 - val_recall: 0.9206 - val_precision: 0.8865 - val_f1_score: 0.7745\n",
      "\n",
      "Epoch 00016: LearningRateScheduler reducing learning rate to 0.0005.\n",
      "Epoch 16/100\n",
      "688/688 [==============================] - 449s 653ms/step - loss: 0.1192 - acc: 0.7055 - recall: 0.9159 - precision: 0.8885 - f1_score: 0.7637 - val_loss: 0.1233 - val_acc: 0.6957 - val_recall: 0.9093 - val_precision: 0.8852 - val_f1_score: 0.7638\n",
      "\n",
      "Epoch 00017: LearningRateScheduler reducing learning rate to 0.0005.\n",
      "Epoch 17/100\n",
      "688/688 [==============================] - 448s 652ms/step - loss: 0.1181 - acc: 0.7094 - recall: 0.9174 - precision: 0.8901 - f1_score: 0.7642 - val_loss: 0.1250 - val_acc: 0.7368 - val_recall: 0.8991 - val_precision: 0.8880 - val_f1_score: 0.7788\n",
      "\n",
      "Epoch 00018: LearningRateScheduler reducing learning rate to 0.0005.\n",
      "Epoch 18/100\n",
      "688/688 [==============================] - 448s 651ms/step - loss: 0.1162 - acc: 0.7087 - recall: 0.9205 - precision: 0.8936 - f1_score: 0.7651 - val_loss: 0.1174 - val_acc: 0.6990 - val_recall: 0.9104 - val_precision: 0.8992 - val_f1_score: 0.7694\n",
      "\n",
      "Epoch 00019: LearningRateScheduler reducing learning rate to 0.0005.\n",
      "Epoch 19/100\n",
      "688/688 [==============================] - 450s 654ms/step - loss: 0.1136 - acc: 0.7166 - recall: 0.9213 - precision: 0.8938 - f1_score: 0.7673 - val_loss: 0.1100 - val_acc: 0.6990 - val_recall: 0.9127 - val_precision: 0.8984 - val_f1_score: 0.7726\n",
      "\n",
      "Epoch 00020: LearningRateScheduler reducing learning rate to 0.0005.\n",
      "Epoch 20/100\n",
      "688/688 [==============================] - 448s 652ms/step - loss: 0.1127 - acc: 0.7166 - recall: 0.9213 - precision: 0.8946 - f1_score: 0.7669 - val_loss: 0.1142 - val_acc: 0.6859 - val_recall: 0.9036 - val_precision: 0.9036 - val_f1_score: 0.7676\n",
      "\n",
      "Epoch 00021: LearningRateScheduler reducing learning rate to 0.0005.\n",
      "Epoch 21/100\n",
      "688/688 [==============================] - 448s 652ms/step - loss: 0.1110 - acc: 0.7183 - recall: 0.9243 - precision: 0.8954 - f1_score: 0.7678 - val_loss: 0.1126 - val_acc: 0.6941 - val_recall: 0.9093 - val_precision: 0.9001 - val_f1_score: 0.7691\n",
      "\n",
      "Epoch 00022: LearningRateScheduler reducing learning rate to 0.0005.\n",
      "Epoch 22/100\n",
      "688/688 [==============================] - 448s 652ms/step - loss: 0.1088 - acc: 0.7153 - recall: 0.9268 - precision: 0.8979 - f1_score: 0.7685 - val_loss: 0.1110 - val_acc: 0.7451 - val_recall: 0.8980 - val_precision: 0.9093 - val_f1_score: 0.7705\n",
      "\n",
      "Epoch 00023: LearningRateScheduler reducing learning rate to 0.0005.\n",
      "Epoch 23/100\n",
      "688/688 [==============================] - 450s 654ms/step - loss: 0.1048 - acc: 0.7221 - recall: 0.9293 - precision: 0.9036 - f1_score: 0.7718 - val_loss: 0.1077 - val_acc: 0.7155 - val_recall: 0.9161 - val_precision: 0.9018 - val_f1_score: 0.7783\n",
      "\n",
      "Epoch 00024: LearningRateScheduler reducing learning rate to 0.0005.\n",
      "Epoch 24/100\n",
      "688/688 [==============================] - 448s 652ms/step - loss: 0.1060 - acc: 0.7249 - recall: 0.9291 - precision: 0.9017 - f1_score: 0.7701 - val_loss: 0.1090 - val_acc: 0.7122 - val_recall: 0.8991 - val_precision: 0.9157 - val_f1_score: 0.7753\n",
      "\n",
      "Epoch 00025: LearningRateScheduler reducing learning rate to 0.0005.\n",
      "Epoch 25/100\n",
      "688/688 [==============================] - 450s 654ms/step - loss: 0.1038 - acc: 0.7221 - recall: 0.9304 - precision: 0.9042 - f1_score: 0.7712 - val_loss: 0.1042 - val_acc: 0.7500 - val_recall: 0.9104 - val_precision: 0.9043 - val_f1_score: 0.7802\n",
      "\n",
      "Epoch 00026: LearningRateScheduler reducing learning rate to 0.0005.\n",
      "Epoch 26/100\n",
      "688/688 [==============================] - 448s 652ms/step - loss: 0.1027 - acc: 0.7198 - recall: 0.9319 - precision: 0.9040 - f1_score: 0.7718 - val_loss: 0.1058 - val_acc: 0.7023 - val_recall: 0.9195 - val_precision: 0.9011 - val_f1_score: 0.7756\n",
      "\n",
      "Epoch 00027: LearningRateScheduler reducing learning rate to 0.0005.\n",
      "Epoch 27/100\n",
      "688/688 [==============================] - 449s 653ms/step - loss: 0.1002 - acc: 0.7255 - recall: 0.9335 - precision: 0.9058 - f1_score: 0.7739 - val_loss: 0.1047 - val_acc: 0.7500 - val_recall: 0.9025 - val_precision: 0.9056 - val_f1_score: 0.7753\n",
      "\n",
      "Epoch 00028: LearningRateScheduler reducing learning rate to 0.0005.\n",
      "Epoch 28/100\n",
      "688/688 [==============================] - 449s 653ms/step - loss: 0.0989 - acc: 0.7258 - recall: 0.9344 - precision: 0.9083 - f1_score: 0.7744 - val_loss: 0.1047 - val_acc: 0.7286 - val_recall: 0.9150 - val_precision: 0.9119 - val_f1_score: 0.7805\n",
      "\n",
      "Epoch 00029: LearningRateScheduler reducing learning rate to 0.0005.\n",
      "Epoch 29/100\n",
      "688/688 [==============================] - 451s 656ms/step - loss: 0.0976 - acc: 0.7300 - recall: 0.9355 - precision: 0.9088 - f1_score: 0.7751 - val_loss: 0.1009 - val_acc: 0.7401 - val_recall: 0.9002 - val_precision: 0.9200 - val_f1_score: 0.7834\n",
      "\n",
      "Epoch 00030: LearningRateScheduler reducing learning rate to 0.0005.\n",
      "Epoch 30/100\n",
      "688/688 [==============================] - 452s 657ms/step - loss: 0.0945 - acc: 0.7276 - recall: 0.9368 - precision: 0.9102 - f1_score: 0.7765 - val_loss: 0.0970 - val_acc: 0.7599 - val_recall: 0.9150 - val_precision: 0.9287 - val_f1_score: 0.7847\n",
      "\n",
      "Epoch 00031: LearningRateScheduler reducing learning rate to 0.0005.\n",
      "Epoch 31/100\n",
      "688/688 [==============================] - 450s 654ms/step - loss: 0.0941 - acc: 0.7294 - recall: 0.9372 - precision: 0.9125 - f1_score: 0.7765 - val_loss: 0.0999 - val_acc: 0.7105 - val_recall: 0.9172 - val_precision: 0.9162 - val_f1_score: 0.7802\n",
      "\n",
      "Epoch 00032: LearningRateScheduler reducing learning rate to 0.0005.\n",
      "Epoch 32/100\n",
      "688/688 [==============================] - 451s 656ms/step - loss: 0.0927 - acc: 0.7316 - recall: 0.9394 - precision: 0.9137 - f1_score: 0.7776 - val_loss: 0.0942 - val_acc: 0.7566 - val_recall: 0.9161 - val_precision: 0.9266 - val_f1_score: 0.7866\n",
      "\n",
      "Epoch 00033: LearningRateScheduler reducing learning rate to 0.0005.\n",
      "Epoch 33/100\n",
      "688/688 [==============================] - 450s 654ms/step - loss: 0.0886 - acc: 0.7312 - recall: 0.9427 - precision: 0.9187 - f1_score: 0.7812 - val_loss: 0.1029 - val_acc: 0.6957 - val_recall: 0.9025 - val_precision: 0.9234 - val_f1_score: 0.7735\n",
      "\n",
      "Epoch 00034: LearningRateScheduler reducing learning rate to 0.0005.\n",
      "Epoch 34/100\n",
      "688/688 [==============================] - 449s 653ms/step - loss: 0.0904 - acc: 0.7385 - recall: 0.9401 - precision: 0.9142 - f1_score: 0.7799 - val_loss: 0.1033 - val_acc: 0.7368 - val_recall: 0.9036 - val_precision: 0.9214 - val_f1_score: 0.7855\n",
      "\n",
      "Epoch 00035: LearningRateScheduler reducing learning rate to 0.0005.\n",
      "Epoch 35/100\n",
      "688/688 [==============================] - 452s 657ms/step - loss: 0.0870 - acc: 0.7364 - recall: 0.9427 - precision: 0.9194 - f1_score: 0.7821 - val_loss: 0.0920 - val_acc: 0.7747 - val_recall: 0.9172 - val_precision: 0.9267 - val_f1_score: 0.7946\n",
      "\n",
      "Epoch 00036: LearningRateScheduler reducing learning rate to 0.0005.\n",
      "Epoch 36/100\n",
      "688/688 [==============================] - 451s 655ms/step - loss: 0.0876 - acc: 0.7388 - recall: 0.9420 - precision: 0.9171 - f1_score: 0.7832 - val_loss: 0.0865 - val_acc: 0.7072 - val_recall: 0.9320 - val_precision: 0.9299 - val_f1_score: 0.7931\n",
      "\n",
      "Epoch 00037: LearningRateScheduler reducing learning rate to 0.0005.\n",
      "Epoch 37/100\n",
      "688/688 [==============================] - 450s 654ms/step - loss: 0.0857 - acc: 0.7437 - recall: 0.9423 - precision: 0.9202 - f1_score: 0.7822 - val_loss: 0.0958 - val_acc: 0.7434 - val_recall: 0.9138 - val_precision: 0.9222 - val_f1_score: 0.7866\n",
      "\n",
      "Epoch 00038: LearningRateScheduler reducing learning rate to 0.0005.\n",
      "Epoch 38/100\n",
      "688/688 [==============================] - 450s 654ms/step - loss: 0.0831 - acc: 0.7429 - recall: 0.9452 - precision: 0.9239 - f1_score: 0.7855 - val_loss: 0.0926 - val_acc: 0.7500 - val_recall: 0.9082 - val_precision: 0.9412 - val_f1_score: 0.7949\n",
      "\n",
      "Epoch 00039: LearningRateScheduler reducing learning rate to 0.0005.\n",
      "Epoch 39/100\n",
      "688/688 [==============================] - 449s 652ms/step - loss: 0.0825 - acc: 0.7460 - recall: 0.9462 - precision: 0.9222 - f1_score: 0.7843 - val_loss: 0.0884 - val_acc: 0.7253 - val_recall: 0.9229 - val_precision: 0.9367 - val_f1_score: 0.7885\n",
      "\n",
      "Epoch 00040: LearningRateScheduler reducing learning rate to 0.0005.\n",
      "Epoch 40/100\n",
      "688/688 [==============================] - 452s 657ms/step - loss: 0.0803 - acc: 0.7457 - recall: 0.9466 - precision: 0.9262 - f1_score: 0.7872 - val_loss: 0.0792 - val_acc: 0.8026 - val_recall: 0.9467 - val_precision: 0.9351 - val_f1_score: 0.7973\n",
      "\n",
      "Epoch 00041: LearningRateScheduler reducing learning rate to 0.0005.\n",
      "Epoch 41/100\n",
      "688/688 [==============================] - 450s 655ms/step - loss: 0.0799 - acc: 0.7520 - recall: 0.9468 - precision: 0.9261 - f1_score: 0.7882 - val_loss: 0.1018 - val_acc: 0.7336 - val_recall: 0.9127 - val_precision: 0.9148 - val_f1_score: 0.7901\n",
      "\n",
      "Epoch 00042: LearningRateScheduler reducing learning rate to 0.0005.\n",
      "Epoch 42/100\n",
      "688/688 [==============================] - 450s 654ms/step - loss: 0.0795 - acc: 0.7504 - recall: 0.9464 - precision: 0.9259 - f1_score: 0.7891 - val_loss: 0.0895 - val_acc: 0.7418 - val_recall: 0.9082 - val_precision: 0.9401 - val_f1_score: 0.7973\n",
      "\n",
      "Epoch 00043: LearningRateScheduler reducing learning rate to 0.0005.\n",
      "Epoch 43/100\n",
      "688/688 [==============================] - 450s 654ms/step - loss: 0.0752 - acc: 0.7561 - recall: 0.9509 - precision: 0.9310 - f1_score: 0.7920 - val_loss: 0.1003 - val_acc: 0.7122 - val_recall: 0.9138 - val_precision: 0.9180 - val_f1_score: 0.7859\n",
      "\n",
      "Epoch 00044: LearningRateScheduler reducing learning rate to 0.0005.\n",
      "Epoch 44/100\n",
      "688/688 [==============================] - 450s 654ms/step - loss: 0.0766 - acc: 0.7559 - recall: 0.9487 - precision: 0.9300 - f1_score: 0.7918 - val_loss: 0.0959 - val_acc: 0.7549 - val_recall: 0.9150 - val_precision: 0.9223 - val_f1_score: 0.7901\n",
      "\n",
      "Epoch 00045: LearningRateScheduler reducing learning rate to 0.0005.\n",
      "Epoch 45/100\n",
      "688/688 [==============================] - 450s 654ms/step - loss: 0.0739 - acc: 0.7558 - recall: 0.9506 - precision: 0.9332 - f1_score: 0.7934 - val_loss: 0.0799 - val_acc: 0.8092 - val_recall: 0.9422 - val_precision: 0.9411 - val_f1_score: 0.7989\n",
      "\n",
      "Epoch 00046: LearningRateScheduler reducing learning rate to 0.0005.\n",
      "Epoch 46/100\n",
      "688/688 [==============================] - 449s 653ms/step - loss: 0.0737 - acc: 0.7607 - recall: 0.9514 - precision: 0.9318 - f1_score: 0.7947 - val_loss: 0.0846 - val_acc: 0.7434 - val_recall: 0.9286 - val_precision: 0.9317 - val_f1_score: 0.7995\n",
      "\n",
      "Epoch 00047: LearningRateScheduler reducing learning rate to 0.0005.\n",
      "Epoch 47/100\n",
      "688/688 [==============================] - 455s 661ms/step - loss: 0.0725 - acc: 0.7586 - recall: 0.9515 - precision: 0.9335 - f1_score: 0.7964 - val_loss: 0.0840 - val_acc: 0.7714 - val_recall: 0.9263 - val_precision: 0.9412 - val_f1_score: 0.7957\n",
      "\n",
      "Epoch 00048: LearningRateScheduler reducing learning rate to 0.0005.\n",
      "Epoch 48/100\n",
      "688/688 [==============================] - 456s 663ms/step - loss: 0.0703 - acc: 0.7606 - recall: 0.9537 - precision: 0.9357 - f1_score: 0.7965 - val_loss: 0.0831 - val_acc: 0.7336 - val_recall: 0.9320 - val_precision: 0.9373 - val_f1_score: 0.7992\n",
      "\n",
      "Epoch 00049: LearningRateScheduler reducing learning rate to 0.0005.\n",
      "Epoch 49/100\n",
      "688/688 [==============================] - 450s 654ms/step - loss: 0.0701 - acc: 0.7657 - recall: 0.9535 - precision: 0.9346 - f1_score: 0.7976 - val_loss: 0.0796 - val_acc: 0.7878 - val_recall: 0.9388 - val_precision: 0.9345 - val_f1_score: 0.8019\n",
      "\n",
      "Epoch 00050: LearningRateScheduler reducing learning rate to 0.0005.\n",
      "Epoch 50/100\n",
      "688/688 [==============================] - 450s 655ms/step - loss: 0.0688 - acc: 0.7700 - recall: 0.9553 - precision: 0.9375 - f1_score: 0.8016 - val_loss: 0.0839 - val_acc: 0.8306 - val_recall: 0.9320 - val_precision: 0.9394 - val_f1_score: 0.8056\n",
      "\n",
      "Epoch 00051: LearningRateScheduler reducing learning rate to 0.0001.\n",
      "Epoch 51/100\n",
      "688/688 [==============================] - 451s 656ms/step - loss: 0.0639 - acc: 0.7777 - recall: 0.9583 - precision: 0.9411 - f1_score: 0.8033 - val_loss: 0.0721 - val_acc: 0.7763 - val_recall: 0.9456 - val_precision: 0.9531 - val_f1_score: 0.8058\n",
      "\n",
      "Epoch 00052: LearningRateScheduler reducing learning rate to 0.0001.\n",
      "Epoch 52/100\n",
      "688/688 [==============================] - 449s 653ms/step - loss: 0.0605 - acc: 0.7788 - recall: 0.9616 - precision: 0.9449 - f1_score: 0.8063 - val_loss: 0.0748 - val_acc: 0.7845 - val_recall: 0.9444 - val_precision: 0.9542 - val_f1_score: 0.8032\n",
      "\n",
      "Epoch 00053: LearningRateScheduler reducing learning rate to 0.0001.\n",
      "Epoch 53/100\n",
      "688/688 [==============================] - 450s 654ms/step - loss: 0.0583 - acc: 0.7837 - recall: 0.9624 - precision: 0.9471 - f1_score: 0.8068 - val_loss: 0.0736 - val_acc: 0.7796 - val_recall: 0.9456 - val_precision: 0.9521 - val_f1_score: 0.8056\n",
      "\n",
      "Epoch 00054: LearningRateScheduler reducing learning rate to 0.0001.\n",
      "Epoch 54/100\n",
      "688/688 [==============================] - 450s 654ms/step - loss: 0.0587 - acc: 0.7829 - recall: 0.9630 - precision: 0.9462 - f1_score: 0.8098 - val_loss: 0.0767 - val_acc: 0.7730 - val_recall: 0.9331 - val_precision: 0.9493 - val_f1_score: 0.8013\n",
      "\n",
      "Epoch 00055: LearningRateScheduler reducing learning rate to 0.0001.\n",
      "Epoch 55/100\n",
      "688/688 [==============================] - 452s 657ms/step - loss: 0.0577 - acc: 0.7832 - recall: 0.9626 - precision: 0.9476 - f1_score: 0.8089 - val_loss: 0.0714 - val_acc: 0.7763 - val_recall: 0.9467 - val_precision: 0.9499 - val_f1_score: 0.8019\n",
      "\n",
      "Epoch 00056: LearningRateScheduler reducing learning rate to 0.0001.\n",
      "Epoch 56/100\n",
      "688/688 [==============================] - 450s 655ms/step - loss: 0.0592 - acc: 0.7837 - recall: 0.9609 - precision: 0.9454 - f1_score: 0.8066 - val_loss: 0.0730 - val_acc: 0.7812 - val_recall: 0.9456 - val_precision: 0.9488 - val_f1_score: 0.8069\n",
      "\n",
      "Epoch 00057: LearningRateScheduler reducing learning rate to 0.0001.\n",
      "Epoch 57/100\n",
      "688/688 [==============================] - 449s 653ms/step - loss: 0.0567 - acc: 0.7858 - recall: 0.9630 - precision: 0.9478 - f1_score: 0.8101 - val_loss: 0.0737 - val_acc: 0.7862 - val_recall: 0.9399 - val_precision: 0.9453 - val_f1_score: 0.8072\n",
      "\n",
      "Epoch 00058: LearningRateScheduler reducing learning rate to 0.0001.\n",
      "Epoch 58/100\n",
      "688/688 [==============================] - 451s 656ms/step - loss: 0.0539 - acc: 0.7942 - recall: 0.9646 - precision: 0.9518 - f1_score: 0.8137 - val_loss: 0.0707 - val_acc: 0.7993 - val_recall: 0.9512 - val_precision: 0.9502 - val_f1_score: 0.8116\n",
      "\n",
      "Epoch 00059: LearningRateScheduler reducing learning rate to 0.0001.\n",
      "Epoch 59/100\n",
      "688/688 [==============================] - 450s 654ms/step - loss: 0.0567 - acc: 0.7957 - recall: 0.9632 - precision: 0.9480 - f1_score: 0.8115 - val_loss: 0.0756 - val_acc: 0.7681 - val_recall: 0.9365 - val_precision: 0.9462 - val_f1_score: 0.7995\n",
      "\n",
      "Epoch 00060: LearningRateScheduler reducing learning rate to 0.0001.\n",
      "Epoch 60/100\n",
      "688/688 [==============================] - 450s 654ms/step - loss: 0.0535 - acc: 0.7909 - recall: 0.9641 - precision: 0.9523 - f1_score: 0.8135 - val_loss: 0.0765 - val_acc: 0.7862 - val_recall: 0.9410 - val_precision: 0.9453 - val_f1_score: 0.8034\n",
      "\n",
      "Epoch 00061: LearningRateScheduler reducing learning rate to 0.0001.\n",
      "Epoch 61/100\n",
      "688/688 [==============================] - 450s 653ms/step - loss: 0.0553 - acc: 0.7907 - recall: 0.9642 - precision: 0.9501 - f1_score: 0.8139 - val_loss: 0.0716 - val_acc: 0.7862 - val_recall: 0.9478 - val_precision: 0.9457 - val_f1_score: 0.8100\n",
      "\n",
      "Epoch 00062: LearningRateScheduler reducing learning rate to 0.0001.\n",
      "Epoch 62/100\n",
      "688/688 [==============================] - 450s 653ms/step - loss: 0.0542 - acc: 0.7937 - recall: 0.9641 - precision: 0.9510 - f1_score: 0.8148 - val_loss: 0.0755 - val_acc: 0.7895 - val_recall: 0.9376 - val_precision: 0.9506 - val_f1_score: 0.8077\n",
      "\n",
      "Epoch 00063: LearningRateScheduler reducing learning rate to 0.0001.\n",
      "Epoch 63/100\n",
      "688/688 [==============================] - 449s 653ms/step - loss: 0.0524 - acc: 0.7980 - recall: 0.9649 - precision: 0.9525 - f1_score: 0.8154 - val_loss: 0.0709 - val_acc: 0.7845 - val_recall: 0.9490 - val_precision: 0.9533 - val_f1_score: 0.8077\n",
      "\n",
      "Epoch 00064: LearningRateScheduler reducing learning rate to 0.0001.\n",
      "Epoch 64/100\n",
      "688/688 [==============================] - 449s 653ms/step - loss: 0.0539 - acc: 0.7968 - recall: 0.9645 - precision: 0.9511 - f1_score: 0.8151 - val_loss: 0.0750 - val_acc: 0.7714 - val_recall: 0.9399 - val_precision: 0.9474 - val_f1_score: 0.8032\n",
      "\n",
      "Epoch 00065: LearningRateScheduler reducing learning rate to 0.0001.\n",
      "Epoch 65/100\n",
      "688/688 [==============================] - 450s 654ms/step - loss: 0.0513 - acc: 0.7990 - recall: 0.9662 - precision: 0.9542 - f1_score: 0.8168 - val_loss: 0.0775 - val_acc: 0.7878 - val_recall: 0.9376 - val_precision: 0.9484 - val_f1_score: 0.8019\n",
      "\n",
      "Epoch 00066: LearningRateScheduler reducing learning rate to 0.0001.\n",
      "Epoch 66/100\n",
      "688/688 [==============================] - 450s 653ms/step - loss: 0.0518 - acc: 0.8063 - recall: 0.9664 - precision: 0.9537 - f1_score: 0.8187 - val_loss: 0.0723 - val_acc: 0.7895 - val_recall: 0.9467 - val_precision: 0.9456 - val_f1_score: 0.8113\n",
      "\n",
      "Epoch 00067: LearningRateScheduler reducing learning rate to 0.0001.\n",
      "Epoch 67/100\n",
      "688/688 [==============================] - 449s 653ms/step - loss: 0.0508 - acc: 0.8017 - recall: 0.9671 - precision: 0.9546 - f1_score: 0.8207 - val_loss: 0.0729 - val_acc: 0.7928 - val_recall: 0.9388 - val_precision: 0.9572 - val_f1_score: 0.8132\n",
      "\n",
      "Epoch 00068: LearningRateScheduler reducing learning rate to 0.0001.\n",
      "Epoch 68/100\n",
      "688/688 [==============================] - 451s 656ms/step - loss: 0.0507 - acc: 0.7988 - recall: 0.9670 - precision: 0.9547 - f1_score: 0.8195 - val_loss: 0.0705 - val_acc: 0.7928 - val_recall: 0.9501 - val_precision: 0.9501 - val_f1_score: 0.8155\n",
      "\n",
      "Epoch 00069: LearningRateScheduler reducing learning rate to 0.0001.\n",
      "Epoch 69/100\n",
      "688/688 [==============================] - 449s 652ms/step - loss: 0.0519 - acc: 0.8000 - recall: 0.9648 - precision: 0.9529 - f1_score: 0.8188 - val_loss: 0.0782 - val_acc: 0.7812 - val_recall: 0.9354 - val_precision: 0.9439 - val_f1_score: 0.8032\n",
      "\n",
      "Epoch 00070: LearningRateScheduler reducing learning rate to 0.0001.\n",
      "Epoch 70/100\n",
      "688/688 [==============================] - 449s 653ms/step - loss: 0.0501 - acc: 0.7980 - recall: 0.9669 - precision: 0.9565 - f1_score: 0.8215 - val_loss: 0.0781 - val_acc: 0.7895 - val_recall: 0.9388 - val_precision: 0.9495 - val_f1_score: 0.8085\n",
      "\n",
      "Epoch 00071: LearningRateScheduler reducing learning rate to 0.0001.\n",
      "Epoch 71/100\n",
      "688/688 [==============================] - 449s 653ms/step - loss: 0.0509 - acc: 0.7966 - recall: 0.9653 - precision: 0.9537 - f1_score: 0.8185 - val_loss: 0.0783 - val_acc: 0.7763 - val_recall: 0.9388 - val_precision: 0.9452 - val_f1_score: 0.8050\n",
      "\n",
      "Epoch 00072: LearningRateScheduler reducing learning rate to 0.0001.\n",
      "Epoch 72/100\n",
      "688/688 [==============================] - 449s 653ms/step - loss: 0.0481 - acc: 0.7998 - recall: 0.9676 - precision: 0.9559 - f1_score: 0.8214 - val_loss: 0.0732 - val_acc: 0.7961 - val_recall: 0.9467 - val_precision: 0.9543 - val_f1_score: 0.8127\n",
      "\n",
      "Epoch 00073: LearningRateScheduler reducing learning rate to 0.0001.\n",
      "Epoch 73/100\n",
      "688/688 [==============================] - 451s 655ms/step - loss: 0.0492 - acc: 0.8038 - recall: 0.9685 - precision: 0.9568 - f1_score: 0.8226 - val_loss: 0.0701 - val_acc: 0.7993 - val_recall: 0.9535 - val_precision: 0.9503 - val_f1_score: 0.8137\n",
      "\n",
      "Epoch 00074: LearningRateScheduler reducing learning rate to 0.0001.\n",
      "Epoch 74/100\n",
      "688/688 [==============================] - 449s 653ms/step - loss: 0.0476 - acc: 0.8040 - recall: 0.9686 - precision: 0.9572 - f1_score: 0.8246 - val_loss: 0.0771 - val_acc: 0.7796 - val_recall: 0.9354 - val_precision: 0.9505 - val_f1_score: 0.8095\n",
      "\n",
      "Epoch 00075: LearningRateScheduler reducing learning rate to 0.0001.\n",
      "Epoch 75/100\n",
      "688/688 [==============================] - 450s 654ms/step - loss: 0.0484 - acc: 0.8081 - recall: 0.9679 - precision: 0.9587 - f1_score: 0.8247 - val_loss: 0.0733 - val_acc: 0.7944 - val_recall: 0.9388 - val_precision: 0.9539 - val_f1_score: 0.8061\n",
      "\n",
      "Epoch 00076: LearningRateScheduler reducing learning rate to 0.0001.\n",
      "Epoch 76/100\n",
      "688/688 [==============================] - 449s 653ms/step - loss: 0.0469 - acc: 0.8106 - recall: 0.9696 - precision: 0.9585 - f1_score: 0.8267 - val_loss: 0.0731 - val_acc: 0.7911 - val_recall: 0.9433 - val_precision: 0.9509 - val_f1_score: 0.8111\n",
      "\n",
      "Epoch 00077: LearningRateScheduler reducing learning rate to 0.0001.\n",
      "Epoch 77/100\n",
      "688/688 [==============================] - 449s 653ms/step - loss: 0.0488 - acc: 0.8068 - recall: 0.9677 - precision: 0.9562 - f1_score: 0.8235 - val_loss: 0.0721 - val_acc: 0.7928 - val_recall: 0.9444 - val_precision: 0.9575 - val_f1_score: 0.8111\n",
      "\n",
      "Epoch 00078: LearningRateScheduler reducing learning rate to 0.0001.\n",
      "Epoch 78/100\n",
      "688/688 [==============================] - 449s 652ms/step - loss: 0.0468 - acc: 0.8079 - recall: 0.9688 - precision: 0.9585 - f1_score: 0.8238 - val_loss: 0.0705 - val_acc: 0.8010 - val_recall: 0.9546 - val_precision: 0.9482 - val_f1_score: 0.8200\n",
      "\n",
      "Epoch 00079: LearningRateScheduler reducing learning rate to 0.0001.\n",
      "Epoch 79/100\n",
      "688/688 [==============================] - 449s 653ms/step - loss: 0.0478 - acc: 0.8124 - recall: 0.9699 - precision: 0.9578 - f1_score: 0.8269 - val_loss: 0.0719 - val_acc: 0.7812 - val_recall: 0.9399 - val_precision: 0.9529 - val_f1_score: 0.8082\n",
      "\n",
      "Epoch 00080: LearningRateScheduler reducing learning rate to 0.0001.\n",
      "Epoch 80/100\n",
      "688/688 [==============================] - 451s 656ms/step - loss: 0.0470 - acc: 0.8124 - recall: 0.9695 - precision: 0.9600 - f1_score: 0.8288 - val_loss: 0.0693 - val_acc: 0.8125 - val_recall: 0.9467 - val_precision: 0.9543 - val_f1_score: 0.8171\n",
      "\n",
      "Epoch 00081: LearningRateScheduler reducing learning rate to 0.0001.\n",
      "Epoch 81/100\n",
      "688/688 [==============================] - 449s 653ms/step - loss: 0.0471 - acc: 0.8133 - recall: 0.9682 - precision: 0.9579 - f1_score: 0.8275 - val_loss: 0.0721 - val_acc: 0.7928 - val_recall: 0.9490 - val_precision: 0.9501 - val_f1_score: 0.8108\n",
      "\n",
      "Epoch 00082: LearningRateScheduler reducing learning rate to 0.0001.\n",
      "Epoch 82/100\n",
      "688/688 [==============================] - 451s 656ms/step - loss: 0.0456 - acc: 0.8184 - recall: 0.9690 - precision: 0.9594 - f1_score: 0.8281 - val_loss: 0.0692 - val_acc: 0.8026 - val_recall: 0.9456 - val_precision: 0.9553 - val_f1_score: 0.8124\n",
      "\n",
      "Epoch 00083: LearningRateScheduler reducing learning rate to 0.0001.\n",
      "Epoch 83/100\n",
      "688/688 [==============================] - 449s 653ms/step - loss: 0.0439 - acc: 0.8187 - recall: 0.9708 - precision: 0.9607 - f1_score: 0.8296 - val_loss: 0.0700 - val_acc: 0.8076 - val_recall: 0.9467 - val_precision: 0.9554 - val_f1_score: 0.8179\n",
      "\n",
      "Epoch 00084: LearningRateScheduler reducing learning rate to 0.0001.\n",
      "Epoch 84/100\n",
      "688/688 [==============================] - 449s 652ms/step - loss: 0.0450 - acc: 0.8178 - recall: 0.9700 - precision: 0.9596 - f1_score: 0.8308 - val_loss: 0.0726 - val_acc: 0.7895 - val_recall: 0.9410 - val_precision: 0.9540 - val_f1_score: 0.8119\n",
      "\n",
      "Epoch 00085: LearningRateScheduler reducing learning rate to 0.0001.\n",
      "Epoch 85/100\n",
      "688/688 [==============================] - 450s 654ms/step - loss: 0.0447 - acc: 0.8184 - recall: 0.9695 - precision: 0.9610 - f1_score: 0.8315 - val_loss: 0.0697 - val_acc: 0.8059 - val_recall: 0.9501 - val_precision: 0.9566 - val_f1_score: 0.8106\n",
      "\n",
      "Epoch 00086: LearningRateScheduler reducing learning rate to 0.0001.\n",
      "Epoch 86/100\n",
      "688/688 [==============================] - 451s 655ms/step - loss: 0.0445 - acc: 0.8113 - recall: 0.9693 - precision: 0.9612 - f1_score: 0.8313 - val_loss: 0.0686 - val_acc: 0.8076 - val_recall: 0.9490 - val_precision: 0.9577 - val_f1_score: 0.8248\n",
      "\n",
      "Epoch 00087: LearningRateScheduler reducing learning rate to 0.0001.\n",
      "Epoch 87/100\n",
      "688/688 [==============================] - 449s 652ms/step - loss: 0.0441 - acc: 0.8074 - recall: 0.9694 - precision: 0.9603 - f1_score: 0.8312 - val_loss: 0.0708 - val_acc: 0.7829 - val_recall: 0.9422 - val_precision: 0.9563 - val_f1_score: 0.8122\n",
      "\n",
      "Epoch 00088: LearningRateScheduler reducing learning rate to 0.0001.\n",
      "Epoch 88/100\n",
      "688/688 [==============================] - 451s 655ms/step - loss: 0.0430 - acc: 0.8144 - recall: 0.9710 - precision: 0.9633 - f1_score: 0.8335 - val_loss: 0.0682 - val_acc: 0.8010 - val_recall: 0.9490 - val_precision: 0.9555 - val_f1_score: 0.8178\n",
      "\n",
      "Epoch 00089: LearningRateScheduler reducing learning rate to 0.0001.\n",
      "Epoch 89/100\n",
      "688/688 [==============================] - 449s 653ms/step - loss: 0.0436 - acc: 0.8129 - recall: 0.9717 - precision: 0.9627 - f1_score: 0.8318 - val_loss: 0.0739 - val_acc: 0.7961 - val_recall: 0.9354 - val_precision: 0.9604 - val_f1_score: 0.8184\n",
      "\n",
      "Epoch 00090: LearningRateScheduler reducing learning rate to 0.0001.\n",
      "Epoch 90/100\n",
      "688/688 [==============================] - 452s 657ms/step - loss: 0.0425 - acc: 0.8158 - recall: 0.9711 - precision: 0.9633 - f1_score: 0.8339 - val_loss: 0.0675 - val_acc: 0.8059 - val_recall: 0.9535 - val_precision: 0.9535 - val_f1_score: 0.8178\n",
      "\n",
      "Epoch 00091: LearningRateScheduler reducing learning rate to 0.0001.\n",
      "Epoch 91/100\n",
      "688/688 [==============================] - 449s 653ms/step - loss: 0.0427 - acc: 0.8140 - recall: 0.9711 - precision: 0.9623 - f1_score: 0.8339 - val_loss: 0.0751 - val_acc: 0.7993 - val_recall: 0.9433 - val_precision: 0.9487 - val_f1_score: 0.8163\n",
      "\n",
      "Epoch 00092: LearningRateScheduler reducing learning rate to 0.0001.\n",
      "Epoch 92/100\n",
      "688/688 [==============================] - 449s 653ms/step - loss: 0.0427 - acc: 0.8113 - recall: 0.9696 - precision: 0.9619 - f1_score: 0.8360 - val_loss: 0.0688 - val_acc: 0.8059 - val_recall: 0.9501 - val_precision: 0.9534 - val_f1_score: 0.8170\n",
      "\n",
      "Epoch 00093: LearningRateScheduler reducing learning rate to 0.0001.\n",
      "Epoch 93/100\n",
      "688/688 [==============================] - 451s 656ms/step - loss: 0.0404 - acc: 0.8209 - recall: 0.9727 - precision: 0.9647 - f1_score: 0.8355 - val_loss: 0.0670 - val_acc: 0.8141 - val_recall: 0.9524 - val_precision: 0.9524 - val_f1_score: 0.8261\n",
      "\n",
      "Epoch 00094: LearningRateScheduler reducing learning rate to 0.0001.\n",
      "Epoch 94/100\n",
      "688/688 [==============================] - 449s 653ms/step - loss: 0.0411 - acc: 0.8205 - recall: 0.9719 - precision: 0.9636 - f1_score: 0.8366 - val_loss: 0.0739 - val_acc: 0.8109 - val_recall: 0.9376 - val_precision: 0.9528 - val_f1_score: 0.8145\n",
      "\n",
      "Epoch 00095: LearningRateScheduler reducing learning rate to 0.0001.\n",
      "Epoch 95/100\n",
      "688/688 [==============================] - 450s 654ms/step - loss: 0.0392 - acc: 0.8280 - recall: 0.9732 - precision: 0.9662 - f1_score: 0.8378 - val_loss: 0.0747 - val_acc: 0.8141 - val_recall: 0.9410 - val_precision: 0.9486 - val_f1_score: 0.8155\n",
      "\n",
      "Epoch 00096: LearningRateScheduler reducing learning rate to 0.0001.\n",
      "Epoch 96/100\n",
      "688/688 [==============================] - 450s 654ms/step - loss: 0.0415 - acc: 0.8242 - recall: 0.9723 - precision: 0.9646 - f1_score: 0.8356 - val_loss: 0.0731 - val_acc: 0.7993 - val_recall: 0.9456 - val_precision: 0.9488 - val_f1_score: 0.8139\n",
      "\n",
      "Epoch 00097: LearningRateScheduler reducing learning rate to 0.0001.\n",
      "Epoch 97/100\n",
      "688/688 [==============================] - 450s 654ms/step - loss: 0.0394 - acc: 0.8246 - recall: 0.9726 - precision: 0.9658 - f1_score: 0.8391 - val_loss: 0.0721 - val_acc: 0.8043 - val_recall: 0.9444 - val_precision: 0.9553 - val_f1_score: 0.8219\n",
      "\n",
      "Epoch 00098: LearningRateScheduler reducing learning rate to 0.0001.\n",
      "Epoch 98/100\n",
      "688/688 [==============================] - 449s 653ms/step - loss: 0.0402 - acc: 0.8267 - recall: 0.9729 - precision: 0.9661 - f1_score: 0.8401 - val_loss: 0.0713 - val_acc: 0.8141 - val_recall: 0.9512 - val_precision: 0.9480 - val_f1_score: 0.8225\n",
      "\n",
      "Epoch 00099: LearningRateScheduler reducing learning rate to 0.0001.\n",
      "Epoch 99/100\n",
      "688/688 [==============================] - 449s 653ms/step - loss: 0.0400 - acc: 0.8281 - recall: 0.9719 - precision: 0.9636 - f1_score: 0.8394 - val_loss: 0.0740 - val_acc: 0.8191 - val_recall: 0.9410 - val_precision: 0.9507 - val_f1_score: 0.8186\n",
      "\n",
      "Epoch 00100: LearningRateScheduler reducing learning rate to 0.0001.\n",
      "Epoch 100/100\n",
      "688/688 [==============================] - 450s 654ms/step - loss: 0.0395 - acc: 0.8255 - recall: 0.9724 - precision: 0.9664 - f1_score: 0.8412 - val_loss: 0.0777 - val_acc: 0.7944 - val_recall: 0.9410 - val_precision: 0.9486 - val_f1_score: 0.8165\n"
     ]
    }
   ],
   "source": [
    "history = model.fit(\n",
    "    ds_train,\n",
    "    validation_data=ds_valid,\n",
    "    epochs=100,\n",
    "    steps_per_epoch=(train.shape[0]*0.8)//BATCH_SIZE, \n",
    "    validation_steps= (valid.shape[0]*0.2)//BATCH_SIZE,\n",
    "    verbose=1,\n",
    "    use_multiprocessing=True,\n",
    "    callbacks = callbacks\n",
    ")"
   ]
  },
  {
   "cell_type": "code",
   "execution_count": 53,
   "metadata": {},
   "outputs": [],
   "source": [
    "model.save(\"/app/_data/models/eff4_ns_21_and_ups_2.h5\")"
   ]
  },
  {
   "cell_type": "code",
   "execution_count": 28,
   "metadata": {},
   "outputs": [],
   "source": [
    "def plot_curves(model, loss=False):\n",
    "    df = pd.DataFrame(model.history)\n",
    "    if loss:\n",
    "        plt.figure(figsize=(12, 6))\n",
    "        plt.title(\"loss\")\n",
    "        plt.plot(df.iloc[:, 0], label=\"loss\")\n",
    "        plt.plot(df.iloc[:, 5], label=\"val_loss\")\n",
    "        plt.legend()\n",
    "        plt.show()\n",
    "    else:\n",
    "        plt.figure(figsize=(12, 20))\n",
    "        plt.subplot(4, 1, 1)\n",
    "        plt.title(\"accuracy\")\n",
    "        plt.plot(df.iloc[:, 1], label=\"accuracy\")\n",
    "        plt.plot(df.iloc[:, 6], label=\"val_accuracy\")\n",
    "        plt.legend()\n",
    "\n",
    "        plt.subplot(4, 1, 2)\n",
    "        plt.title(\"recall\")\n",
    "        plt.plot(df.iloc[:, 2], label=\"recall\")\n",
    "        plt.plot(df.iloc[:, 7], label=\"val_recall\")\n",
    "        plt.legend()\n",
    "\n",
    "        plt.subplot(4, 1, 3)\n",
    "        plt.title(\"precision\")\n",
    "        plt.plot(df.iloc[:, 3], label=\"precision\")\n",
    "        plt.plot(df.iloc[:, 8], label=\"val_precision\")\n",
    "        plt.legend()\n",
    "\n",
    "        plt.subplot(4, 1, 4)\n",
    "        plt.title(\"f1\")\n",
    "        plt.plot(df.iloc[:, 4], label=\"f1\")\n",
    "        plt.plot(df.iloc[:, 9], label=\"val_f1\")\n",
    "        plt.legend()\n",
    "        plt.show();"
   ]
  },
  {
   "cell_type": "code",
   "execution_count": 30,
   "metadata": {},
   "outputs": [
    {
     "data": {
      "image/png": "[encoded data removed]",
      "text/plain": [
       "<Figure size 864x432 with 1 Axes>"
      ]
     },
     "metadata": {
      "image/png": {
       "height": 372,
       "width": 713
      },
      "needs_background": "light"
     },
     "output_type": "display_data"
    }
   ],
   "source": [
    "# plot_curves(history,loss=True)"
   ]
  },
  {
   "cell_type": "code",
   "execution_count": 36,
   "metadata": {},
   "outputs": [],
   "source": [
    "# model = keras.models.load_model(\"/app/_data/models/eff4_ns_3.h5\")"
   ]
  },
  {
   "cell_type": "code",
   "execution_count": 54,
   "metadata": {},
   "outputs": [],
   "source": [
    "def parse_all(file_path):\n",
    "    img = tf.io.read_file(PATH+'380/'+file_path)\n",
    "    img = tf.image.decode_jpeg(img, channels=3)\n",
    "    return img\n",
    "def predict_new(path, model):\n",
    "    img = parse_all(path)\n",
    "    img = tf.expand_dims(img,axis = 0)\n",
    "    pred = model.predict(img)\n",
    "    return pred_to_labels(pred[0])"
   ]
  },
  {
   "cell_type": "code",
   "execution_count": 55,
   "metadata": {},
   "outputs": [
    {
     "name": "stdout",
     "output_type": "stream",
     "text": [
      "                  image                           labels\n",
      "0  bfc6d90f402f4c34.jpg  complex frog_eye_leaf_spot scab\n",
      "1  9eb93fe282326266.jpg                   powdery_mildew\n",
      "2  f4cb3a8f41b413e4.jpg               frog_eye_leaf_spot\n",
      "3  98322eab16bef2c1.jpg                             scab\n",
      "4  dad5d6250cae80b7.jpg                          complex\n"
     ]
    }
   ],
   "source": [
    "df_sub = pd.DataFrame(columns=['image','labels'])\n",
    "for img_name in os.listdir(PATH+'380/'):\n",
    "    pred = predict_new(img_name, model)\n",
    "    \n",
    "    df_sub = df_sub.append( {'image': img_name, 'labels': pred}, ignore_index = True )\n",
    "    \n",
    "print(df_sub.head())"
   ]
  },
  {
   "cell_type": "code",
   "execution_count": 56,
   "metadata": {},
   "outputs": [],
   "source": [
    "df_sub = df_sub.merge(labels_21_20[['image', 'labels']], on='image', how='left', suffixes=('_pred', '_true'))"
   ]
  },
  {
   "cell_type": "code",
   "execution_count": 57,
   "metadata": {},
   "outputs": [],
   "source": [
    "df_sub.to_csv('/app/sandbox/wrong_predictions/eff4/eff4_ns_21_and_ups.csv')"
   ]
  },
  {
   "cell_type": "code",
   "execution_count": 58,
   "metadata": {},
   "outputs": [
    {
     "data": {
      "text/plain": [
       "healthy               111\n",
       "scab                  111\n",
       "complex                48\n",
       "rust                   41\n",
       "powdery_mildew         13\n",
       "frog_eye_leaf_spot      7\n",
       "rust complex            1\n",
       "Name: labels_true, dtype: int64"
      ]
     },
     "execution_count": 58,
     "metadata": {},
     "output_type": "execute_result"
    }
   ],
   "source": [
    "df_sub[df_sub['labels_pred'] == '']['labels_true'].value_counts()"
   ]
  },
  {
   "cell_type": "code",
   "execution_count": null,
   "metadata": {},
   "outputs": [],
   "source": []
  },
  {
   "cell_type": "code",
   "execution_count": null,
   "metadata": {},
   "outputs": [],
   "source": []
  },
  {
   "cell_type": "code",
   "execution_count": null,
   "metadata": {},
   "outputs": [],
   "source": []
  },
  {
   "cell_type": "code",
   "execution_count": null,
   "metadata": {},
   "outputs": [],
   "source": []
  },
  {
   "cell_type": "code",
   "execution_count": null,
   "metadata": {},
   "outputs": [],
   "source": []
  },
  {
   "cell_type": "code",
   "execution_count": null,
   "metadata": {},
   "outputs": [],
   "source": []
  },
  {
   "cell_type": "code",
   "execution_count": null,
   "metadata": {},
   "outputs": [],
   "source": []
  }
 ],
 "metadata": {
  "kernelspec": {
   "display_name": "Python 3",
   "language": "python",
   "name": "python3"
  },
  "language_info": {
   "codemirror_mode": {
    "name": "ipython",
    "version": 3
   },
   "file_extension": ".py",
   "mimetype": "text/x-python",
   "name": "python",
   "nbconvert_exporter": "python",
   "pygments_lexer": "ipython3",
   "version": "3.8.5"
  }
 },
 "nbformat": 4,
 "nbformat_minor": 4
}
