{
 "cells": [
  {
   "cell_type": "code",
   "execution_count": null,
   "metadata": {},
   "outputs": [],
   "source": []
  },
  {
   "cell_type": "code",
   "execution_count": 1,
   "metadata": {},
   "outputs": [],
   "source": [
    "# !pip install venn"
   ]
  },
  {
   "cell_type": "code",
   "execution_count": 2,
   "metadata": {},
   "outputs": [],
   "source": [
    "import os\n",
    "\n",
    "import numpy as np\n",
    "import pandas as pd\n",
    "from IPython.core.interactiveshell import InteractiveShell\n",
    "\n",
    "InteractiveShell.ast_node_interactivity = \"all\"\n",
    "import warnings\n",
    "\n",
    "warnings.filterwarnings(\"ignore\")\n",
    "# warnings.filterwarnings(action='once')\n",
    "\n",
    "import matplotlib.image as mpimg\n",
    "import matplotlib.pyplot as plt\n",
    "\n",
    "%matplotlib inline\n",
    "# plots\n",
    "import plotly.express as px\n",
    "import plotly.graph_objects as go\n",
    "import seaborn as sns\n",
    "import sklearn\n",
    "import tensorflow as tf\n",
    "import tensorflow_addons as tfa\n",
    "from PIL import Image\n",
    "from sklearn.feature_extraction.text import CountVectorizer\n",
    "from sklearn.metrics import (\n",
    "    accuracy_score,\n",
    "    classification_report,\n",
    "    confusion_matrix,\n",
    "    f1_score,\n",
    "    plot_confusion_matrix,\n",
    "    precision_recall_curve,\n",
    "    precision_score,\n",
    "    recall_score,\n",
    "    roc_auc_score,\n",
    "    roc_curve,\n",
    ")\n",
    "from sklearn.preprocessing import LabelEncoder, OneHotEncoder\n",
    "from tensorflow import keras\n",
    "from tensorflow.keras.applications.resnet import ResNet50\n",
    "from tensorflow.keras.layers import (\n",
    "    AveragePooling2D,\n",
    "    AvgPool2D,\n",
    "    Conv2D,\n",
    "    Dense,\n",
    "    Flatten,\n",
    "    GlobalAveragePooling2D,\n",
    "    MaxPooling2D,\n",
    ")\n",
    "from tensorflow.keras.models import Sequential\n",
    "\n",
    "# keras\n",
    "from tensorflow.keras.optimizers import Adam\n",
    "from tensorflow.keras.preprocessing.image import ImageDataGenerator\n",
    "from tqdm import notebook, tqdm\n",
    "\n",
    "# from venn import venn"
   ]
  },
  {
   "cell_type": "code",
   "execution_count": 3,
   "metadata": {},
   "outputs": [],
   "source": [
    "PATH = \"/app/_data/\"\n",
    "BATCH_SIZE = 64\n",
    "SEED = 42"
   ]
  },
  {
   "cell_type": "code",
   "execution_count": 4,
   "metadata": {},
   "outputs": [],
   "source": [
    "labels = pd.read_csv(PATH + \"train.csv\")"
   ]
  },
  {
   "cell_type": "code",
   "execution_count": 5,
   "metadata": {},
   "outputs": [],
   "source": [
    "sample_submission = pd.read_csv(PATH + \"sample_submission.csv\")"
   ]
  },
  {
   "cell_type": "code",
   "execution_count": 6,
   "metadata": {},
   "outputs": [
    {
     "data": {
      "text/html": [
       "<div>\n",
       "<style scoped>\n",
       "    .dataframe tbody tr th:only-of-type {\n",
       "        vertical-align: middle;\n",
       "    }\n",
       "\n",
       "    .dataframe tbody tr th {\n",
       "        vertical-align: top;\n",
       "    }\n",
       "\n",
       "    .dataframe thead th {\n",
       "        text-align: right;\n",
       "    }\n",
       "</style>\n",
       "<table border=\"1\" class=\"dataframe\">\n",
       "  <thead>\n",
       "    <tr style=\"text-align: right;\">\n",
       "      <th></th>\n",
       "      <th>image</th>\n",
       "      <th>labels</th>\n",
       "    </tr>\n",
       "  </thead>\n",
       "  <tbody>\n",
       "    <tr>\n",
       "      <th>0</th>\n",
       "      <td>800113bb65efe69e.jpg</td>\n",
       "      <td>healthy</td>\n",
       "    </tr>\n",
       "    <tr>\n",
       "      <th>1</th>\n",
       "      <td>8002cb321f8bfcdf.jpg</td>\n",
       "      <td>scab frog_eye_leaf_spot complex</td>\n",
       "    </tr>\n",
       "    <tr>\n",
       "      <th>2</th>\n",
       "      <td>80070f7fb5e2ccaa.jpg</td>\n",
       "      <td>scab</td>\n",
       "    </tr>\n",
       "    <tr>\n",
       "      <th>3</th>\n",
       "      <td>80077517781fb94f.jpg</td>\n",
       "      <td>scab</td>\n",
       "    </tr>\n",
       "    <tr>\n",
       "      <th>4</th>\n",
       "      <td>800cbf0ff87721f8.jpg</td>\n",
       "      <td>complex</td>\n",
       "    </tr>\n",
       "  </tbody>\n",
       "</table>\n",
       "</div>"
      ],
      "text/plain": [
       "                  image                           labels\n",
       "0  800113bb65efe69e.jpg                          healthy\n",
       "1  8002cb321f8bfcdf.jpg  scab frog_eye_leaf_spot complex\n",
       "2  80070f7fb5e2ccaa.jpg                             scab\n",
       "3  80077517781fb94f.jpg                             scab\n",
       "4  800cbf0ff87721f8.jpg                          complex"
      ]
     },
     "execution_count": 6,
     "metadata": {},
     "output_type": "execute_result"
    },
    {
     "name": "stdout",
     "output_type": "stream",
     "text": [
      "<class 'pandas.core.frame.DataFrame'>\n",
      "RangeIndex: 18632 entries, 0 to 18631\n",
      "Data columns (total 2 columns):\n",
      " #   Column  Non-Null Count  Dtype \n",
      "---  ------  --------------  ----- \n",
      " 0   image   18632 non-null  object\n",
      " 1   labels  18632 non-null  object\n",
      "dtypes: object(2)\n",
      "memory usage: 291.2+ KB\n"
     ]
    }
   ],
   "source": [
    "labels.head()\n",
    "labels.info()"
   ]
  },
  {
   "cell_type": "code",
   "execution_count": 7,
   "metadata": {},
   "outputs": [
    {
     "data": {
      "text/plain": [
       "scab                               0.259017\n",
       "healthy                            0.248175\n",
       "frog_eye_leaf_spot                 0.170728\n",
       "rust                               0.099828\n",
       "complex                            0.085981\n",
       "powdery_mildew                     0.063547\n",
       "scab frog_eye_leaf_spot            0.036818\n",
       "scab frog_eye_leaf_spot complex    0.010734\n",
       "frog_eye_leaf_spot complex         0.008856\n",
       "rust frog_eye_leaf_spot            0.006441\n",
       "rust complex                       0.005206\n",
       "powdery_mildew complex             0.004669\n",
       "Name: labels, dtype: float64"
      ]
     },
     "execution_count": 7,
     "metadata": {},
     "output_type": "execute_result"
    }
   ],
   "source": [
    "labels[\"labels\"].value_counts(normalize=True)"
   ]
  },
  {
   "cell_type": "code",
   "execution_count": 8,
   "metadata": {},
   "outputs": [],
   "source": [
    "labels = labels.join(labels[\"labels\"].str.get_dummies(sep=\" \"))"
   ]
  },
  {
   "cell_type": "code",
   "execution_count": 9,
   "metadata": {},
   "outputs": [
    {
     "data": {
      "text/html": [
       "<div>\n",
       "<style scoped>\n",
       "    .dataframe tbody tr th:only-of-type {\n",
       "        vertical-align: middle;\n",
       "    }\n",
       "\n",
       "    .dataframe tbody tr th {\n",
       "        vertical-align: top;\n",
       "    }\n",
       "\n",
       "    .dataframe thead th {\n",
       "        text-align: right;\n",
       "    }\n",
       "</style>\n",
       "<table border=\"1\" class=\"dataframe\">\n",
       "  <thead>\n",
       "    <tr style=\"text-align: right;\">\n",
       "      <th></th>\n",
       "      <th>image</th>\n",
       "      <th>labels</th>\n",
       "      <th>complex</th>\n",
       "      <th>frog_eye_leaf_spot</th>\n",
       "      <th>healthy</th>\n",
       "      <th>powdery_mildew</th>\n",
       "      <th>rust</th>\n",
       "      <th>scab</th>\n",
       "    </tr>\n",
       "  </thead>\n",
       "  <tbody>\n",
       "    <tr>\n",
       "      <th>0</th>\n",
       "      <td>800113bb65efe69e.jpg</td>\n",
       "      <td>healthy</td>\n",
       "      <td>0</td>\n",
       "      <td>0</td>\n",
       "      <td>1</td>\n",
       "      <td>0</td>\n",
       "      <td>0</td>\n",
       "      <td>0</td>\n",
       "    </tr>\n",
       "    <tr>\n",
       "      <th>1</th>\n",
       "      <td>8002cb321f8bfcdf.jpg</td>\n",
       "      <td>scab frog_eye_leaf_spot complex</td>\n",
       "      <td>1</td>\n",
       "      <td>1</td>\n",
       "      <td>0</td>\n",
       "      <td>0</td>\n",
       "      <td>0</td>\n",
       "      <td>1</td>\n",
       "    </tr>\n",
       "    <tr>\n",
       "      <th>2</th>\n",
       "      <td>80070f7fb5e2ccaa.jpg</td>\n",
       "      <td>scab</td>\n",
       "      <td>0</td>\n",
       "      <td>0</td>\n",
       "      <td>0</td>\n",
       "      <td>0</td>\n",
       "      <td>0</td>\n",
       "      <td>1</td>\n",
       "    </tr>\n",
       "    <tr>\n",
       "      <th>3</th>\n",
       "      <td>80077517781fb94f.jpg</td>\n",
       "      <td>scab</td>\n",
       "      <td>0</td>\n",
       "      <td>0</td>\n",
       "      <td>0</td>\n",
       "      <td>0</td>\n",
       "      <td>0</td>\n",
       "      <td>1</td>\n",
       "    </tr>\n",
       "    <tr>\n",
       "      <th>4</th>\n",
       "      <td>800cbf0ff87721f8.jpg</td>\n",
       "      <td>complex</td>\n",
       "      <td>1</td>\n",
       "      <td>0</td>\n",
       "      <td>0</td>\n",
       "      <td>0</td>\n",
       "      <td>0</td>\n",
       "      <td>0</td>\n",
       "    </tr>\n",
       "  </tbody>\n",
       "</table>\n",
       "</div>"
      ],
      "text/plain": [
       "                  image                           labels  complex  \\\n",
       "0  800113bb65efe69e.jpg                          healthy        0   \n",
       "1  8002cb321f8bfcdf.jpg  scab frog_eye_leaf_spot complex        1   \n",
       "2  80070f7fb5e2ccaa.jpg                             scab        0   \n",
       "3  80077517781fb94f.jpg                             scab        0   \n",
       "4  800cbf0ff87721f8.jpg                          complex        1   \n",
       "\n",
       "   frog_eye_leaf_spot  healthy  powdery_mildew  rust  scab  \n",
       "0                   0        1               0     0     0  \n",
       "1                   1        0               0     0     1  \n",
       "2                   0        0               0     0     1  \n",
       "3                   0        0               0     0     1  \n",
       "4                   0        0               0     0     0  "
      ]
     },
     "execution_count": 9,
     "metadata": {},
     "output_type": "execute_result"
    }
   ],
   "source": [
    "labels.head()"
   ]
  },
  {
   "cell_type": "code",
   "execution_count": 10,
   "metadata": {},
   "outputs": [],
   "source": [
    "# def resize_im(\n",
    "#     image_name, new_folder_name=\"small_nearest\", size=(224, 224), resample=Image.NEAREST\n",
    "# ):\n",
    "#     image = Image.open(PATH + \"train_images/\" + image_name)\n",
    "#     image = image.resize(size, resample=resample)\n",
    "#     if not os.path.isdir(PATH + \"train_images/\" + new_folder_name + \"/\"):\n",
    "#         os.mkdir(PATH + \"train_images/\" + new_folder_name + \"/\")\n",
    "#     image.save(PATH + \"train_images/\" + new_folder_name + \"/\" + image_name)\n",
    "\n",
    "\n",
    "# labels['image'].apply(resize_im)"
   ]
  },
  {
   "cell_type": "code",
   "execution_count": 11,
   "metadata": {},
   "outputs": [],
   "source": [
    "# labels[\"multi_label\"] = labels[\"labels\"].astype(\"category\").cat.codes\n",
    "# dict_weights = (\n",
    "#     1\n",
    "#     / labels[\"multi_label\"].value_counts()\n",
    "#     / np.sum(1 / labels[\"multi_label\"].value_counts())\n",
    "# ).to_dict()\n",
    "# def weight_fill(x):\n",
    "#     return dict_weights[x]\n",
    "# labels[\"weights\"] = labels[\"multi_label\"].apply(weight_fill)"
   ]
  },
  {
   "cell_type": "code",
   "execution_count": 12,
   "metadata": {},
   "outputs": [],
   "source": [
    "feature_columns = labels.columns[2:].tolist()"
   ]
  },
  {
   "cell_type": "code",
   "execution_count": 13,
   "metadata": {},
   "outputs": [
    {
     "data": {
      "text/html": [
       "<div>\n",
       "<style scoped>\n",
       "    .dataframe tbody tr th:only-of-type {\n",
       "        vertical-align: middle;\n",
       "    }\n",
       "\n",
       "    .dataframe tbody tr th {\n",
       "        vertical-align: top;\n",
       "    }\n",
       "\n",
       "    .dataframe thead th {\n",
       "        text-align: right;\n",
       "    }\n",
       "</style>\n",
       "<table border=\"1\" class=\"dataframe\">\n",
       "  <thead>\n",
       "    <tr style=\"text-align: right;\">\n",
       "      <th></th>\n",
       "      <th>image</th>\n",
       "      <th>labels</th>\n",
       "      <th>complex</th>\n",
       "      <th>frog_eye_leaf_spot</th>\n",
       "      <th>healthy</th>\n",
       "      <th>powdery_mildew</th>\n",
       "      <th>rust</th>\n",
       "      <th>scab</th>\n",
       "    </tr>\n",
       "  </thead>\n",
       "  <tbody>\n",
       "    <tr>\n",
       "      <th>10104</th>\n",
       "      <td>c5bdf631d514a982.jpg</td>\n",
       "      <td>scab</td>\n",
       "      <td>0</td>\n",
       "      <td>0</td>\n",
       "      <td>0</td>\n",
       "      <td>0</td>\n",
       "      <td>0</td>\n",
       "      <td>1</td>\n",
       "    </tr>\n",
       "  </tbody>\n",
       "</table>\n",
       "</div>"
      ],
      "text/plain": [
       "                      image labels  complex  frog_eye_leaf_spot  healthy  \\\n",
       "10104  c5bdf631d514a982.jpg   scab        0                   0        0   \n",
       "\n",
       "       powdery_mildew  rust  scab  \n",
       "10104               0     0     1  "
      ]
     },
     "execution_count": 13,
     "metadata": {},
     "output_type": "execute_result"
    },
    {
     "data": {
      "text/plain": [
       "['complex', 'frog_eye_leaf_spot', 'healthy', 'powdery_mildew', 'rust', 'scab']"
      ]
     },
     "execution_count": 13,
     "metadata": {},
     "output_type": "execute_result"
    }
   ],
   "source": [
    "labels.sample()\n",
    "feature_columns"
   ]
  },
  {
   "cell_type": "code",
   "execution_count": 14,
   "metadata": {},
   "outputs": [
    {
     "name": "stdout",
     "output_type": "stream",
     "text": [
      "Found 14906 validated image filenames.\n"
     ]
    }
   ],
   "source": [
    "train_datagen = ImageDataGenerator(\n",
    "    validation_split=0.2,\n",
    "    rescale=1.0 / 255,\n",
    "    rotation_range=45,\n",
    "    width_shift_range=0.25,\n",
    "    height_shift_range=0.25,\n",
    "    brightness_range=(0.5, 1.5),\n",
    "    shear_range=45,\n",
    "    zoom_range=0.25,\n",
    "    horizontal_flip=True,\n",
    "    vertical_flip=True,\n",
    ")\n",
    "train = train_datagen.flow_from_dataframe(\n",
    "    dataframe=labels,\n",
    "    directory=PATH + \"train_images/small_nearest/\",\n",
    "    x_col=\"image\",\n",
    "    y_col=feature_columns,\n",
    "    target_size=(224, 224),\n",
    "    batch_size=BATCH_SIZE,\n",
    "    class_mode=\"raw\",\n",
    "    subset=\"training\",\n",
    "    seed=SEED,\n",
    ")"
   ]
  },
  {
   "cell_type": "code",
   "execution_count": 15,
   "metadata": {},
   "outputs": [
    {
     "name": "stdout",
     "output_type": "stream",
     "text": [
      "Found 3726 validated image filenames.\n"
     ]
    }
   ],
   "source": [
    "valid_datagen = ImageDataGenerator(\n",
    "    validation_split=0.2,\n",
    "    rescale=1.0 / 255,\n",
    "    #     samplewise_center=True,\n",
    "    #     samplewise_std_normalization=True,\n",
    "    #     rotation_range=45,\n",
    "    #     width_shift_range=0.25,\n",
    "    #     height_shift_range=0.25,\n",
    "    #     brightness_range=(0.5, 1.5),\n",
    "    #     shear_range=45,\n",
    "    #     zoom_range=0.25,\n",
    "    #     horizontal_flip=True,\n",
    "    #     vertical_flip=True,\n",
    ")\n",
    "valid = valid_datagen.flow_from_dataframe(\n",
    "    dataframe=labels,\n",
    "    directory=PATH + \"train_images/small_nearest/\",\n",
    "    x_col=\"image\",\n",
    "    y_col=feature_columns,\n",
    "    target_size=(224, 224),\n",
    "    batch_size=BATCH_SIZE,\n",
    "    class_mode=\"raw\",\n",
    "    subset=\"validation\",\n",
    "    seed=SEED,\n",
    "    classes=feature_columns,\n",
    ")"
   ]
  },
  {
   "cell_type": "code",
   "execution_count": 16,
   "metadata": {},
   "outputs": [
    {
     "name": "stdout",
     "output_type": "stream",
     "text": [
      "Found 3 validated image filenames.\n"
     ]
    }
   ],
   "source": [
    "test_datagen = ImageDataGenerator(rescale=1.0 / 255)\n",
    "test = test_datagen.flow_from_dataframe(\n",
    "    dataframe=sample_submission,\n",
    "    directory=PATH + \"test_images/\",\n",
    "    x_col=\"image\",\n",
    "    y_col=None,\n",
    "    target_size=(224, 224),\n",
    "    batch_size=BATCH_SIZE,\n",
    "    class_mode=None,\n",
    "    seed=SEED,\n",
    "    shuffle=False,\n",
    ")"
   ]
  },
  {
   "cell_type": "code",
   "execution_count": 17,
   "metadata": {},
   "outputs": [],
   "source": [
    "# feat = next(test)\n",
    "# plt.figure(figsize=(10, 10))\n",
    "# for i in range(1, 4):\n",
    "#     image = feat[i - 1]\n",
    "#     #     label = target[i - 1]\n",
    "#     plt.subplot(1, 3, i)\n",
    "#     plt.imshow(image)\n",
    "#     #     plt.xlabel(label)\n",
    "#     plt.xticks([])\n",
    "#     plt.yticks([])\n",
    "#     plt.tight_layout()\n",
    "# plt.show();"
   ]
  },
  {
   "cell_type": "code",
   "execution_count": 18,
   "metadata": {},
   "outputs": [],
   "source": [
    "# valid._targets"
   ]
  },
  {
   "cell_type": "code",
   "execution_count": 19,
   "metadata": {},
   "outputs": [],
   "source": [
    "# features, target = next(train)\n",
    "# plt.figure(figsize=(10, 10))\n",
    "# for i in range(1, 17):\n",
    "#     image = features[i - 1]\n",
    "#     label = target[i - 1]\n",
    "#     plt.subplot(4, 4, i)\n",
    "#     plt.imshow(image)\n",
    "#     plt.xlabel(label)\n",
    "#     plt.xticks([])\n",
    "#     plt.yticks([])\n",
    "#     plt.tight_layout()\n",
    "# plt.show();"
   ]
  },
  {
   "cell_type": "code",
   "execution_count": null,
   "metadata": {},
   "outputs": [],
   "source": []
  },
  {
   "cell_type": "code",
   "execution_count": 20,
   "metadata": {},
   "outputs": [],
   "source": [
    "def plot_curves(model, loss=False):\n",
    "    df = pd.DataFrame(model.history)\n",
    "    if loss:\n",
    "        plt.figure(figsize=(12, 6))\n",
    "        plt.title(\"loss\")\n",
    "        plt.plot(df.iloc[:, 0], label=\"loss\")\n",
    "        plt.plot(df.iloc[:, 5], label=\"val_loss\")\n",
    "        plt.legend()\n",
    "        plt.show()\n",
    "    else:\n",
    "        plt.figure(figsize=(12, 20))\n",
    "        plt.subplot(4, 1, 1)\n",
    "        plt.title(\"accuracy\")\n",
    "        plt.plot(df.iloc[:, 1], label=\"accuracy\")\n",
    "        plt.plot(df.iloc[:, 6], label=\"val_accuracy\")\n",
    "        plt.legend()\n",
    "\n",
    "        plt.subplot(4, 1, 2)\n",
    "        plt.title(\"recall\")\n",
    "        plt.plot(df.iloc[:, 2], label=\"recall\")\n",
    "        plt.plot(df.iloc[:, 7], label=\"val_recall\")\n",
    "        plt.legend()\n",
    "\n",
    "        plt.subplot(4, 1, 3)\n",
    "        plt.title(\"precision\")\n",
    "        plt.plot(df.iloc[:, 3], label=\"precision\")\n",
    "        plt.plot(df.iloc[:, 8], label=\"val_precision\")\n",
    "        plt.legend()\n",
    "\n",
    "        plt.subplot(4, 1, 4)\n",
    "        plt.title(\"f1\")\n",
    "        plt.plot(df.iloc[:, 4], label=\"f1\")\n",
    "        plt.plot(df.iloc[:, 9], label=\"val_f1\")\n",
    "        plt.legend()\n",
    "        plt.show();"
   ]
  },
  {
   "cell_type": "code",
   "execution_count": 21,
   "metadata": {},
   "outputs": [],
   "source": [
    "# data_augmentation = keras.Sequential(\n",
    "#     [\n",
    "#         keras.layers.experimental.preprocessing.RandomFlip(\"horizontal_and_vertical\"),\n",
    "#         keras.layers.experimental.preprocessing.RandomHeight(0.1),\n",
    "#         keras.layers.experimental.preprocessing.RandomWidth(0.1),\n",
    "#         keras.layers.experimental.preprocessing.RandomRotation(0.15),\n",
    "#         keras.layers.experimental.preprocessing.RandomZoom(0.25, 0.25),\n",
    "#     ]\n",
    "# )"
   ]
  },
  {
   "cell_type": "code",
   "execution_count": 22,
   "metadata": {},
   "outputs": [],
   "source": [
    "# tf.keras.mixed_precision.set_global_policy('mixed_float16')\n",
    "# policy = keras.mixed_precision.experimental.Policy('mixed_float16')\n",
    "# keras.mixed_precision.experimental.set_policy(policy)"
   ]
  },
  {
   "cell_type": "code",
   "execution_count": 23,
   "metadata": {},
   "outputs": [],
   "source": [
    "backbone = ResNet50(input_shape=(224, 224, 3), weights=\"imagenet\", include_top=False)\n",
    "model = Sequential()\n",
    "model.add(backbone)\n",
    "model.add(GlobalAveragePooling2D())\n",
    "model.add(Dense(units=6, activation=\"sigmoid\"))\n",
    "model.compile(\n",
    "    loss=\"binary_crossentropy\",\n",
    "    optimizer=Adam(lr=0.0001),\n",
    "    metrics=[\n",
    "        'acc',\n",
    "        keras.metrics.Recall(),\n",
    "        keras.metrics.Precision(),\n",
    "        tfa.metrics.F1Score(num_classes=6, average=\"micro\"),\n",
    "    ],\n",
    ")"
   ]
  },
  {
   "cell_type": "code",
   "execution_count": 24,
   "metadata": {},
   "outputs": [
    {
     "name": "stdout",
     "output_type": "stream",
     "text": [
      "Epoch 1/50\n",
      "WARNING:tensorflow:multiprocessing can interact badly with TensorFlow, causing nondeterministic deadlocks. For high performance data pipelines tf.data is recommended.\n",
      "232/233 [============================>.] - ETA: 1s - loss: 0.2374 - acc: 0.7165 - recall: 0.6381 - precision: 0.7769 - f1_score: 0.7143WARNING:tensorflow:multiprocessing can interact badly with TensorFlow, causing nondeterministic deadlocks. For high performance data pipelines tf.data is recommended.\n",
      "233/233 [==============================] - ETA: 0s - loss: 0.2371 - acc: 0.7168 - recall: 0.6385 - precision: 0.7772 - f1_score: 0.7145WARNING:tensorflow:multiprocessing can interact badly with TensorFlow, causing nondeterministic deadlocks. For high performance data pipelines tf.data is recommended.\n",
      "WARNING:tensorflow:multiprocessing can interact badly with TensorFlow, causing nondeterministic deadlocks. For high performance data pipelines tf.data is recommended.\n",
      "233/233 [==============================] - 258s 1s/step - loss: 0.2371 - acc: 0.7168 - recall: 0.6385 - precision: 0.7772 - f1_score: 0.7145 - val_loss: 0.8011 - val_acc: 0.1063 - val_recall: 0.1164 - val_precision: 0.1178 - val_f1_score: 0.1124\n",
      "Epoch 2/50\n",
      "WARNING:tensorflow:multiprocessing can interact badly with TensorFlow, causing nondeterministic deadlocks. For high performance data pipelines tf.data is recommended.\n",
      "232/233 [============================>.] - ETA: 1s - loss: 0.1599 - acc: 0.8241 - recall: 0.7790 - precision: 0.8583 - f1_score: 0.8169WARNING:tensorflow:multiprocessing can interact badly with TensorFlow, causing nondeterministic deadlocks. For high performance data pipelines tf.data is recommended.\n",
      "233/233 [==============================] - ETA: 0s - loss: 0.1599 - acc: 0.8242 - recall: 0.7789 - precision: 0.8584 - f1_score: 0.8169WARNING:tensorflow:multiprocessing can interact badly with TensorFlow, causing nondeterministic deadlocks. For high performance data pipelines tf.data is recommended.\n",
      "233/233 [==============================] - 258s 1s/step - loss: 0.1599 - acc: 0.8242 - recall: 0.7789 - precision: 0.8584 - f1_score: 0.8169 - val_loss: 1.0328 - val_acc: 0.1047 - val_recall: 0.1141 - val_precision: 0.1196 - val_f1_score: 0.1106\n",
      "Epoch 3/50\n",
      "WARNING:tensorflow:multiprocessing can interact badly with TensorFlow, causing nondeterministic deadlocks. For high performance data pipelines tf.data is recommended.\n",
      "232/233 [============================>.] - ETA: 1s - loss: 0.1423 - acc: 0.8444 - recall: 0.8068 - precision: 0.8692 - f1_score: 0.8358WARNING:tensorflow:multiprocessing can interact badly with TensorFlow, causing nondeterministic deadlocks. For high performance data pipelines tf.data is recommended.\n",
      "233/233 [==============================] - ETA: 0s - loss: 0.1425 - acc: 0.8442 - recall: 0.8065 - precision: 0.8689 - f1_score: 0.8356WARNING:tensorflow:multiprocessing can interact badly with TensorFlow, causing nondeterministic deadlocks. For high performance data pipelines tf.data is recommended.\n",
      "233/233 [==============================] - 260s 1s/step - loss: 0.1425 - acc: 0.8442 - recall: 0.8065 - precision: 0.8689 - f1_score: 0.8356 - val_loss: 0.6059 - val_acc: 0.2874 - val_recall: 0.2307 - val_precision: 0.3118 - val_f1_score: 0.2893\n",
      "Epoch 4/50\n",
      "WARNING:tensorflow:multiprocessing can interact badly with TensorFlow, causing nondeterministic deadlocks. For high performance data pipelines tf.data is recommended.\n",
      "232/233 [============================>.] - ETA: 1s - loss: 0.1329 - acc: 0.8533 - recall: 0.8194 - precision: 0.8791 - f1_score: 0.8445WARNING:tensorflow:multiprocessing can interact badly with TensorFlow, causing nondeterministic deadlocks. For high performance data pipelines tf.data is recommended.\n",
      "233/233 [==============================] - ETA: 0s - loss: 0.1327 - acc: 0.8535 - recall: 0.8198 - precision: 0.8792 - f1_score: 0.8448WARNING:tensorflow:multiprocessing can interact badly with TensorFlow, causing nondeterministic deadlocks. For high performance data pipelines tf.data is recommended.\n",
      "233/233 [==============================] - 263s 1s/step - loss: 0.1327 - acc: 0.8535 - recall: 0.8198 - precision: 0.8792 - f1_score: 0.8448 - val_loss: 0.5338 - val_acc: 0.5773 - val_recall: 0.5400 - val_precision: 0.6132 - val_f1_score: 0.5747\n",
      "Epoch 5/50\n",
      "WARNING:tensorflow:multiprocessing can interact badly with TensorFlow, causing nondeterministic deadlocks. For high performance data pipelines tf.data is recommended.\n",
      "232/233 [============================>.] - ETA: 1s - loss: 0.1261 - acc: 0.8624 - recall: 0.8291 - precision: 0.8842 - f1_score: 0.8516WARNING:tensorflow:multiprocessing can interact badly with TensorFlow, causing nondeterministic deadlocks. For high performance data pipelines tf.data is recommended.\n",
      "233/233 [==============================] - ETA: 0s - loss: 0.1261 - acc: 0.8625 - recall: 0.8292 - precision: 0.8840 - f1_score: 0.8517WARNING:tensorflow:multiprocessing can interact badly with TensorFlow, causing nondeterministic deadlocks. For high performance data pipelines tf.data is recommended.\n",
      "233/233 [==============================] - 260s 1s/step - loss: 0.1261 - acc: 0.8625 - recall: 0.8292 - precision: 0.8840 - f1_score: 0.8517 - val_loss: 0.1633 - val_acc: 0.8306 - val_recall: 0.8344 - val_precision: 0.8221 - val_f1_score: 0.8263\n",
      "Epoch 6/50\n",
      "WARNING:tensorflow:multiprocessing can interact badly with TensorFlow, causing nondeterministic deadlocks. For high performance data pipelines tf.data is recommended.\n",
      "232/233 [============================>.] - ETA: 1s - loss: 0.1226 - acc: 0.8664 - recall: 0.8366 - precision: 0.8864 - f1_score: 0.8570WARNING:tensorflow:multiprocessing can interact badly with TensorFlow, causing nondeterministic deadlocks. For high performance data pipelines tf.data is recommended.\n",
      "233/233 [==============================] - ETA: 0s - loss: 0.1226 - acc: 0.8663 - recall: 0.8366 - precision: 0.8864 - f1_score: 0.8569WARNING:tensorflow:multiprocessing can interact badly with TensorFlow, causing nondeterministic deadlocks. For high performance data pipelines tf.data is recommended.\n",
      "233/233 [==============================] - 262s 1s/step - loss: 0.1226 - acc: 0.8663 - recall: 0.8366 - precision: 0.8864 - f1_score: 0.8569 - val_loss: 0.1075 - val_acc: 0.8886 - val_recall: 0.8629 - val_precision: 0.9078 - val_f1_score: 0.8844\n",
      "Epoch 7/50\n",
      "WARNING:tensorflow:multiprocessing can interact badly with TensorFlow, causing nondeterministic deadlocks. For high performance data pipelines tf.data is recommended.\n",
      "232/233 [============================>.] - ETA: 1s - loss: 0.1165 - acc: 0.8709 - recall: 0.8490 - precision: 0.8910 - f1_score: 0.8615WARNING:tensorflow:multiprocessing can interact badly with TensorFlow, causing nondeterministic deadlocks. For high performance data pipelines tf.data is recommended.\n",
      "233/233 [==============================] - ETA: 0s - loss: 0.1164 - acc: 0.8709 - recall: 0.8493 - precision: 0.8909 - f1_score: 0.8616WARNING:tensorflow:multiprocessing can interact badly with TensorFlow, causing nondeterministic deadlocks. For high performance data pipelines tf.data is recommended.\n",
      "233/233 [==============================] - 262s 1s/step - loss: 0.1164 - acc: 0.8709 - recall: 0.8493 - precision: 0.8909 - f1_score: 0.8616 - val_loss: 0.1418 - val_acc: 0.8653 - val_recall: 0.8594 - val_precision: 0.8679 - val_f1_score: 0.8609\n",
      "Epoch 8/50\n",
      "WARNING:tensorflow:multiprocessing can interact badly with TensorFlow, causing nondeterministic deadlocks. For high performance data pipelines tf.data is recommended.\n",
      "232/233 [============================>.] - ETA: 1s - loss: 0.1140 - acc: 0.8743 - recall: 0.8504 - precision: 0.8933 - f1_score: 0.8654WARNING:tensorflow:multiprocessing can interact badly with TensorFlow, causing nondeterministic deadlocks. For high performance data pipelines tf.data is recommended.\n",
      "233/233 [==============================] - ETA: 0s - loss: 0.1139 - acc: 0.8744 - recall: 0.8506 - precision: 0.8934 - f1_score: 0.8655WARNING:tensorflow:multiprocessing can interact badly with TensorFlow, causing nondeterministic deadlocks. For high performance data pipelines tf.data is recommended.\n",
      "WARNING:tensorflow:multiprocessing can interact badly with TensorFlow, causing nondeterministic deadlocks. For high performance data pipelines tf.data is recommended.\n",
      "233/233 [==============================] - 265s 1s/step - loss: 0.1139 - acc: 0.8744 - recall: 0.8506 - precision: 0.8934 - f1_score: 0.8655 - val_loss: 0.1271 - val_acc: 0.8736 - val_recall: 0.8505 - val_precision: 0.8845 - val_f1_score: 0.8672\n",
      "Epoch 9/50\n",
      "WARNING:tensorflow:multiprocessing can interact badly with TensorFlow, causing nondeterministic deadlocks. For high performance data pipelines tf.data is recommended.\n",
      "232/233 [============================>.] - ETA: 1s - loss: 0.1098 - acc: 0.8787 - recall: 0.8585 - precision: 0.8977 - f1_score: 0.8704WARNING:tensorflow:multiprocessing can interact badly with TensorFlow, causing nondeterministic deadlocks. For high performance data pipelines tf.data is recommended.\n",
      "233/233 [==============================] - ETA: 0s - loss: 0.1098 - acc: 0.8787 - recall: 0.8586 - precision: 0.8974 - f1_score: 0.8704WARNING:tensorflow:multiprocessing can interact badly with TensorFlow, causing nondeterministic deadlocks. For high performance data pipelines tf.data is recommended.\n",
      "233/233 [==============================] - 258s 1s/step - loss: 0.1098 - acc: 0.8787 - recall: 0.8586 - precision: 0.8974 - f1_score: 0.8704 - val_loss: 0.1271 - val_acc: 0.8714 - val_recall: 0.8465 - val_precision: 0.8972 - val_f1_score: 0.8680\n",
      "Epoch 10/50\n",
      "WARNING:tensorflow:multiprocessing can interact badly with TensorFlow, causing nondeterministic deadlocks. For high performance data pipelines tf.data is recommended.\n",
      "232/233 [============================>.] - ETA: 1s - loss: 0.1077 - acc: 0.8814 - recall: 0.8586 - precision: 0.8982 - f1_score: 0.8712WARNING:tensorflow:multiprocessing can interact badly with TensorFlow, causing nondeterministic deadlocks. For high performance data pipelines tf.data is recommended.\n",
      "233/233 [==============================] - ETA: 0s - loss: 0.1077 - acc: 0.8813 - recall: 0.8587 - precision: 0.8982 - f1_score: 0.8711WARNING:tensorflow:multiprocessing can interact badly with TensorFlow, causing nondeterministic deadlocks. For high performance data pipelines tf.data is recommended.\n",
      "WARNING:tensorflow:multiprocessing can interact badly with TensorFlow, causing nondeterministic deadlocks. For high performance data pipelines tf.data is recommended.\n",
      "233/233 [==============================] - 268s 1s/step - loss: 0.1077 - acc: 0.8813 - recall: 0.8587 - precision: 0.8982 - f1_score: 0.8711 - val_loss: 0.1056 - val_acc: 0.8951 - val_recall: 0.8816 - val_precision: 0.8883 - val_f1_score: 0.8859\n",
      "Epoch 11/50\n",
      "WARNING:tensorflow:multiprocessing can interact badly with TensorFlow, causing nondeterministic deadlocks. For high performance data pipelines tf.data is recommended.\n",
      "232/233 [============================>.] - ETA: 1s - loss: 0.1027 - acc: 0.8868 - recall: 0.8640 - precision: 0.9025 - f1_score: 0.8760WARNING:tensorflow:multiprocessing can interact badly with TensorFlow, causing nondeterministic deadlocks. For high performance data pipelines tf.data is recommended.\n",
      "233/233 [==============================] - ETA: 0s - loss: 0.1026 - acc: 0.8870 - recall: 0.8642 - precision: 0.9026 - f1_score: 0.8762WARNING:tensorflow:multiprocessing can interact badly with TensorFlow, causing nondeterministic deadlocks. For high performance data pipelines tf.data is recommended.\n",
      "233/233 [==============================] - 258s 1s/step - loss: 0.1026 - acc: 0.8870 - recall: 0.8642 - precision: 0.9026 - f1_score: 0.8762 - val_loss: 0.1426 - val_acc: 0.8824 - val_recall: 0.8331 - val_precision: 0.9029 - val_f1_score: 0.8706\n",
      "Epoch 12/50\n",
      "WARNING:tensorflow:multiprocessing can interact badly with TensorFlow, causing nondeterministic deadlocks. For high performance data pipelines tf.data is recommended.\n",
      "232/233 [============================>.] - ETA: 1s - loss: 0.1004 - acc: 0.8911 - recall: 0.8703 - precision: 0.9064 - f1_score: 0.8804WARNING:tensorflow:multiprocessing can interact badly with TensorFlow, causing nondeterministic deadlocks. For high performance data pipelines tf.data is recommended.\n",
      "233/233 [==============================] - ETA: 0s - loss: 0.1004 - acc: 0.8909 - recall: 0.8703 - precision: 0.9063 - f1_score: 0.8804WARNING:tensorflow:multiprocessing can interact badly with TensorFlow, causing nondeterministic deadlocks. For high performance data pipelines tf.data is recommended.\n",
      "233/233 [==============================] - 258s 1s/step - loss: 0.1004 - acc: 0.8909 - recall: 0.8703 - precision: 0.9063 - f1_score: 0.8804 - val_loss: 0.1426 - val_acc: 0.8637 - val_recall: 0.8556 - val_precision: 0.8630 - val_f1_score: 0.8591\n",
      "Epoch 13/50\n",
      "WARNING:tensorflow:multiprocessing can interact badly with TensorFlow, causing nondeterministic deadlocks. For high performance data pipelines tf.data is recommended.\n",
      "232/233 [============================>.] - ETA: 1s - loss: 0.0988 - acc: 0.8884 - recall: 0.8702 - precision: 0.9052 - f1_score: 0.8795WARNING:tensorflow:multiprocessing can interact badly with TensorFlow, causing nondeterministic deadlocks. For high performance data pipelines tf.data is recommended.\n",
      "233/233 [==============================] - ETA: 0s - loss: 0.0988 - acc: 0.8882 - recall: 0.8702 - precision: 0.9051 - f1_score: 0.8794WARNING:tensorflow:multiprocessing can interact badly with TensorFlow, causing nondeterministic deadlocks. For high performance data pipelines tf.data is recommended.\n",
      "233/233 [==============================] - 265s 1s/step - loss: 0.0988 - acc: 0.8882 - recall: 0.8702 - precision: 0.9051 - f1_score: 0.8794 - val_loss: 0.1234 - val_acc: 0.8712 - val_recall: 0.8738 - val_precision: 0.8582 - val_f1_score: 0.8682\n",
      "Epoch 14/50\n",
      "WARNING:tensorflow:multiprocessing can interact badly with TensorFlow, causing nondeterministic deadlocks. For high performance data pipelines tf.data is recommended.\n",
      "232/233 [============================>.] - ETA: 1s - loss: 0.0971 - acc: 0.8933 - recall: 0.8754 - precision: 0.9100 - f1_score: 0.8819WARNING:tensorflow:multiprocessing can interact badly with TensorFlow, causing nondeterministic deadlocks. For high performance data pipelines tf.data is recommended.\n",
      "233/233 [==============================] - ETA: 0s - loss: 0.0971 - acc: 0.8935 - recall: 0.8756 - precision: 0.9100 - f1_score: 0.8821WARNING:tensorflow:multiprocessing can interact badly with TensorFlow, causing nondeterministic deadlocks. For high performance data pipelines tf.data is recommended.\n",
      "WARNING:tensorflow:multiprocessing can interact badly with TensorFlow, causing nondeterministic deadlocks. For high performance data pipelines tf.data is recommended.\n",
      "233/233 [==============================] - 262s 1s/step - loss: 0.0971 - acc: 0.8935 - recall: 0.8756 - precision: 0.9100 - f1_score: 0.8821 - val_loss: 0.1360 - val_acc: 0.8755 - val_recall: 0.8526 - val_precision: 0.8882 - val_f1_score: 0.8708\n",
      "Epoch 15/50\n",
      "WARNING:tensorflow:multiprocessing can interact badly with TensorFlow, causing nondeterministic deadlocks. For high performance data pipelines tf.data is recommended.\n",
      "232/233 [============================>.] - ETA: 1s - loss: 0.0934 - acc: 0.8956 - recall: 0.8812 - precision: 0.9117 - f1_score: 0.8870WARNING:tensorflow:multiprocessing can interact badly with TensorFlow, causing nondeterministic deadlocks. For high performance data pipelines tf.data is recommended.\n",
      "233/233 [==============================] - ETA: 0s - loss: 0.0935 - acc: 0.8955 - recall: 0.8811 - precision: 0.9113 - f1_score: 0.8869WARNING:tensorflow:multiprocessing can interact badly with TensorFlow, causing nondeterministic deadlocks. For high performance data pipelines tf.data is recommended.\n",
      "233/233 [==============================] - 264s 1s/step - loss: 0.0935 - acc: 0.8955 - recall: 0.8811 - precision: 0.9113 - f1_score: 0.8869 - val_loss: 0.1366 - val_acc: 0.8739 - val_recall: 0.8574 - val_precision: 0.8878 - val_f1_score: 0.8706\n",
      "Epoch 16/50\n",
      "WARNING:tensorflow:multiprocessing can interact badly with TensorFlow, causing nondeterministic deadlocks. For high performance data pipelines tf.data is recommended.\n",
      "232/233 [============================>.] - ETA: 1s - loss: 0.0931 - acc: 0.8972 - recall: 0.8807 - precision: 0.9104 - f1_score: 0.8851WARNING:tensorflow:multiprocessing can interact badly with TensorFlow, causing nondeterministic deadlocks. For high performance data pipelines tf.data is recommended.\n",
      "233/233 [==============================] - ETA: 0s - loss: 0.0932 - acc: 0.8970 - recall: 0.8806 - precision: 0.9100 - f1_score: 0.8849WARNING:tensorflow:multiprocessing can interact badly with TensorFlow, causing nondeterministic deadlocks. For high performance data pipelines tf.data is recommended.\n",
      "233/233 [==============================] - 259s 1s/step - loss: 0.0932 - acc: 0.8970 - recall: 0.8806 - precision: 0.9100 - f1_score: 0.8849 - val_loss: 0.1039 - val_acc: 0.8986 - val_recall: 0.8824 - val_precision: 0.9073 - val_f1_score: 0.8922\n",
      "Epoch 17/50\n",
      "WARNING:tensorflow:multiprocessing can interact badly with TensorFlow, causing nondeterministic deadlocks. For high performance data pipelines tf.data is recommended.\n",
      "232/233 [============================>.] - ETA: 1s - loss: 0.0904 - acc: 0.8993 - recall: 0.8860 - precision: 0.9138 - f1_score: 0.8884WARNING:tensorflow:multiprocessing can interact badly with TensorFlow, causing nondeterministic deadlocks. For high performance data pipelines tf.data is recommended.\n",
      "233/233 [==============================] - ETA: 0s - loss: 0.0907 - acc: 0.8992 - recall: 0.8857 - precision: 0.9138 - f1_score: 0.8882WARNING:tensorflow:multiprocessing can interact badly with TensorFlow, causing nondeterministic deadlocks. For high performance data pipelines tf.data is recommended.\n",
      "233/233 [==============================] - 262s 1s/step - loss: 0.0907 - acc: 0.8992 - recall: 0.8857 - precision: 0.9138 - f1_score: 0.8882 - val_loss: 0.1095 - val_acc: 0.8967 - val_recall: 0.8629 - val_precision: 0.9161 - val_f1_score: 0.8859\n",
      "Epoch 18/50\n",
      "WARNING:tensorflow:multiprocessing can interact badly with TensorFlow, causing nondeterministic deadlocks. For high performance data pipelines tf.data is recommended.\n",
      "232/233 [============================>.] - ETA: 1s - loss: 0.0908 - acc: 0.8968 - recall: 0.8884 - precision: 0.9124 - f1_score: 0.8875WARNING:tensorflow:multiprocessing can interact badly with TensorFlow, causing nondeterministic deadlocks. For high performance data pipelines tf.data is recommended.\n",
      "233/233 [==============================] - ETA: 0s - loss: 0.0910 - acc: 0.8964 - recall: 0.8879 - precision: 0.9122 - f1_score: 0.8871WARNING:tensorflow:multiprocessing can interact badly with TensorFlow, causing nondeterministic deadlocks. For high performance data pipelines tf.data is recommended.\n",
      "WARNING:tensorflow:multiprocessing can interact badly with TensorFlow, causing nondeterministic deadlocks. For high performance data pipelines tf.data is recommended.\n",
      "233/233 [==============================] - 266s 1s/step - loss: 0.0910 - acc: 0.8964 - recall: 0.8879 - precision: 0.9122 - f1_score: 0.8871 - val_loss: 0.1628 - val_acc: 0.8510 - val_recall: 0.8182 - val_precision: 0.8608 - val_f1_score: 0.8409\n",
      "Epoch 19/50\n",
      "WARNING:tensorflow:multiprocessing can interact badly with TensorFlow, causing nondeterministic deadlocks. For high performance data pipelines tf.data is recommended.\n",
      "232/233 [============================>.] - ETA: 1s - loss: 0.0874 - acc: 0.8987 - recall: 0.8899 - precision: 0.9138 - f1_score: 0.8882WARNING:tensorflow:multiprocessing can interact badly with TensorFlow, causing nondeterministic deadlocks. For high performance data pipelines tf.data is recommended.\n",
      "233/233 [==============================] - ETA: 0s - loss: 0.0874 - acc: 0.8986 - recall: 0.8899 - precision: 0.9139 - f1_score: 0.8882WARNING:tensorflow:multiprocessing can interact badly with TensorFlow, causing nondeterministic deadlocks. For high performance data pipelines tf.data is recommended.\n",
      "233/233 [==============================] - 264s 1s/step - loss: 0.0874 - acc: 0.8986 - recall: 0.8899 - precision: 0.9139 - f1_score: 0.8882 - val_loss: 0.1142 - val_acc: 0.8921 - val_recall: 0.8788 - val_precision: 0.9042 - val_f1_score: 0.8880\n",
      "Epoch 20/50\n",
      "WARNING:tensorflow:multiprocessing can interact badly with TensorFlow, causing nondeterministic deadlocks. For high performance data pipelines tf.data is recommended.\n",
      "232/233 [============================>.] - ETA: 1s - loss: 0.0853 - acc: 0.9041 - recall: 0.8916 - precision: 0.9183 - f1_score: 0.8942WARNING:tensorflow:multiprocessing can interact badly with TensorFlow, causing nondeterministic deadlocks. For high performance data pipelines tf.data is recommended.\n",
      "233/233 [==============================] - ETA: 0s - loss: 0.0853 - acc: 0.9040 - recall: 0.8915 - precision: 0.9184 - f1_score: 0.8942WARNING:tensorflow:multiprocessing can interact badly with TensorFlow, causing nondeterministic deadlocks. For high performance data pipelines tf.data is recommended.\n",
      "233/233 [==============================] - 265s 1s/step - loss: 0.0853 - acc: 0.9040 - recall: 0.8915 - precision: 0.9184 - f1_score: 0.8942 - val_loss: 0.1315 - val_acc: 0.8736 - val_recall: 0.8776 - val_precision: 0.8697 - val_f1_score: 0.8770\n",
      "Epoch 21/50\n",
      "WARNING:tensorflow:multiprocessing can interact badly with TensorFlow, causing nondeterministic deadlocks. For high performance data pipelines tf.data is recommended.\n",
      "232/233 [============================>.] - ETA: 1s - loss: 0.0823 - acc: 0.9054 - recall: 0.8950 - precision: 0.9179 - f1_score: 0.8952WARNING:tensorflow:multiprocessing can interact badly with TensorFlow, causing nondeterministic deadlocks. For high performance data pipelines tf.data is recommended.\n",
      "233/233 [==============================] - ETA: 0s - loss: 0.0822 - acc: 0.9054 - recall: 0.8952 - precision: 0.9179 - f1_score: 0.8953WARNING:tensorflow:multiprocessing can interact badly with TensorFlow, causing nondeterministic deadlocks. For high performance data pipelines tf.data is recommended.\n",
      "WARNING:tensorflow:multiprocessing can interact badly with TensorFlow, causing nondeterministic deadlocks. For high performance data pipelines tf.data is recommended.\n",
      "233/233 [==============================] - 263s 1s/step - loss: 0.0822 - acc: 0.9054 - recall: 0.8952 - precision: 0.9179 - f1_score: 0.8953 - val_loss: 0.1305 - val_acc: 0.8822 - val_recall: 0.8579 - val_precision: 0.9088 - val_f1_score: 0.8786\n",
      "Epoch 22/50\n",
      "WARNING:tensorflow:multiprocessing can interact badly with TensorFlow, causing nondeterministic deadlocks. For high performance data pipelines tf.data is recommended.\n",
      "232/233 [============================>.] - ETA: 1s - loss: 0.0818 - acc: 0.9055 - recall: 0.8947 - precision: 0.9214 - f1_score: 0.8953WARNING:tensorflow:multiprocessing can interact badly with TensorFlow, causing nondeterministic deadlocks. For high performance data pipelines tf.data is recommended.\n",
      "233/233 [==============================] - ETA: 0s - loss: 0.0818 - acc: 0.9057 - recall: 0.8947 - precision: 0.9214 - f1_score: 0.8954WARNING:tensorflow:multiprocessing can interact badly with TensorFlow, causing nondeterministic deadlocks. For high performance data pipelines tf.data is recommended.\n",
      "233/233 [==============================] - 265s 1s/step - loss: 0.0818 - acc: 0.9057 - recall: 0.8947 - precision: 0.9214 - f1_score: 0.8954 - val_loss: 0.1046 - val_acc: 0.8961 - val_recall: 0.8874 - val_precision: 0.9050 - val_f1_score: 0.8948\n",
      "Epoch 23/50\n",
      "WARNING:tensorflow:multiprocessing can interact badly with TensorFlow, causing nondeterministic deadlocks. For high performance data pipelines tf.data is recommended.\n",
      "232/233 [============================>.] - ETA: 1s - loss: 0.0798 - acc: 0.9084 - recall: 0.8986 - precision: 0.9218 - f1_score: 0.8984WARNING:tensorflow:multiprocessing can interact badly with TensorFlow, causing nondeterministic deadlocks. For high performance data pipelines tf.data is recommended.\n",
      "233/233 [==============================] - ETA: 0s - loss: 0.0797 - acc: 0.9085 - recall: 0.8986 - precision: 0.9219 - f1_score: 0.8984WARNING:tensorflow:multiprocessing can interact badly with TensorFlow, causing nondeterministic deadlocks. For high performance data pipelines tf.data is recommended.\n",
      "WARNING:tensorflow:multiprocessing can interact badly with TensorFlow, causing nondeterministic deadlocks. For high performance data pipelines tf.data is recommended.\n",
      "233/233 [==============================] - 263s 1s/step - loss: 0.0797 - acc: 0.9085 - recall: 0.8986 - precision: 0.9219 - f1_score: 0.8984 - val_loss: 0.1115 - val_acc: 0.8910 - val_recall: 0.8715 - val_precision: 0.9039 - val_f1_score: 0.8859\n",
      "Epoch 24/50\n",
      "WARNING:tensorflow:multiprocessing can interact badly with TensorFlow, causing nondeterministic deadlocks. For high performance data pipelines tf.data is recommended.\n",
      "232/233 [============================>.] - ETA: 1s - loss: 0.0793 - acc: 0.9057 - recall: 0.8995 - precision: 0.9214 - f1_score: 0.8972WARNING:tensorflow:multiprocessing can interact badly with TensorFlow, causing nondeterministic deadlocks. For high performance data pipelines tf.data is recommended.\n",
      "233/233 [==============================] - ETA: 0s - loss: 0.0794 - acc: 0.9056 - recall: 0.8992 - precision: 0.9213 - f1_score: 0.8971WARNING:tensorflow:multiprocessing can interact badly with TensorFlow, causing nondeterministic deadlocks. For high performance data pipelines tf.data is recommended.\n",
      "233/233 [==============================] - 262s 1s/step - loss: 0.0794 - acc: 0.9056 - recall: 0.8992 - precision: 0.9213 - f1_score: 0.8971 - val_loss: 0.2327 - val_acc: 0.8237 - val_recall: 0.7826 - val_precision: 0.8406 - val_f1_score: 0.8131\n",
      "Epoch 25/50\n",
      "WARNING:tensorflow:multiprocessing can interact badly with TensorFlow, causing nondeterministic deadlocks. For high performance data pipelines tf.data is recommended.\n",
      "232/233 [============================>.] - ETA: 1s - loss: 0.0778 - acc: 0.9079 - recall: 0.9021 - precision: 0.9226 - f1_score: 0.8984WARNING:tensorflow:multiprocessing can interact badly with TensorFlow, causing nondeterministic deadlocks. For high performance data pipelines tf.data is recommended.\n",
      "233/233 [==============================] - ETA: 0s - loss: 0.0779 - acc: 0.9080 - recall: 0.9020 - precision: 0.9228 - f1_score: 0.8985WARNING:tensorflow:multiprocessing can interact badly with TensorFlow, causing nondeterministic deadlocks. For high performance data pipelines tf.data is recommended.\n",
      "233/233 [==============================] - 265s 1s/step - loss: 0.0779 - acc: 0.9080 - recall: 0.9020 - precision: 0.9228 - f1_score: 0.8985 - val_loss: 0.1203 - val_acc: 0.8935 - val_recall: 0.8753 - val_precision: 0.9015 - val_f1_score: 0.8883\n",
      "Epoch 26/50\n",
      "WARNING:tensorflow:multiprocessing can interact badly with TensorFlow, causing nondeterministic deadlocks. For high performance data pipelines tf.data is recommended.\n",
      "232/233 [============================>.] - ETA: 1s - loss: 0.0767 - acc: 0.9084 - recall: 0.9009 - precision: 0.9235 - f1_score: 0.8996WARNING:tensorflow:multiprocessing can interact badly with TensorFlow, causing nondeterministic deadlocks. For high performance data pipelines tf.data is recommended.\n",
      "233/233 [==============================] - ETA: 0s - loss: 0.0768 - acc: 0.9083 - recall: 0.9008 - precision: 0.9235 - f1_score: 0.8995WARNING:tensorflow:multiprocessing can interact badly with TensorFlow, causing nondeterministic deadlocks. For high performance data pipelines tf.data is recommended.\n",
      "WARNING:tensorflow:multiprocessing can interact badly with TensorFlow, causing nondeterministic deadlocks. For high performance data pipelines tf.data is recommended.\n",
      "233/233 [==============================] - 261s 1s/step - loss: 0.0768 - acc: 0.9083 - recall: 0.9008 - precision: 0.9235 - f1_score: 0.8995 - val_loss: 0.1228 - val_acc: 0.8875 - val_recall: 0.8806 - val_precision: 0.8884 - val_f1_score: 0.8849\n",
      "Epoch 27/50\n",
      "WARNING:tensorflow:multiprocessing can interact badly with TensorFlow, causing nondeterministic deadlocks. For high performance data pipelines tf.data is recommended.\n",
      "232/233 [============================>.] - ETA: 1s - loss: 0.0739 - acc: 0.9125 - recall: 0.9064 - precision: 0.9268 - f1_score: 0.9024WARNING:tensorflow:multiprocessing can interact badly with TensorFlow, causing nondeterministic deadlocks. For high performance data pipelines tf.data is recommended.\n",
      "233/233 [==============================] - ETA: 0s - loss: 0.0740 - acc: 0.9124 - recall: 0.9064 - precision: 0.9268 - f1_score: 0.9024WARNING:tensorflow:multiprocessing can interact badly with TensorFlow, causing nondeterministic deadlocks. For high performance data pipelines tf.data is recommended.\n",
      "233/233 [==============================] - 257s 1s/step - loss: 0.0740 - acc: 0.9124 - recall: 0.9064 - precision: 0.9268 - f1_score: 0.9024 - val_loss: 0.1355 - val_acc: 0.8900 - val_recall: 0.8725 - val_precision: 0.9107 - val_f1_score: 0.8875\n",
      "Epoch 28/50\n",
      "WARNING:tensorflow:multiprocessing can interact badly with TensorFlow, causing nondeterministic deadlocks. For high performance data pipelines tf.data is recommended.\n",
      "232/233 [============================>.] - ETA: 1s - loss: 0.0732 - acc: 0.9115 - recall: 0.9088 - precision: 0.9271 - f1_score: 0.9033WARNING:tensorflow:multiprocessing can interact badly with TensorFlow, causing nondeterministic deadlocks. For high performance data pipelines tf.data is recommended.\n",
      "233/233 [==============================] - ETA: 0s - loss: 0.0734 - acc: 0.9114 - recall: 0.9089 - precision: 0.9270 - f1_score: 0.9033WARNING:tensorflow:multiprocessing can interact badly with TensorFlow, causing nondeterministic deadlocks. For high performance data pipelines tf.data is recommended.\n",
      "233/233 [==============================] - 261s 1s/step - loss: 0.0734 - acc: 0.9114 - recall: 0.9089 - precision: 0.9270 - f1_score: 0.9033 - val_loss: 0.1080 - val_acc: 0.9037 - val_recall: 0.8846 - val_precision: 0.9137 - val_f1_score: 0.8974\n",
      "Epoch 29/50\n",
      "WARNING:tensorflow:multiprocessing can interact badly with TensorFlow, causing nondeterministic deadlocks. For high performance data pipelines tf.data is recommended.\n",
      "232/233 [============================>.] - ETA: 1s - loss: 0.0708 - acc: 0.9118 - recall: 0.9119 - precision: 0.9311 - f1_score: 0.9057WARNING:tensorflow:multiprocessing can interact badly with TensorFlow, causing nondeterministic deadlocks. For high performance data pipelines tf.data is recommended.\n",
      "233/233 [==============================] - ETA: 0s - loss: 0.0709 - acc: 0.9116 - recall: 0.9119 - precision: 0.9311 - f1_score: 0.9055WARNING:tensorflow:multiprocessing can interact badly with TensorFlow, causing nondeterministic deadlocks. For high performance data pipelines tf.data is recommended.\n",
      "233/233 [==============================] - 267s 1s/step - loss: 0.0709 - acc: 0.9116 - recall: 0.9119 - precision: 0.9311 - f1_score: 0.9055 - val_loss: 0.1359 - val_acc: 0.8889 - val_recall: 0.8748 - val_precision: 0.9064 - val_f1_score: 0.8851\n",
      "Epoch 30/50\n",
      "WARNING:tensorflow:multiprocessing can interact badly with TensorFlow, causing nondeterministic deadlocks. For high performance data pipelines tf.data is recommended.\n",
      "232/233 [============================>.] - ETA: 1s - loss: 0.0700 - acc: 0.9165 - recall: 0.9141 - precision: 0.9316 - f1_score: 0.9076WARNING:tensorflow:multiprocessing can interact badly with TensorFlow, causing nondeterministic deadlocks. For high performance data pipelines tf.data is recommended.\n",
      "233/233 [==============================] - ETA: 0s - loss: 0.0700 - acc: 0.9164 - recall: 0.9143 - precision: 0.9317 - f1_score: 0.9076WARNING:tensorflow:multiprocessing can interact badly with TensorFlow, causing nondeterministic deadlocks. For high performance data pipelines tf.data is recommended.\n",
      "233/233 [==============================] - 267s 1s/step - loss: 0.0700 - acc: 0.9164 - recall: 0.9143 - precision: 0.9317 - f1_score: 0.9076 - val_loss: 0.1391 - val_acc: 0.8808 - val_recall: 0.8776 - val_precision: 0.8804 - val_f1_score: 0.8763\n",
      "Epoch 31/50\n",
      "WARNING:tensorflow:multiprocessing can interact badly with TensorFlow, causing nondeterministic deadlocks. For high performance data pipelines tf.data is recommended.\n",
      "232/233 [============================>.] - ETA: 1s - loss: 0.0698 - acc: 0.9150 - recall: 0.9150 - precision: 0.9322 - f1_score: 0.9062WARNING:tensorflow:multiprocessing can interact badly with TensorFlow, causing nondeterministic deadlocks. For high performance data pipelines tf.data is recommended.\n",
      "233/233 [==============================] - ETA: 0s - loss: 0.0698 - acc: 0.9150 - recall: 0.9150 - precision: 0.9323 - f1_score: 0.9062WARNING:tensorflow:multiprocessing can interact badly with TensorFlow, causing nondeterministic deadlocks. For high performance data pipelines tf.data is recommended.\n",
      "WARNING:tensorflow:multiprocessing can interact badly with TensorFlow, causing nondeterministic deadlocks. For high performance data pipelines tf.data is recommended.\n",
      "233/233 [==============================] - 260s 1s/step - loss: 0.0698 - acc: 0.9150 - recall: 0.9150 - precision: 0.9323 - f1_score: 0.9062 - val_loss: 0.1561 - val_acc: 0.8779 - val_recall: 0.8437 - val_precision: 0.8962 - val_f1_score: 0.8690\n",
      "Epoch 32/50\n",
      "WARNING:tensorflow:multiprocessing can interact badly with TensorFlow, causing nondeterministic deadlocks. For high performance data pipelines tf.data is recommended.\n",
      "232/233 [============================>.] - ETA: 1s - loss: 0.0681 - acc: 0.9167 - recall: 0.9168 - precision: 0.9334 - f1_score: 0.9088WARNING:tensorflow:multiprocessing can interact badly with TensorFlow, causing nondeterministic deadlocks. For high performance data pipelines tf.data is recommended.\n",
      "233/233 [==============================] - ETA: 0s - loss: 0.0682 - acc: 0.9165 - recall: 0.9166 - precision: 0.9334 - f1_score: 0.9085WARNING:tensorflow:multiprocessing can interact badly with TensorFlow, causing nondeterministic deadlocks. For high performance data pipelines tf.data is recommended.\n",
      "233/233 [==============================] - 268s 1s/step - loss: 0.0682 - acc: 0.9165 - recall: 0.9166 - precision: 0.9334 - f1_score: 0.9085 - val_loss: 0.1429 - val_acc: 0.8795 - val_recall: 0.8654 - val_precision: 0.8885 - val_f1_score: 0.8771\n",
      "Epoch 33/50\n",
      "WARNING:tensorflow:multiprocessing can interact badly with TensorFlow, causing nondeterministic deadlocks. For high performance data pipelines tf.data is recommended.\n",
      "232/233 [============================>.] - ETA: 1s - loss: 0.0665 - acc: 0.9184 - recall: 0.9173 - precision: 0.9354 - f1_score: 0.9094WARNING:tensorflow:multiprocessing can interact badly with TensorFlow, causing nondeterministic deadlocks. For high performance data pipelines tf.data is recommended.\n",
      "233/233 [==============================] - ETA: 0s - loss: 0.0664 - acc: 0.9184 - recall: 0.9174 - precision: 0.9354 - f1_score: 0.9094WARNING:tensorflow:multiprocessing can interact badly with TensorFlow, causing nondeterministic deadlocks. For high performance data pipelines tf.data is recommended.\n",
      "233/233 [==============================] - 266s 1s/step - loss: 0.0664 - acc: 0.9184 - recall: 0.9174 - precision: 0.9354 - f1_score: 0.9094 - val_loss: 0.1547 - val_acc: 0.8693 - val_recall: 0.8728 - val_precision: 0.8732 - val_f1_score: 0.8687\n",
      "Epoch 34/50\n",
      "WARNING:tensorflow:multiprocessing can interact badly with TensorFlow, causing nondeterministic deadlocks. For high performance data pipelines tf.data is recommended.\n",
      "232/233 [============================>.] - ETA: 1s - loss: 0.0654 - acc: 0.9194 - recall: 0.9188 - precision: 0.9348 - f1_score: 0.9109WARNING:tensorflow:multiprocessing can interact badly with TensorFlow, causing nondeterministic deadlocks. For high performance data pipelines tf.data is recommended.\n",
      "233/233 [==============================] - ETA: 0s - loss: 0.0654 - acc: 0.9192 - recall: 0.9188 - precision: 0.9348 - f1_score: 0.9108WARNING:tensorflow:multiprocessing can interact badly with TensorFlow, causing nondeterministic deadlocks. For high performance data pipelines tf.data is recommended.\n",
      "233/233 [==============================] - 257s 1s/step - loss: 0.0654 - acc: 0.9192 - recall: 0.9188 - precision: 0.9348 - f1_score: 0.9108 - val_loss: 0.1476 - val_acc: 0.8873 - val_recall: 0.8538 - val_precision: 0.9084 - val_f1_score: 0.8784\n",
      "Epoch 35/50\n",
      "WARNING:tensorflow:multiprocessing can interact badly with TensorFlow, causing nondeterministic deadlocks. For high performance data pipelines tf.data is recommended.\n",
      "232/233 [============================>.] - ETA: 1s - loss: 0.0609 - acc: 0.9220 - recall: 0.9243 - precision: 0.9406 - f1_score: 0.9152WARNING:tensorflow:multiprocessing can interact badly with TensorFlow, causing nondeterministic deadlocks. For high performance data pipelines tf.data is recommended.\n",
      "233/233 [==============================] - ETA: 0s - loss: 0.0612 - acc: 0.9220 - recall: 0.9240 - precision: 0.9404 - f1_score: 0.9151WARNING:tensorflow:multiprocessing can interact badly with TensorFlow, causing nondeterministic deadlocks. For high performance data pipelines tf.data is recommended.\n",
      "WARNING:tensorflow:multiprocessing can interact badly with TensorFlow, causing nondeterministic deadlocks. For high performance data pipelines tf.data is recommended.\n",
      "233/233 [==============================] - 263s 1s/step - loss: 0.0612 - acc: 0.9220 - recall: 0.9240 - precision: 0.9404 - f1_score: 0.9151 - val_loss: 0.1398 - val_acc: 0.8945 - val_recall: 0.8841 - val_precision: 0.8989 - val_f1_score: 0.8875\n",
      "Epoch 36/50\n",
      "WARNING:tensorflow:multiprocessing can interact badly with TensorFlow, causing nondeterministic deadlocks. For high performance data pipelines tf.data is recommended.\n",
      "232/233 [============================>.] - ETA: 1s - loss: 0.0623 - acc: 0.9206 - recall: 0.9250 - precision: 0.9391 - f1_score: 0.9131WARNING:tensorflow:multiprocessing can interact badly with TensorFlow, causing nondeterministic deadlocks. For high performance data pipelines tf.data is recommended.\n",
      "233/233 [==============================] - ETA: 0s - loss: 0.0624 - acc: 0.9206 - recall: 0.9248 - precision: 0.9390 - f1_score: 0.9130WARNING:tensorflow:multiprocessing can interact badly with TensorFlow, causing nondeterministic deadlocks. For high performance data pipelines tf.data is recommended.\n",
      "WARNING:tensorflow:multiprocessing can interact badly with TensorFlow, causing nondeterministic deadlocks. For high performance data pipelines tf.data is recommended.\n",
      "233/233 [==============================] - 269s 1s/step - loss: 0.0624 - acc: 0.9206 - recall: 0.9248 - precision: 0.9390 - f1_score: 0.9130 - val_loss: 0.1321 - val_acc: 0.8961 - val_recall: 0.8723 - val_precision: 0.9059 - val_f1_score: 0.8883\n",
      "Epoch 37/50\n",
      "WARNING:tensorflow:multiprocessing can interact badly with TensorFlow, causing nondeterministic deadlocks. For high performance data pipelines tf.data is recommended.\n",
      "232/233 [============================>.] - ETA: 1s - loss: 0.0596 - acc: 0.9233 - recall: 0.9292 - precision: 0.9433 - f1_score: 0.9166WARNING:tensorflow:multiprocessing can interact badly with TensorFlow, causing nondeterministic deadlocks. For high performance data pipelines tf.data is recommended.\n",
      "233/233 [==============================] - ETA: 0s - loss: 0.0596 - acc: 0.9233 - recall: 0.9291 - precision: 0.9432 - f1_score: 0.9166WARNING:tensorflow:multiprocessing can interact badly with TensorFlow, causing nondeterministic deadlocks. For high performance data pipelines tf.data is recommended.\n",
      "233/233 [==============================] - 290s 1s/step - loss: 0.0596 - acc: 0.9233 - recall: 0.9291 - precision: 0.9432 - f1_score: 0.9166 - val_loss: 0.1595 - val_acc: 0.8870 - val_recall: 0.8788 - val_precision: 0.8878 - val_f1_score: 0.8810\n",
      "Epoch 38/50\n",
      "WARNING:tensorflow:multiprocessing can interact badly with TensorFlow, causing nondeterministic deadlocks. For high performance data pipelines tf.data is recommended.\n",
      "232/233 [============================>.] - ETA: 1s - loss: 0.0592 - acc: 0.9262 - recall: 0.9292 - precision: 0.9411 - f1_score: 0.9161WARNING:tensorflow:multiprocessing can interact badly with TensorFlow, causing nondeterministic deadlocks. For high performance data pipelines tf.data is recommended.\n",
      "233/233 [==============================] - ETA: 0s - loss: 0.0592 - acc: 0.9261 - recall: 0.9292 - precision: 0.9412 - f1_score: 0.9160WARNING:tensorflow:multiprocessing can interact badly with TensorFlow, causing nondeterministic deadlocks. For high performance data pipelines tf.data is recommended.\n",
      "WARNING:tensorflow:multiprocessing can interact badly with TensorFlow, causing nondeterministic deadlocks. For high performance data pipelines tf.data is recommended.\n",
      "233/233 [==============================] - 272s 1s/step - loss: 0.0592 - acc: 0.9261 - recall: 0.9292 - precision: 0.9412 - f1_score: 0.9160 - val_loss: 0.1256 - val_acc: 0.8830 - val_recall: 0.8786 - val_precision: 0.8815 - val_f1_score: 0.8794\n",
      "Epoch 39/50\n",
      "WARNING:tensorflow:multiprocessing can interact badly with TensorFlow, causing nondeterministic deadlocks. For high performance data pipelines tf.data is recommended.\n",
      "232/233 [============================>.] - ETA: 1s - loss: 0.0588 - acc: 0.9264 - recall: 0.9292 - precision: 0.9433 - f1_score: 0.9183WARNING:tensorflow:multiprocessing can interact badly with TensorFlow, causing nondeterministic deadlocks. For high performance data pipelines tf.data is recommended.\n",
      "233/233 [==============================] - ETA: 0s - loss: 0.0589 - acc: 0.9263 - recall: 0.9291 - precision: 0.9433 - f1_score: 0.9183WARNING:tensorflow:multiprocessing can interact badly with TensorFlow, causing nondeterministic deadlocks. For high performance data pipelines tf.data is recommended.\n",
      "WARNING:tensorflow:multiprocessing can interact badly with TensorFlow, causing nondeterministic deadlocks. For high performance data pipelines tf.data is recommended.\n",
      "233/233 [==============================] - 263s 1s/step - loss: 0.0589 - acc: 0.9263 - recall: 0.9291 - precision: 0.9433 - f1_score: 0.9183 - val_loss: 0.1660 - val_acc: 0.8926 - val_recall: 0.8664 - val_precision: 0.9094 - val_f1_score: 0.8875\n",
      "Epoch 40/50\n",
      "WARNING:tensorflow:multiprocessing can interact badly with TensorFlow, causing nondeterministic deadlocks. For high performance data pipelines tf.data is recommended.\n",
      "232/233 [============================>.] - ETA: 1s - loss: 0.0550 - acc: 0.9299 - recall: 0.9362 - precision: 0.9490 - f1_score: 0.9215WARNING:tensorflow:multiprocessing can interact badly with TensorFlow, causing nondeterministic deadlocks. For high performance data pipelines tf.data is recommended.\n",
      "233/233 [==============================] - ETA: 0s - loss: 0.0551 - acc: 0.9300 - recall: 0.9361 - precision: 0.9490 - f1_score: 0.9214WARNING:tensorflow:multiprocessing can interact badly with TensorFlow, causing nondeterministic deadlocks. For high performance data pipelines tf.data is recommended.\n",
      "233/233 [==============================] - 259s 1s/step - loss: 0.0551 - acc: 0.9300 - recall: 0.9361 - precision: 0.9490 - f1_score: 0.9214 - val_loss: 0.2064 - val_acc: 0.8712 - val_recall: 0.8387 - val_precision: 0.8923 - val_f1_score: 0.8622\n",
      "Epoch 41/50\n",
      "WARNING:tensorflow:multiprocessing can interact badly with TensorFlow, causing nondeterministic deadlocks. For high performance data pipelines tf.data is recommended.\n",
      "232/233 [============================>.] - ETA: 1s - loss: 0.0557 - acc: 0.9278 - recall: 0.9314 - precision: 0.9470 - f1_score: 0.9194WARNING:tensorflow:multiprocessing can interact badly with TensorFlow, causing nondeterministic deadlocks. For high performance data pipelines tf.data is recommended.\n",
      "233/233 [==============================] - ETA: 0s - loss: 0.0556 - acc: 0.9277 - recall: 0.9316 - precision: 0.9471 - f1_score: 0.9195WARNING:tensorflow:multiprocessing can interact badly with TensorFlow, causing nondeterministic deadlocks. For high performance data pipelines tf.data is recommended.\n",
      "233/233 [==============================] - 263s 1s/step - loss: 0.0556 - acc: 0.9277 - recall: 0.9316 - precision: 0.9471 - f1_score: 0.9195 - val_loss: 0.1476 - val_acc: 0.8886 - val_recall: 0.8781 - val_precision: 0.8909 - val_f1_score: 0.8851\n",
      "Epoch 42/50\n",
      "WARNING:tensorflow:multiprocessing can interact badly with TensorFlow, causing nondeterministic deadlocks. For high performance data pipelines tf.data is recommended.\n",
      "232/233 [============================>.] - ETA: 1s - loss: 0.0557 - acc: 0.9247 - recall: 0.9302 - precision: 0.9465 - f1_score: 0.9184WARNING:tensorflow:multiprocessing can interact badly with TensorFlow, causing nondeterministic deadlocks. For high performance data pipelines tf.data is recommended.\n",
      "233/233 [==============================] - ETA: 0s - loss: 0.0557 - acc: 0.9246 - recall: 0.9303 - precision: 0.9465 - f1_score: 0.9184WARNING:tensorflow:multiprocessing can interact badly with TensorFlow, causing nondeterministic deadlocks. For high performance data pipelines tf.data is recommended.\n",
      "233/233 [==============================] - 262s 1s/step - loss: 0.0557 - acc: 0.9246 - recall: 0.9303 - precision: 0.9465 - f1_score: 0.9184 - val_loss: 0.1588 - val_acc: 0.8623 - val_recall: 0.8551 - val_precision: 0.8745 - val_f1_score: 0.8615\n",
      "Epoch 43/50\n",
      "WARNING:tensorflow:multiprocessing can interact badly with TensorFlow, causing nondeterministic deadlocks. For high performance data pipelines tf.data is recommended.\n",
      "232/233 [============================>.] - ETA: 1s - loss: 0.0517 - acc: 0.9309 - recall: 0.9377 - precision: 0.9514 - f1_score: 0.9231WARNING:tensorflow:multiprocessing can interact badly with TensorFlow, causing nondeterministic deadlocks. For high performance data pipelines tf.data is recommended.\n",
      "233/233 [==============================] - ETA: 0s - loss: 0.0517 - acc: 0.9309 - recall: 0.9378 - precision: 0.9514 - f1_score: 0.9230WARNING:tensorflow:multiprocessing can interact badly with TensorFlow, causing nondeterministic deadlocks. For high performance data pipelines tf.data is recommended.\n",
      "233/233 [==============================] - 266s 1s/step - loss: 0.0517 - acc: 0.9309 - recall: 0.9378 - precision: 0.9514 - f1_score: 0.9230 - val_loss: 0.1298 - val_acc: 0.9093 - val_recall: 0.8904 - val_precision: 0.9121 - val_f1_score: 0.8987\n",
      "Epoch 44/50\n",
      "WARNING:tensorflow:multiprocessing can interact badly with TensorFlow, causing nondeterministic deadlocks. For high performance data pipelines tf.data is recommended.\n",
      "232/233 [============================>.] - ETA: 1s - loss: 0.0533 - acc: 0.9270 - recall: 0.9364 - precision: 0.9471 - f1_score: 0.9202WARNING:tensorflow:multiprocessing can interact badly with TensorFlow, causing nondeterministic deadlocks. For high performance data pipelines tf.data is recommended.\n",
      "233/233 [==============================] - ETA: 0s - loss: 0.0534 - acc: 0.9269 - recall: 0.9363 - precision: 0.9471 - f1_score: 0.9200WARNING:tensorflow:multiprocessing can interact badly with TensorFlow, causing nondeterministic deadlocks. For high performance data pipelines tf.data is recommended.\n",
      "WARNING:tensorflow:multiprocessing can interact badly with TensorFlow, causing nondeterministic deadlocks. For high performance data pipelines tf.data is recommended.\n",
      "233/233 [==============================] - 265s 1s/step - loss: 0.0534 - acc: 0.9269 - recall: 0.9363 - precision: 0.9471 - f1_score: 0.9200 - val_loss: 0.1427 - val_acc: 0.8961 - val_recall: 0.8717 - val_precision: 0.9111 - val_f1_score: 0.8893\n",
      "Epoch 45/50\n",
      "WARNING:tensorflow:multiprocessing can interact badly with TensorFlow, causing nondeterministic deadlocks. For high performance data pipelines tf.data is recommended.\n",
      "232/233 [============================>.] - ETA: 1s - loss: 0.0516 - acc: 0.9297 - recall: 0.9378 - precision: 0.9503 - f1_score: 0.9224WARNING:tensorflow:multiprocessing can interact badly with TensorFlow, causing nondeterministic deadlocks. For high performance data pipelines tf.data is recommended.\n",
      "233/233 [==============================] - ETA: 0s - loss: 0.0516 - acc: 0.9297 - recall: 0.9376 - precision: 0.9502 - f1_score: 0.9224WARNING:tensorflow:multiprocessing can interact badly with TensorFlow, causing nondeterministic deadlocks. For high performance data pipelines tf.data is recommended.\n",
      "233/233 [==============================] - 263s 1s/step - loss: 0.0516 - acc: 0.9297 - recall: 0.9376 - precision: 0.9502 - f1_score: 0.9224 - val_loss: 0.1475 - val_acc: 0.8961 - val_recall: 0.8806 - val_precision: 0.9098 - val_f1_score: 0.8935\n",
      "Epoch 46/50\n",
      "WARNING:tensorflow:multiprocessing can interact badly with TensorFlow, causing nondeterministic deadlocks. For high performance data pipelines tf.data is recommended.\n",
      "232/233 [============================>.] - ETA: 1s - loss: 0.0518 - acc: 0.9290 - recall: 0.9382 - precision: 0.9500 - f1_score: 0.9217WARNING:tensorflow:multiprocessing can interact badly with TensorFlow, causing nondeterministic deadlocks. For high performance data pipelines tf.data is recommended.\n",
      "233/233 [==============================] - ETA: 0s - loss: 0.0520 - acc: 0.9288 - recall: 0.9379 - precision: 0.9498 - f1_score: 0.9215WARNING:tensorflow:multiprocessing can interact badly with TensorFlow, causing nondeterministic deadlocks. For high performance data pipelines tf.data is recommended.\n",
      "233/233 [==============================] - 261s 1s/step - loss: 0.0520 - acc: 0.9288 - recall: 0.9379 - precision: 0.9498 - f1_score: 0.9215 - val_loss: 0.1299 - val_acc: 0.8951 - val_recall: 0.8892 - val_precision: 0.8953 - val_f1_score: 0.8916\n",
      "Epoch 47/50\n",
      "WARNING:tensorflow:multiprocessing can interact badly with TensorFlow, causing nondeterministic deadlocks. For high performance data pipelines tf.data is recommended.\n",
      "232/233 [============================>.] - ETA: 1s - loss: 0.0506 - acc: 0.9294 - recall: 0.9407 - precision: 0.9526 - f1_score: 0.9235WARNING:tensorflow:multiprocessing can interact badly with TensorFlow, causing nondeterministic deadlocks. For high performance data pipelines tf.data is recommended.\n",
      "233/233 [==============================] - ETA: 0s - loss: 0.0505 - acc: 0.9294 - recall: 0.9408 - precision: 0.9527 - f1_score: 0.9236WARNING:tensorflow:multiprocessing can interact badly with TensorFlow, causing nondeterministic deadlocks. For high performance data pipelines tf.data is recommended.\n",
      "WARNING:tensorflow:multiprocessing can interact badly with TensorFlow, causing nondeterministic deadlocks. For high performance data pipelines tf.data is recommended.\n",
      "233/233 [==============================] - 257s 1s/step - loss: 0.0505 - acc: 0.9294 - recall: 0.9408 - precision: 0.9527 - f1_score: 0.9236 - val_loss: 0.1583 - val_acc: 0.8889 - val_recall: 0.8826 - val_precision: 0.8846 - val_f1_score: 0.8857\n",
      "Epoch 48/50\n",
      "WARNING:tensorflow:multiprocessing can interact badly with TensorFlow, causing nondeterministic deadlocks. For high performance data pipelines tf.data is recommended.\n",
      "232/233 [============================>.] - ETA: 1s - loss: 0.0483 - acc: 0.9338 - recall: 0.9445 - precision: 0.9538 - f1_score: 0.9269WARNING:tensorflow:multiprocessing can interact badly with TensorFlow, causing nondeterministic deadlocks. For high performance data pipelines tf.data is recommended.\n",
      "233/233 [==============================] - ETA: 0s - loss: 0.0484 - acc: 0.9335 - recall: 0.9441 - precision: 0.9537 - f1_score: 0.9265WARNING:tensorflow:multiprocessing can interact badly with TensorFlow, causing nondeterministic deadlocks. For high performance data pipelines tf.data is recommended.\n",
      "233/233 [==============================] - 260s 1s/step - loss: 0.0484 - acc: 0.9335 - recall: 0.9441 - precision: 0.9537 - f1_score: 0.9265 - val_loss: 0.2226 - val_acc: 0.8422 - val_recall: 0.8326 - val_precision: 0.8627 - val_f1_score: 0.8469\n",
      "Epoch 49/50\n",
      "WARNING:tensorflow:multiprocessing can interact badly with TensorFlow, causing nondeterministic deadlocks. For high performance data pipelines tf.data is recommended.\n",
      "232/233 [============================>.] - ETA: 1s - loss: 0.0499 - acc: 0.9297 - recall: 0.9372 - precision: 0.9504 - f1_score: 0.9231WARNING:tensorflow:multiprocessing can interact badly with TensorFlow, causing nondeterministic deadlocks. For high performance data pipelines tf.data is recommended.\n",
      "233/233 [==============================] - ETA: 0s - loss: 0.0498 - acc: 0.9299 - recall: 0.9374 - precision: 0.9504 - f1_score: 0.9233WARNING:tensorflow:multiprocessing can interact badly with TensorFlow, causing nondeterministic deadlocks. For high performance data pipelines tf.data is recommended.\n",
      "WARNING:tensorflow:multiprocessing can interact badly with TensorFlow, causing nondeterministic deadlocks. For high performance data pipelines tf.data is recommended.\n",
      "233/233 [==============================] - 259s 1s/step - loss: 0.0498 - acc: 0.9299 - recall: 0.9374 - precision: 0.9504 - f1_score: 0.9233 - val_loss: 0.1714 - val_acc: 0.8795 - val_recall: 0.8510 - val_precision: 0.8977 - val_f1_score: 0.8726\n",
      "Epoch 50/50\n",
      "WARNING:tensorflow:multiprocessing can interact badly with TensorFlow, causing nondeterministic deadlocks. For high performance data pipelines tf.data is recommended.\n",
      "232/233 [============================>.] - ETA: 1s - loss: 0.0487 - acc: 0.9331 - recall: 0.9424 - precision: 0.9545 - f1_score: 0.9239WARNING:tensorflow:multiprocessing can interact badly with TensorFlow, causing nondeterministic deadlocks. For high performance data pipelines tf.data is recommended.\n",
      "233/233 [==============================] - ETA: 0s - loss: 0.0487 - acc: 0.9331 - recall: 0.9424 - precision: 0.9547 - f1_score: 0.9239WARNING:tensorflow:multiprocessing can interact badly with TensorFlow, causing nondeterministic deadlocks. For high performance data pipelines tf.data is recommended.\n",
      "233/233 [==============================] - 265s 1s/step - loss: 0.0487 - acc: 0.9331 - recall: 0.9424 - precision: 0.9547 - f1_score: 0.9239 - val_loss: 0.1648 - val_acc: 0.8937 - val_recall: 0.8649 - val_precision: 0.9075 - val_f1_score: 0.8864\n"
     ]
    }
   ],
   "source": [
    "history = model.fit(\n",
    "    train,\n",
    "    validation_data=valid,\n",
    "    epochs=50,\n",
    "    batch_size=BATCH_SIZE,\n",
    "    verbose=1,\n",
    "    use_multiprocessing=True,\n",
    ")"
   ]
  },
  {
   "cell_type": "code",
   "execution_count": 26,
   "metadata": {},
   "outputs": [],
   "source": [
    "history_0001 = pd.DataFrame(history.history)\n",
    "history_0001.to_csv(\"history_0001.csv\")"
   ]
  },
  {
   "cell_type": "code",
   "execution_count": 27,
   "metadata": {},
   "outputs": [
    {
     "name": "stdout",
     "output_type": "stream",
     "text": [
      "WARNING:tensorflow:From /usr/local/lib/python3.8/dist-packages/tensorflow/python/training/tracking/tracking.py:111: Model.state_updates (from tensorflow.python.keras.engine.training) is deprecated and will be removed in a future version.\n",
      "Instructions for updating:\n",
      "This property should not be used in TensorFlow 2.0, as updates are applied automatically.\n",
      "WARNING:tensorflow:From /usr/local/lib/python3.8/dist-packages/tensorflow/python/training/tracking/tracking.py:111: Layer.updates (from tensorflow.python.keras.engine.base_layer) is deprecated and will be removed in a future version.\n",
      "Instructions for updating:\n",
      "This property should not be used in TensorFlow 2.0, as updates are applied automatically.\n",
      "INFO:tensorflow:Assets written to: /app/_data/models/base_model_0001/assets\n"
     ]
    }
   ],
   "source": [
    "model.save(\"/app/_data/models/base_model_0001\")"
   ]
  },
  {
   "cell_type": "code",
   "execution_count": 28,
   "metadata": {},
   "outputs": [],
   "source": [
    "import shutil\n"
   ]
  },
  {
   "cell_type": "code",
   "execution_count": 29,
   "metadata": {},
   "outputs": [
    {
     "data": {
      "text/plain": [
       "'/app/sandbox/base_model_0001.zip'"
      ]
     },
     "execution_count": 29,
     "metadata": {},
     "output_type": "execute_result"
    }
   ],
   "source": [
    "# shutil.make_archive('base_model_0001', 'zip',root_dir = '/app/_data/models/', base_dir='/app/_data/models/base_model_0001/')"
   ]
  },
  {
   "cell_type": "code",
   "execution_count": 25,
   "metadata": {},
   "outputs": [
    {
     "data": {
      "image/png": "[encoded data removed]",
      "text/plain": [
       "<Figure size 864x1440 with 4 Axes>"
      ]
     },
     "metadata": {
      "image/png": {
       "height": 1133,
       "width": 706
      },
      "needs_background": "light"
     },
     "output_type": "display_data"
    }
   ],
   "source": [
    "plot_curves(history)"
   ]
  },
  {
   "cell_type": "code",
   "execution_count": 28,
   "metadata": {},
   "outputs": [],
   "source": [
    "prediction = model.predict(test)"
   ]
  },
  {
   "cell_type": "code",
   "execution_count": 30,
   "metadata": {},
   "outputs": [],
   "source": [
    "test_sub = pd.DataFrame(prediction>0.5, columns=feature_columns)\n",
    "for name in test_sub.columns.tolist():\n",
    "    test_sub[name] = test_sub[name].replace({True: name, False: \"\"})\n",
    "test_sub[\"all\"] = test_sub.apply(\" \".join, axis=1).str.split().str.join(sep=\" \")"
   ]
  },
  {
   "cell_type": "code",
   "execution_count": 31,
   "metadata": {},
   "outputs": [
    {
     "data": {
      "text/html": [
       "<div>\n",
       "<style scoped>\n",
       "    .dataframe tbody tr th:only-of-type {\n",
       "        vertical-align: middle;\n",
       "    }\n",
       "\n",
       "    .dataframe tbody tr th {\n",
       "        vertical-align: top;\n",
       "    }\n",
       "\n",
       "    .dataframe thead th {\n",
       "        text-align: right;\n",
       "    }\n",
       "</style>\n",
       "<table border=\"1\" class=\"dataframe\">\n",
       "  <thead>\n",
       "    <tr style=\"text-align: right;\">\n",
       "      <th></th>\n",
       "      <th>complex</th>\n",
       "      <th>frog_eye_leaf_spot</th>\n",
       "      <th>healthy</th>\n",
       "      <th>powdery_mildew</th>\n",
       "      <th>rust</th>\n",
       "      <th>scab</th>\n",
       "      <th>all</th>\n",
       "    </tr>\n",
       "  </thead>\n",
       "  <tbody>\n",
       "    <tr>\n",
       "      <th>0</th>\n",
       "      <td>complex</td>\n",
       "      <td></td>\n",
       "      <td></td>\n",
       "      <td></td>\n",
       "      <td></td>\n",
       "      <td></td>\n",
       "      <td>complex</td>\n",
       "    </tr>\n",
       "    <tr>\n",
       "      <th>1</th>\n",
       "      <td></td>\n",
       "      <td>frog_eye_leaf_spot</td>\n",
       "      <td></td>\n",
       "      <td></td>\n",
       "      <td></td>\n",
       "      <td></td>\n",
       "      <td>frog_eye_leaf_spot</td>\n",
       "    </tr>\n",
       "    <tr>\n",
       "      <th>2</th>\n",
       "      <td></td>\n",
       "      <td></td>\n",
       "      <td></td>\n",
       "      <td></td>\n",
       "      <td></td>\n",
       "      <td></td>\n",
       "      <td></td>\n",
       "    </tr>\n",
       "  </tbody>\n",
       "</table>\n",
       "</div>"
      ],
      "text/plain": [
       "   complex  frog_eye_leaf_spot healthy powdery_mildew rust scab  \\\n",
       "0  complex                                                        \n",
       "1           frog_eye_leaf_spot                                    \n",
       "2                                                                 \n",
       "\n",
       "                  all  \n",
       "0             complex  \n",
       "1  frog_eye_leaf_spot  \n",
       "2                      "
      ]
     },
     "execution_count": 31,
     "metadata": {},
     "output_type": "execute_result"
    }
   ],
   "source": [
    "test_sub"
   ]
  },
  {
   "cell_type": "code",
   "execution_count": 32,
   "metadata": {},
   "outputs": [
    {
     "name": "stdout",
     "output_type": "stream",
     "text": [
      "59/59 [==============================] - 8s 136ms/step - loss: 0.3497 - acc: 0.7968 - recall: 0.7617 - precision: 0.8225 - f1_score: 0.7917\n"
     ]
    },
    {
     "data": {
      "text/plain": [
       "[0.3497026562690735,\n",
       " 0.7968330383300781,\n",
       " 0.7616763710975647,\n",
       " 0.822519063949585,\n",
       " 0.791726291179657]"
      ]
     },
     "execution_count": 32,
     "metadata": {},
     "output_type": "execute_result"
    }
   ],
   "source": [
    "model.evaluate(valid)"
   ]
  },
  {
   "cell_type": "code",
   "execution_count": 33,
   "metadata": {},
   "outputs": [],
   "source": [
    "a = model.predict(valid)"
   ]
  },
  {
   "cell_type": "code",
   "execution_count": 34,
   "metadata": {},
   "outputs": [
    {
     "data": {
      "text/plain": [
       "array([False, False, False, False, False,  True])"
      ]
     },
     "execution_count": 34,
     "metadata": {},
     "output_type": "execute_result"
    },
    {
     "data": {
      "text/plain": [
       "array([0, 0, 0, 0, 0, 1])"
      ]
     },
     "execution_count": 34,
     "metadata": {},
     "output_type": "execute_result"
    }
   ],
   "source": [
    "# np.argmax(a[0])\n",
    "a[3]>0.5\n",
    "valid._targets[3]"
   ]
  },
  {
   "cell_type": "code",
   "execution_count": 35,
   "metadata": {},
   "outputs": [
    {
     "data": {
      "text/plain": [
       "array([False, False,  True, False, False, False])"
      ]
     },
     "execution_count": 35,
     "metadata": {},
     "output_type": "execute_result"
    },
    {
     "data": {
      "text/plain": [
       "array([0, 0, 0, 0, 1, 0])"
      ]
     },
     "execution_count": 35,
     "metadata": {},
     "output_type": "execute_result"
    }
   ],
   "source": [
    "(a[555] > 0.5)\n",
    "valid._targets[555]"
   ]
  },
  {
   "cell_type": "code",
   "execution_count": 37,
   "metadata": {},
   "outputs": [],
   "source": [
    "valid_pred_0001 = pd.DataFrame(a, columns=feature_columns)\n",
    "valid_pred_0001.to_csv(\"valid_pred_0001.csv\")"
   ]
  },
  {
   "cell_type": "code",
   "execution_count": 38,
   "metadata": {},
   "outputs": [],
   "source": [
    "train_pred_0005 = pd.DataFrame(model.predict(train), columns=feature_columns)\n",
    "train_pred_0005.to_csv(\"train_pred_0005.csv\")"
   ]
  },
  {
   "cell_type": "code",
   "execution_count": 26,
   "metadata": {},
   "outputs": [
    {
     "ename": "NameError",
     "evalue": "name 'a' is not defined",
     "output_type": "error",
     "traceback": [
      "\u001b[0;31m---------------------------------------------------------------------------\u001b[0m",
      "\u001b[0;31mNameError\u001b[0m                                 Traceback (most recent call last)",
      "\u001b[0;32m<ipython-input-26-64fd61c08808>\u001b[0m in \u001b[0;36m<module>\u001b[0;34m\u001b[0m\n\u001b[1;32m      2\u001b[0m \u001b[0;32mfor\u001b[0m \u001b[0mi\u001b[0m \u001b[0;32min\u001b[0m \u001b[0mnp\u001b[0m\u001b[0;34m.\u001b[0m\u001b[0mlinspace\u001b[0m\u001b[0;34m(\u001b[0m\u001b[0;36m0.01\u001b[0m\u001b[0;34m,\u001b[0m \u001b[0;36m0.5\u001b[0m\u001b[0;34m,\u001b[0m \u001b[0;36m100\u001b[0m\u001b[0;34m)\u001b[0m\u001b[0;34m:\u001b[0m\u001b[0;34m\u001b[0m\u001b[0;34m\u001b[0m\u001b[0m\n\u001b[1;32m      3\u001b[0m     b = sklearn.metrics.precision_recall_fscore_support(\n\u001b[0;32m----> 4\u001b[0;31m         \u001b[0mvalid\u001b[0m\u001b[0;34m.\u001b[0m\u001b[0m_targets\u001b[0m\u001b[0;34m,\u001b[0m \u001b[0ma\u001b[0m \u001b[0;34m>\u001b[0m \u001b[0mi\u001b[0m\u001b[0;34m,\u001b[0m \u001b[0maverage\u001b[0m\u001b[0;34m=\u001b[0m\u001b[0;34m\"macro\"\u001b[0m\u001b[0;34m\u001b[0m\u001b[0;34m\u001b[0m\u001b[0m\n\u001b[0m\u001b[1;32m      5\u001b[0m     )[2]\n\u001b[1;32m      6\u001b[0m     \u001b[0;32mif\u001b[0m \u001b[0mb\u001b[0m \u001b[0;34m>\u001b[0m \u001b[0md\u001b[0m\u001b[0;34m[\u001b[0m\u001b[0;36m0\u001b[0m\u001b[0;34m]\u001b[0m\u001b[0;34m:\u001b[0m\u001b[0;34m\u001b[0m\u001b[0;34m\u001b[0m\u001b[0m\n",
      "\u001b[0;31mNameError\u001b[0m: name 'a' is not defined"
     ]
    }
   ],
   "source": [
    "d = [0, 0]\n",
    "for i in np.linspace(0.01, 0.5, 100):\n",
    "    b = sklearn.metrics.precision_recall_fscore_support(\n",
    "        valid._targets, a > i, average=\"micro\"\n",
    "    )[2]\n",
    "    if b > d[0]:\n",
    "        d[0] = b\n",
    "        d[1] = i"
   ]
  },
  {
   "cell_type": "code",
   "execution_count": 216,
   "metadata": {},
   "outputs": [
    {
     "data": {
      "text/plain": [
       "0.12258990140768992"
      ]
     },
     "execution_count": 216,
     "metadata": {},
     "output_type": "execute_result"
    }
   ],
   "source": [
    "sklearn.metrics.precision_recall_fscore_support(\n",
    "    valid._targets, a > 0.5, average=\"macro\"\n",
    ")[2]"
   ]
  },
  {
   "cell_type": "code",
   "execution_count": null,
   "metadata": {},
   "outputs": [],
   "source": []
  },
  {
   "cell_type": "code",
   "execution_count": null,
   "metadata": {},
   "outputs": [],
   "source": []
  },
  {
   "cell_type": "code",
   "execution_count": null,
   "metadata": {},
   "outputs": [],
   "source": []
  },
  {
   "cell_type": "code",
   "execution_count": null,
   "metadata": {},
   "outputs": [],
   "source": []
  },
  {
   "cell_type": "code",
   "execution_count": 209,
   "metadata": {},
   "outputs": [],
   "source": [
    "pd.DataFrame(history_100.history).to_csv(\"history_100.csv\")"
   ]
  },
  {
   "cell_type": "code",
   "execution_count": 70,
   "metadata": {},
   "outputs": [],
   "source": [
    "def f1(recall, precision):\n",
    "    return 2 * ((precision * recall) / (precision + recall))"
   ]
  },
  {
   "cell_type": "code",
   "execution_count": 24,
   "metadata": {},
   "outputs": [
    {
     "data": {
      "text/html": [
       "<div>\n",
       "<style scoped>\n",
       "    .dataframe tbody tr th:only-of-type {\n",
       "        vertical-align: middle;\n",
       "    }\n",
       "\n",
       "    .dataframe tbody tr th {\n",
       "        vertical-align: top;\n",
       "    }\n",
       "\n",
       "    .dataframe thead th {\n",
       "        text-align: right;\n",
       "    }\n",
       "</style>\n",
       "<table border=\"1\" class=\"dataframe\">\n",
       "  <thead>\n",
       "    <tr style=\"text-align: right;\">\n",
       "      <th></th>\n",
       "      <th>loss</th>\n",
       "      <th>categorical_accuracy</th>\n",
       "      <th>recall</th>\n",
       "      <th>precision</th>\n",
       "      <th>f1_score</th>\n",
       "      <th>val_loss</th>\n",
       "      <th>val_categorical_accuracy</th>\n",
       "      <th>val_recall</th>\n",
       "      <th>val_precision</th>\n",
       "      <th>val_f1_score</th>\n",
       "    </tr>\n",
       "  </thead>\n",
       "  <tbody>\n",
       "    <tr>\n",
       "      <th>49</th>\n",
       "      <td>0.280581</td>\n",
       "      <td>0.922514</td>\n",
       "      <td>0.710095</td>\n",
       "      <td>0.954519</td>\n",
       "      <td>0.917384</td>\n",
       "      <td>0.539626</td>\n",
       "      <td>0.894257</td>\n",
       "      <td>0.628882</td>\n",
       "      <td>0.919528</td>\n",
       "      <td>0.889814</td>\n",
       "    </tr>\n",
       "  </tbody>\n",
       "</table>\n",
       "</div>"
      ],
      "text/plain": [
       "        loss  categorical_accuracy    recall  precision  f1_score  val_loss  \\\n",
       "49  0.280581              0.922514  0.710095   0.954519  0.917384  0.539626   \n",
       "\n",
       "    val_categorical_accuracy  val_recall  val_precision  val_f1_score  \n",
       "49                  0.894257    0.628882       0.919528      0.889814  "
      ]
     },
     "execution_count": 24,
     "metadata": {},
     "output_type": "execute_result"
    },
    {
     "data": {
      "text/plain": [
       "Index(['loss', 'categorical_accuracy', 'recall', 'precision', 'f1_score',\n",
       "       'val_loss', 'val_categorical_accuracy', 'val_recall', 'val_precision',\n",
       "       'val_f1_score'],\n",
       "      dtype='object')"
      ]
     },
     "execution_count": 24,
     "metadata": {},
     "output_type": "execute_result"
    }
   ],
   "source": [
    "pd.DataFrame(history.history).tail(1)\n",
    "pd.DataFrame(history.history).columns"
   ]
  },
  {
   "cell_type": "code",
   "execution_count": 25,
   "metadata": {},
   "outputs": [],
   "source": [
    "model.save(\"/app/_data/models/base_model\", save_format=\"h5\")"
   ]
  },
  {
   "cell_type": "code",
   "execution_count": null,
   "metadata": {},
   "outputs": [],
   "source": []
  }
 ],
 "metadata": {
  "kernelspec": {
   "display_name": "Python 3",
   "language": "python",
   "name": "python3"
  },
  "language_info": {
   "codemirror_mode": {
    "name": "ipython",
    "version": 3
   },
   "file_extension": ".py",
   "mimetype": "text/x-python",
   "name": "python",
   "nbconvert_exporter": "python",
   "pygments_lexer": "ipython3",
   "version": "3.8.5"
  }
 },
 "nbformat": 4,
 "nbformat_minor": 4
}
